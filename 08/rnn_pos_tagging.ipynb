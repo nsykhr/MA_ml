{
 "cells": [
  {
   "cell_type": "code",
   "execution_count": 1,
   "metadata": {},
   "outputs": [],
   "source": [
    "import warnings\n",
    "warnings.filterwarnings('ignore')\n",
    "\n",
    "import nltk\n",
    "import numpy as np\n",
    "from collections import Counter\n",
    "from sklearn.model_selection import train_test_split\n",
    "\n",
    "from matplotlib import pyplot as plt\n",
    "\n",
    "\n",
    "from tensorflow.keras.models import Model\n",
    "from tensorflow.keras import regularizers\n",
    "from tensorflow.keras.optimizers import Adam\n",
    "from tensorflow.keras.utils import to_categorical\n",
    "from tensorflow.keras.preprocessing.sequence import pad_sequences\n",
    "from tensorflow.keras.layers import Input, Embedding, Conv1D, LSTM, \\\n",
    "    Bidirectional, TimeDistributed, Dense, Dropout, Flatten, Concatenate\n",
    "from tensorflow.keras.callbacks import EarlyStopping, LearningRateScheduler\n",
    "\n",
    "%matplotlib inline"
   ]
  },
  {
   "cell_type": "code",
   "execution_count": 2,
   "metadata": {},
   "outputs": [
    {
     "data": {
      "text/plain": [
       "[('Pierre', 'NNP'),\n",
       " ('Vinken', 'NNP'),\n",
       " (',', ','),\n",
       " ('61', 'CD'),\n",
       " ('years', 'NNS'),\n",
       " ('old', 'JJ'),\n",
       " (',', ','),\n",
       " ('will', 'MD'),\n",
       " ('join', 'VB'),\n",
       " ('the', 'DT'),\n",
       " ('board', 'NN'),\n",
       " ('as', 'IN'),\n",
       " ('a', 'DT'),\n",
       " ('nonexecutive', 'JJ'),\n",
       " ('director', 'NN'),\n",
       " ('Nov.', 'NNP'),\n",
       " ('29', 'CD'),\n",
       " ('.', '.')]"
      ]
     },
     "execution_count": 2,
     "metadata": {},
     "output_type": "execute_result"
    }
   ],
   "source": [
    "tagged_sentences = nltk.corpus.treebank.tagged_sents()\n",
    "tagged_sentences[0]"
   ]
  },
  {
   "cell_type": "code",
   "execution_count": 3,
   "metadata": {},
   "outputs": [],
   "source": [
    "sentences, sentence_tags = [], []\n",
    "for tagged_sentence in tagged_sentences:\n",
    "    sentence, tags = zip(*tagged_sentence)\n",
    "    sentences.append(sentence)\n",
    "    sentence_tags.append(tags)"
   ]
  },
  {
   "cell_type": "code",
   "execution_count": 4,
   "metadata": {},
   "outputs": [],
   "source": [
    "char_vocab, token_vocab = Counter(), Counter()\n",
    "\n",
    "for sent in sentences:\n",
    "    char_vocab.update(''.join(sent).lower())\n",
    "    tokens = ['<DIGIT>' if word.isdigit() else word.lower() for word in sent]\n",
    "    token_vocab.update(tokens)"
   ]
  },
  {
   "cell_type": "code",
   "execution_count": 5,
   "metadata": {},
   "outputs": [],
   "source": [
    "char_vocab = {char for char in char_vocab if char_vocab[char] > 200}\n",
    "token_vocab = {token for token in token_vocab if token_vocab[token] > 5}"
   ]
  },
  {
   "cell_type": "code",
   "execution_count": 6,
   "metadata": {},
   "outputs": [],
   "source": [
    "char2id = {'<PAD>': 0, '<UNK>': 1}\n",
    "token2id = {'<PAD>': 0, '<UNK>': 1}\n",
    "\n",
    "for i, char in enumerate(char_vocab):\n",
    "    char2id[char] = i + 2\n",
    "\n",
    "for i, token in enumerate(token_vocab):\n",
    "    token2id[token] = i + 2\n",
    "    \n",
    "id2char = {i: char for char, i in char2id.items()}\n",
    "id2token = {i: token for token, i in token2id.items()}"
   ]
  },
  {
   "cell_type": "code",
   "execution_count": 7,
   "metadata": {},
   "outputs": [],
   "source": [
    "tag2id = {'<PAD>': 0}\n",
    "for tags in sentence_tags:\n",
    "    for tag in tags:\n",
    "        if tag.lower() not in tag2id:\n",
    "            tag2id[tag.lower()] = len(tag2id)\n",
    "\n",
    "id2tag = {i: tag for tag, i in tag2id.items()}"
   ]
  },
  {
   "cell_type": "code",
   "execution_count": 8,
   "metadata": {},
   "outputs": [],
   "source": [
    "X_tokens = [[token2id.get(token, token2id['<UNK>']) for token in sentence] for sentence in sentences]\n",
    "X_chars = [[[char2id.get(char, char2id['<UNK>']) for char in token]\n",
    "            for token in sentence] for sentence in sentences]"
   ]
  },
  {
   "cell_type": "code",
   "execution_count": 9,
   "metadata": {},
   "outputs": [],
   "source": [
    "MAX_SENT_LEN = max(map(len, X_tokens))\n",
    "MAX_TOKEN_LEN = max(map(len, [token for sent in X_chars for token in sent]))"
   ]
  },
  {
   "cell_type": "code",
   "execution_count": 10,
   "metadata": {},
   "outputs": [
    {
     "data": {
      "text/plain": [
       "271"
      ]
     },
     "execution_count": 10,
     "metadata": {},
     "output_type": "execute_result"
    }
   ],
   "source": [
    "MAX_SENT_LEN"
   ]
  },
  {
   "cell_type": "code",
   "execution_count": 11,
   "metadata": {},
   "outputs": [
    {
     "data": {
      "text/plain": [
       "24"
      ]
     },
     "execution_count": 11,
     "metadata": {},
     "output_type": "execute_result"
    }
   ],
   "source": [
    "MAX_TOKEN_LEN"
   ]
  },
  {
   "cell_type": "code",
   "execution_count": 12,
   "metadata": {},
   "outputs": [
    {
     "data": {
      "text/plain": [
       "(3914, 271)"
      ]
     },
     "execution_count": 12,
     "metadata": {},
     "output_type": "execute_result"
    }
   ],
   "source": [
    "X_tokens = pad_sequences(X_tokens, maxlen=MAX_SENT_LEN, padding='post')\n",
    "X_tokens.shape"
   ]
  },
  {
   "cell_type": "code",
   "execution_count": 13,
   "metadata": {},
   "outputs": [
    {
     "data": {
      "text/plain": [
       "(3914, 271, 24)"
      ]
     },
     "execution_count": 13,
     "metadata": {},
     "output_type": "execute_result"
    }
   ],
   "source": [
    "X_chars = pad_sequences([pad_sequences(sent, maxlen=MAX_TOKEN_LEN, padding='post') for sent in X_chars],\n",
    "                        maxlen=MAX_SENT_LEN, padding='post')\n",
    "X_chars.shape"
   ]
  },
  {
   "cell_type": "code",
   "execution_count": 14,
   "metadata": {},
   "outputs": [
    {
     "data": {
      "text/plain": [
       "(3914, 271, 47)"
      ]
     },
     "execution_count": 14,
     "metadata": {},
     "output_type": "execute_result"
    }
   ],
   "source": [
    "y = to_categorical(pad_sequences([[tag2id[tag.lower()] for tag in tags] for tags in sentence_tags],\n",
    "                                 maxlen=MAX_SENT_LEN, padding='post'))\n",
    "y.shape"
   ]
  },
  {
   "cell_type": "code",
   "execution_count": 15,
   "metadata": {},
   "outputs": [],
   "source": [
    "X_tokens_train, X_tokens_valid, X_chars_train, X_chars_valid, y_train, y_valid = train_test_split(\n",
    "    X_tokens, X_chars, y, test_size=0.2, random_state=42\n",
    ")"
   ]
  },
  {
   "cell_type": "code",
   "execution_count": 16,
   "metadata": {},
   "outputs": [],
   "source": [
    "def build_model(dropout_rate: float = 0.2, l2_rate: float = 0.001, lr: float = 0.001):\n",
    "    tokens = Input(shape=(MAX_SENT_LEN, ))\n",
    "    chars = Input(shape=(MAX_SENT_LEN, MAX_TOKEN_LEN))\n",
    "    \n",
    "    token_embs = Embedding(len(token2id), 100, mask_zero=True)(tokens)\n",
    "    token_embs = Dropout(dropout_rate)(token_embs)\n",
    "    token_encoded = Bidirectional(LSTM(256, return_sequences=True,\n",
    "                                       kernel_regularizer=regularizers.l2(l2_rate)))(token_embs)\n",
    "    token_encoded = Dropout(dropout_rate)(token_encoded)\n",
    "    \n",
    "    char_embs = Embedding(len(char2id), 30)(chars)\n",
    "    char_embs = Dropout(dropout_rate)(char_embs)\n",
    "    char_conv = TimeDistributed(Conv1D(kernel_size=3, filters=32, strides=1, padding='same',\n",
    "                                       kernel_regularizer=regularizers.l2(l2_rate)))(char_embs)\n",
    "    char_conv = TimeDistributed(Flatten())(char_conv)\n",
    "    char_conv = Dropout(dropout_rate)(char_conv)\n",
    "    \n",
    "    comb_reprs = Concatenate()([token_encoded, char_conv])\n",
    "    encoded = Bidirectional(LSTM(256, return_sequences=True,\n",
    "                                 kernel_regularizer=regularizers.l2(l2_rate)))(comb_reprs)\n",
    "    \n",
    "    outputs = TimeDistributed(Dense(len(tag2id), activation='softmax'))(encoded)\n",
    "    \n",
    "    model = Model(inputs=[tokens, chars], outputs=outputs)\n",
    "    model.compile(optimizer=Adam(lr=lr), loss='categorical_crossentropy', metrics=['accuracy'])\n",
    "    \n",
    "    return model"
   ]
  },
  {
   "cell_type": "code",
   "execution_count": 17,
   "metadata": {},
   "outputs": [
    {
     "name": "stdout",
     "output_type": "stream",
     "text": [
      "__________________________________________________________________________________________________\n",
      "Layer (type)                    Output Shape         Param #     Connected to                     \n",
      "==================================================================================================\n",
      "input_2 (InputLayer)            (None, 271, 24)      0                                            \n",
      "__________________________________________________________________________________________________\n",
      "input_1 (InputLayer)            (None, 271)          0                                            \n",
      "__________________________________________________________________________________________________\n",
      "embedding_1 (Embedding)         (None, 271, 24, 30)  1380        input_2[0][0]                    \n",
      "__________________________________________________________________________________________________\n",
      "embedding (Embedding)           (None, 271, 100)     196000      input_1[0][0]                    \n",
      "__________________________________________________________________________________________________\n",
      "dropout_2 (Dropout)             (None, 271, 24, 30)  0           embedding_1[0][0]                \n",
      "__________________________________________________________________________________________________\n",
      "dropout (Dropout)               (None, 271, 100)     0           embedding[0][0]                  \n",
      "__________________________________________________________________________________________________\n",
      "time_distributed (TimeDistribut (None, 271, 24, 32)  2912        dropout_2[0][0]                  \n",
      "__________________________________________________________________________________________________\n",
      "bidirectional (Bidirectional)   (None, 271, 512)     731136      dropout[0][0]                    \n",
      "__________________________________________________________________________________________________\n",
      "time_distributed_1 (TimeDistrib (None, 271, 768)     0           time_distributed[0][0]           \n",
      "__________________________________________________________________________________________________\n",
      "dropout_1 (Dropout)             (None, 271, 512)     0           bidirectional[0][0]              \n",
      "__________________________________________________________________________________________________\n",
      "dropout_3 (Dropout)             (None, 271, 768)     0           time_distributed_1[0][0]         \n",
      "__________________________________________________________________________________________________\n",
      "concatenate (Concatenate)       (None, 271, 1280)    0           dropout_1[0][0]                  \n",
      "                                                                 dropout_3[0][0]                  \n",
      "__________________________________________________________________________________________________\n",
      "bidirectional_1 (Bidirectional) (None, 271, 512)     3147776     concatenate[0][0]                \n",
      "__________________________________________________________________________________________________\n",
      "time_distributed_2 (TimeDistrib (None, 271, 47)      24111       bidirectional_1[0][0]            \n",
      "==================================================================================================\n",
      "Total params: 4,103,315\n",
      "Trainable params: 4,103,315\n",
      "Non-trainable params: 0\n",
      "__________________________________________________________________________________________________\n"
     ]
    }
   ],
   "source": [
    "model = build_model()\n",
    "model.summary()"
   ]
  },
  {
   "cell_type": "code",
   "execution_count": 18,
   "metadata": {},
   "outputs": [],
   "source": [
    "def scheduler(epoch: int) -> float:\n",
    "    return max(1e-4, 1e-2 * 0.5**(epoch // 10))\n",
    "\n",
    "callbacks = [\n",
    "    EarlyStopping(monitor='val_acc', min_delta=0.01, patience=10, verbose=1, mode='max'),\n",
    "    LearningRateScheduler(scheduler)\n",
    "]"
   ]
  },
  {
   "cell_type": "code",
   "execution_count": 19,
   "metadata": {},
   "outputs": [
    {
     "name": "stdout",
     "output_type": "stream",
     "text": [
      "Train on 3131 samples, validate on 783 samples\n",
      "Epoch 1/100\n",
      "3131/3131 [==============================] - 39s 12ms/step - loss: 4.9139 - acc: 0.1207 - val_loss: 4.1445 - val_acc: 0.2326\n",
      "Epoch 2/100\n",
      "3131/3131 [==============================] - 33s 11ms/step - loss: 3.9346 - acc: 0.3476 - val_loss: 3.3936 - val_acc: 0.4757\n",
      "Epoch 3/100\n",
      "3131/3131 [==============================] - 33s 10ms/step - loss: 2.8967 - acc: 0.5305 - val_loss: 2.3622 - val_acc: 0.5674\n",
      "Epoch 4/100\n",
      "3131/3131 [==============================] - 33s 10ms/step - loss: 2.0538 - acc: 0.6405 - val_loss: 1.6695 - val_acc: 0.7161\n",
      "Epoch 5/100\n",
      "3131/3131 [==============================] - 33s 10ms/step - loss: 1.4731 - acc: 0.7455 - val_loss: 1.2700 - val_acc: 0.7667\n",
      "Epoch 6/100\n",
      "3131/3131 [==============================] - 33s 10ms/step - loss: 1.1552 - acc: 0.7908 - val_loss: 0.9911 - val_acc: 0.8312\n",
      "Epoch 7/100\n",
      "3131/3131 [==============================] - 33s 10ms/step - loss: 0.9411 - acc: 0.8330 - val_loss: 0.8643 - val_acc: 0.8456\n",
      "Epoch 8/100\n",
      "3131/3131 [==============================] - 33s 10ms/step - loss: 0.7888 - acc: 0.8685 - val_loss: 0.7170 - val_acc: 0.8799\n",
      "Epoch 9/100\n",
      "3131/3131 [==============================] - 33s 10ms/step - loss: 0.6681 - acc: 0.8929 - val_loss: 0.6062 - val_acc: 0.9041\n",
      "Epoch 10/100\n",
      "3131/3131 [==============================] - 33s 10ms/step - loss: 0.5850 - acc: 0.9074 - val_loss: 0.5672 - val_acc: 0.9069\n",
      "Epoch 11/100\n",
      "3131/3131 [==============================] - 33s 11ms/step - loss: 0.5170 - acc: 0.9195 - val_loss: 0.4866 - val_acc: 0.9228\n",
      "Epoch 12/100\n",
      "3131/3131 [==============================] - 33s 11ms/step - loss: 0.4731 - acc: 0.9257 - val_loss: 0.4600 - val_acc: 0.9236\n",
      "Epoch 13/100\n",
      "3131/3131 [==============================] - 33s 11ms/step - loss: 0.4416 - acc: 0.9308 - val_loss: 0.4398 - val_acc: 0.9288\n",
      "Epoch 14/100\n",
      "3131/3131 [==============================] - 33s 11ms/step - loss: 0.4249 - acc: 0.9326 - val_loss: 0.4281 - val_acc: 0.9304\n",
      "Epoch 15/100\n",
      "3131/3131 [==============================] - 33s 11ms/step - loss: 0.4100 - acc: 0.9347 - val_loss: 0.4063 - val_acc: 0.9333\n",
      "Epoch 16/100\n",
      "3131/3131 [==============================] - 33s 10ms/step - loss: 0.3831 - acc: 0.9397 - val_loss: 0.4105 - val_acc: 0.9270\n",
      "Epoch 17/100\n",
      "3131/3131 [==============================] - 33s 10ms/step - loss: 0.3798 - acc: 0.9380 - val_loss: 0.3863 - val_acc: 0.9339\n",
      "Epoch 18/100\n",
      "3131/3131 [==============================] - 33s 10ms/step - loss: 0.3612 - acc: 0.9418 - val_loss: 0.3761 - val_acc: 0.9355\n",
      "Epoch 19/100\n",
      "3131/3131 [==============================] - 33s 10ms/step - loss: 0.3494 - acc: 0.9433 - val_loss: 0.3884 - val_acc: 0.9314\n",
      "Epoch 20/100\n",
      "3131/3131 [==============================] - 33s 10ms/step - loss: 0.3426 - acc: 0.9436 - val_loss: 0.3692 - val_acc: 0.9330\n",
      "Epoch 21/100\n",
      "3131/3131 [==============================] - 33s 10ms/step - loss: 0.3239 - acc: 0.9476 - val_loss: 0.3513 - val_acc: 0.9365\n",
      "Epoch 22/100\n",
      "3131/3131 [==============================] - 33s 11ms/step - loss: 0.3107 - acc: 0.9501 - val_loss: 0.3436 - val_acc: 0.9370\n",
      "Epoch 23/100\n",
      "3131/3131 [==============================] - 33s 11ms/step - loss: 0.3008 - acc: 0.9523 - val_loss: 0.3396 - val_acc: 0.9374\n",
      "Epoch 24/100\n",
      "3131/3131 [==============================] - 33s 11ms/step - loss: 0.2913 - acc: 0.9542 - val_loss: 0.3362 - val_acc: 0.9369\n",
      "Epoch 25/100\n",
      "3131/3131 [==============================] - 33s 11ms/step - loss: 0.2881 - acc: 0.9539 - val_loss: 0.3318 - val_acc: 0.9368\n",
      "Epoch 00025: early stopping\n"
     ]
    },
    {
     "data": {
      "text/plain": [
       "<tensorflow.python.keras.callbacks.History at 0x7f70e088d4a8>"
      ]
     },
     "execution_count": 19,
     "metadata": {},
     "output_type": "execute_result"
    }
   ],
   "source": [
    "model.fit([X_tokens_train, X_chars_train], y_train,\n",
    "          validation_data=([X_tokens_valid, X_chars_valid], y_valid),\n",
    "          batch_size=256,\n",
    "          epochs=100,\n",
    "          callbacks=callbacks\n",
    "         )"
   ]
  },
  {
   "cell_type": "code",
   "execution_count": 21,
   "metadata": {},
   "outputs": [
    {
     "data": {
      "image/png": "[encoded data removed]",
      "text/plain": [
       "<Figure size 432x288 with 1 Axes>"
      ]
     },
     "metadata": {},
     "output_type": "display_data"
    }
   ],
   "source": [
    "plt.plot(model.history.history['acc'])\n",
    "plt.plot(model.history.history['val_acc'])\n",
    "plt.title('Model accuracy')\n",
    "plt.ylabel('accuracy')\n",
    "plt.xlabel('epoch')\n",
    "plt.legend(['train', 'val'], loc='upper_left')\n",
    "plt.show()"
   ]
  },
  {
   "cell_type": "code",
   "execution_count": 33,
   "metadata": {},
   "outputs": [],
   "source": [
    "from typing import List\n",
    "\n",
    "def inference(sentence: List[str]) -> List[str]:\n",
    "    token_ids = pad_sequences([[token2id.get(token, token2id['<UNK>']) for token in sentence]],\n",
    "                              maxlen=MAX_SENT_LEN, padding='post')\n",
    "    char_ids = pad_sequences([pad_sequences([[char2id.get(char, char2id['<UNK>']) for char in token] for token in sentence],\n",
    "                                            maxlen=MAX_TOKEN_LEN, padding='post')], maxlen=MAX_SENT_LEN, padding='post')\n",
    "    preds = np.argmax(model.predict([token_ids, char_ids])[0], axis=-1)\n",
    "    \n",
    "    return [id2tag[i] for i, _ in zip(preds, tokens)]"
   ]
  },
  {
   "cell_type": "code",
   "execution_count": 35,
   "metadata": {},
   "outputs": [
    {
     "name": "stdout",
     "output_type": "stream",
     "text": [
      "But\tcc\n",
      "Coleco\tnnp\n",
      "bounced\tvbd\n",
      "back\trb\n",
      "with\tin\n",
      "the\tdt\n",
      "introduction\tnn\n",
      "of\tin\n",
      "the\tdt\n",
      "Cabbage\tnnp\n",
      "Patch\tnnp\n",
      "dolls\tnns\n",
      ",\t,\n",
      "whose\twp$\n",
      "sales\tnns\n",
      "*T*-1\t-none-\n",
      "hit\tvbd\n",
      "\n",
      "These\tdt\n",
      "funds\tnns\n",
      "now\trb\n",
      "account\tvbp\n",
      "for\tin\n",
      "several\tjj\n",
      "billions\tnns\n",
      "of\tin\n",
      "dollars\tnns\n",
      "in\tin\n",
      "assets\tnns\n",
      ".\t.\n",
      "\n",
      "``\t``\n",
      "And\tcc\n",
      "as\tin\n",
      "a\tdt\n",
      "leading\tvbg\n",
      "investment\tnn\n",
      "and\tcc\n",
      "merchant\tnn\n",
      "banking\tnn\n",
      "firm\tnn\n",
      ",\t,\n",
      "the\tdt\n",
      "fact\tnn\n",
      "that\tin\n",
      "we\tprp\n",
      "are\tvbp\n",
      "no\trb\n",
      "\n"
     ]
    }
   ],
   "source": [
    "for i in np.random.randint(0, len(sentences), 3):\n",
    "    sentence = sentences[i]\n",
    "    preds = inference(sentences[i])\n",
    "    print('\\n'.join(['\\t'.join((token, tag)) for token, tag in zip(sentence, preds)]))\n",
    "    print()"
   ]
  },
  {
   "cell_type": "markdown",
   "metadata": {},
   "source": [
    "Conclusion: the addition of character-level features allowed us to easily train a well-performing model for our task which was completely impossible with only word-level features. Furthermore, using L2 regularization and dropout allowed us to almost completely avoid overfitting."
   ]
  },
  {
   "cell_type": "code",
   "execution_count": null,
   "metadata": {},
   "outputs": [],
   "source": []
  }
 ],
 "metadata": {
  "kernelspec": {
   "display_name": "nlp",
   "language": "python",
   "name": "nlp"
  },
  "language_info": {
   "codemirror_mode": {
    "name": "ipython",
    "version": 3
   },
   "file_extension": ".py",
   "mimetype": "text/x-python",
   "name": "python",
   "nbconvert_exporter": "python",
   "pygments_lexer": "ipython3",
   "version": "3.6.3"
  }
 },
 "nbformat": 4,
 "nbformat_minor": 2
}

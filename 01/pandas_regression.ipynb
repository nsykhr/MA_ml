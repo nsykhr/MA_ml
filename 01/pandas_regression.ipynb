{
 "cells": [
  {
   "cell_type": "markdown",
   "metadata": {},
   "source": [
    "# Part 1"
   ]
  },
  {
   "cell_type": "code",
   "execution_count": 1,
   "metadata": {},
   "outputs": [],
   "source": [
    "import pandas as pd"
   ]
  },
  {
   "cell_type": "code",
   "execution_count": 2,
   "metadata": {},
   "outputs": [],
   "source": [
    "weather_hist = pd.read_csv('data/weatherHistory.csv')"
   ]
  },
  {
   "cell_type": "code",
   "execution_count": 3,
   "metadata": {},
   "outputs": [],
   "source": [
    "weather_hist.rename({\n",
    "    'Formatted Date': 'date',\n",
    "    'Temperature (C)': 'temp',\n",
    "    'Apparent Temperature (C)': 'temp_app',\n",
    "    'Precip Type': 'weather_type',\n",
    "    'Wind Speed (km/h)': 'wind_speed',\n",
    "    'Humidity': 'humidity',\n",
    "    'Daily Summary': 'summary'\n",
    "},\n",
    "    axis=1, inplace=True)"
   ]
  },
  {
   "cell_type": "code",
   "execution_count": 4,
   "metadata": {},
   "outputs": [],
   "source": [
    "weather_hist.loc[:, 'date'] = weather_hist.date.apply(pd.to_datetime)"
   ]
  },
  {
   "cell_type": "markdown",
   "metadata": {},
   "source": [
    "## The coldest day"
   ]
  },
  {
   "cell_type": "markdown",
   "metadata": {},
   "source": [
    "By real temperature:"
   ]
  },
  {
   "cell_type": "code",
   "execution_count": 5,
   "metadata": {},
   "outputs": [
    {
     "name": "stdout",
     "output_type": "stream",
     "text": [
      "The coldest day in Szeged was on 2012-02-10, it was just -21.822222222222226 degrees.\n"
     ]
    }
   ],
   "source": [
    "coldest_day = weather_hist.loc[weather_hist.temp.idxmin()]\n",
    "print('The coldest day in Szeged was on',\n",
    "      str(pd.to_datetime(coldest_day.date).date())\n",
    "      + ', it was just', str(coldest_day.temp), 'degrees.')"
   ]
  },
  {
   "cell_type": "markdown",
   "metadata": {},
   "source": [
    "By apparent temperature:"
   ]
  },
  {
   "cell_type": "code",
   "execution_count": 6,
   "metadata": {},
   "outputs": [
    {
     "name": "stdout",
     "output_type": "stream",
     "text": [
      "The apparent coldest day in Szeged was on 2012-02-11, it was just -20.0 degrees.\n"
     ]
    }
   ],
   "source": [
    "coldest_day_app = weather_hist.loc[weather_hist.temp_app.idxmin()]\n",
    "print('The apparent coldest day in Szeged was on',\n",
    "      str(pd.to_datetime(coldest_day_app.date).date())\n",
    "      + ', it was just', str(coldest_day_app.temp), 'degrees.')"
   ]
  },
  {
   "cell_type": "markdown",
   "metadata": {},
   "source": [
    "## The most windy day"
   ]
  },
  {
   "cell_type": "code",
   "execution_count": 7,
   "metadata": {},
   "outputs": [
    {
     "name": "stdout",
     "output_type": "stream",
     "text": [
      "The most windy day in Szeged was on 2007-01-29, with wind speed reaching 63.8526 km/h.\n"
     ]
    }
   ],
   "source": [
    "most_windy_day = weather_hist.loc[weather_hist.wind_speed.idxmax()]\n",
    "print('The most windy day in Szeged was on',\n",
    "      str(pd.to_datetime(most_windy_day.date).date())\n",
    "      + ', with wind speed reaching', str(most_windy_day.wind_speed), 'km/h.')"
   ]
  },
  {
   "cell_type": "markdown",
   "metadata": {},
   "source": [
    "## How many rainy days there were during the summer of 2014"
   ]
  },
  {
   "cell_type": "code",
   "execution_count": 8,
   "metadata": {},
   "outputs": [
    {
     "name": "stdout",
     "output_type": "stream",
     "text": [
      "There were 92 rainy days in Szeget during the summer of 2014.\n"
     ]
    }
   ],
   "source": [
    "rainy_days = weather_hist[weather_hist.weather_type == 'rain']\n",
    "rainy_days = rainy_days[[x.date.year == 2014 and x.date.month in (6, 7, 8)\n",
    "                         for _, x in rainy_days.iterrows()]]\n",
    "rainy_days = set(rainy_days.date.apply(lambda x: x.date()))\n",
    "\n",
    "print(f'There were {len(rainy_days)} rainy days in Szeget during the summer of 2014.')"
   ]
  },
  {
   "cell_type": "markdown",
   "metadata": {},
   "source": [
    "## groupby"
   ]
  },
  {
   "cell_type": "code",
   "execution_count": 9,
   "metadata": {},
   "outputs": [],
   "source": [
    "weather_hist['year'] = weather_hist.date.apply(lambda x: x.year)\n",
    "weather_hist['month'] = weather_hist.date.apply(lambda x: x.month)\n",
    "weather_hist['week'] = weather_hist.date.apply(lambda x: x.week)"
   ]
  },
  {
   "cell_type": "markdown",
   "metadata": {},
   "source": [
    "### The most windy month"
   ]
  },
  {
   "cell_type": "code",
   "execution_count": 10,
   "metadata": {},
   "outputs": [
    {
     "data": {
      "text/html": [
       "<div>\n",
       "<style scoped>\n",
       "    .dataframe tbody tr th:only-of-type {\n",
       "        vertical-align: middle;\n",
       "    }\n",
       "\n",
       "    .dataframe tbody tr th {\n",
       "        vertical-align: top;\n",
       "    }\n",
       "\n",
       "    .dataframe thead tr th {\n",
       "        text-align: left;\n",
       "    }\n",
       "\n",
       "    .dataframe thead tr:last-of-type th {\n",
       "        text-align: right;\n",
       "    }\n",
       "</style>\n",
       "<table border=\"1\" class=\"dataframe\">\n",
       "  <thead>\n",
       "    <tr>\n",
       "      <th></th>\n",
       "      <th>temp</th>\n",
       "      <th>temp_app</th>\n",
       "      <th>humidity</th>\n",
       "      <th>wind_speed</th>\n",
       "      <th>Wind Bearing (degrees)</th>\n",
       "      <th>Visibility (km)</th>\n",
       "      <th>Loud Cover</th>\n",
       "      <th>Pressure (millibars)</th>\n",
       "      <th>year</th>\n",
       "      <th>week</th>\n",
       "    </tr>\n",
       "    <tr>\n",
       "      <th></th>\n",
       "      <th>mean</th>\n",
       "      <th>mean</th>\n",
       "      <th>mean</th>\n",
       "      <th>mean</th>\n",
       "      <th>mean</th>\n",
       "      <th>mean</th>\n",
       "      <th>mean</th>\n",
       "      <th>mean</th>\n",
       "      <th>mean</th>\n",
       "      <th>mean</th>\n",
       "    </tr>\n",
       "    <tr>\n",
       "      <th>month</th>\n",
       "      <th></th>\n",
       "      <th></th>\n",
       "      <th></th>\n",
       "      <th></th>\n",
       "      <th></th>\n",
       "      <th></th>\n",
       "      <th></th>\n",
       "      <th></th>\n",
       "      <th></th>\n",
       "      <th></th>\n",
       "    </tr>\n",
       "  </thead>\n",
       "  <tbody>\n",
       "    <tr>\n",
       "      <td>1</td>\n",
       "      <td>0.813890</td>\n",
       "      <td>-1.939615</td>\n",
       "      <td>0.850723</td>\n",
       "      <td>11.512816</td>\n",
       "      <td>180.405425</td>\n",
       "      <td>7.830584</td>\n",
       "      <td>0.0</td>\n",
       "      <td>1006.125792</td>\n",
       "      <td>2011.000000</td>\n",
       "      <td>4.255132</td>\n",
       "    </tr>\n",
       "    <tr>\n",
       "      <td>2</td>\n",
       "      <td>2.159699</td>\n",
       "      <td>-0.565343</td>\n",
       "      <td>0.813400</td>\n",
       "      <td>12.185543</td>\n",
       "      <td>188.717176</td>\n",
       "      <td>8.731368</td>\n",
       "      <td>0.0</td>\n",
       "      <td>1003.929313</td>\n",
       "      <td>2011.009646</td>\n",
       "      <td>6.948553</td>\n",
       "    </tr>\n",
       "    <tr>\n",
       "      <td>3</td>\n",
       "      <td>6.906599</td>\n",
       "      <td>5.074268</td>\n",
       "      <td>0.702966</td>\n",
       "      <td>13.405461</td>\n",
       "      <td>186.538480</td>\n",
       "      <td>10.910450</td>\n",
       "      <td>0.0</td>\n",
       "      <td>1001.551536</td>\n",
       "      <td>2011.000000</td>\n",
       "      <td>11.180105</td>\n",
       "    </tr>\n",
       "    <tr>\n",
       "      <td>4</td>\n",
       "      <td>12.756417</td>\n",
       "      <td>12.141164</td>\n",
       "      <td>0.641133</td>\n",
       "      <td>11.893094</td>\n",
       "      <td>186.653157</td>\n",
       "      <td>11.784224</td>\n",
       "      <td>0.0</td>\n",
       "      <td>1009.996332</td>\n",
       "      <td>2011.000000</td>\n",
       "      <td>15.539394</td>\n",
       "    </tr>\n",
       "    <tr>\n",
       "      <td>5</td>\n",
       "      <td>16.873692</td>\n",
       "      <td>16.732751</td>\n",
       "      <td>0.691325</td>\n",
       "      <td>10.959337</td>\n",
       "      <td>188.071237</td>\n",
       "      <td>11.892754</td>\n",
       "      <td>0.0</td>\n",
       "      <td>1003.499530</td>\n",
       "      <td>2011.000000</td>\n",
       "      <td>19.894428</td>\n",
       "    </tr>\n",
       "    <tr>\n",
       "      <td>6</td>\n",
       "      <td>20.715617</td>\n",
       "      <td>20.742264</td>\n",
       "      <td>0.686470</td>\n",
       "      <td>9.626471</td>\n",
       "      <td>202.780808</td>\n",
       "      <td>11.990266</td>\n",
       "      <td>0.0</td>\n",
       "      <td>1001.883742</td>\n",
       "      <td>2011.000000</td>\n",
       "      <td>24.254545</td>\n",
       "    </tr>\n",
       "    <tr>\n",
       "      <td>7</td>\n",
       "      <td>22.963943</td>\n",
       "      <td>22.976086</td>\n",
       "      <td>0.639657</td>\n",
       "      <td>9.639907</td>\n",
       "      <td>202.812248</td>\n",
       "      <td>12.187820</td>\n",
       "      <td>0.0</td>\n",
       "      <td>1008.566431</td>\n",
       "      <td>2010.998900</td>\n",
       "      <td>28.609828</td>\n",
       "    </tr>\n",
       "    <tr>\n",
       "      <td>8</td>\n",
       "      <td>22.345031</td>\n",
       "      <td>22.270497</td>\n",
       "      <td>0.635542</td>\n",
       "      <td>8.933431</td>\n",
       "      <td>195.329800</td>\n",
       "      <td>12.455549</td>\n",
       "      <td>0.0</td>\n",
       "      <td>1001.716944</td>\n",
       "      <td>2010.997076</td>\n",
       "      <td>33.032164</td>\n",
       "    </tr>\n",
       "    <tr>\n",
       "      <td>9</td>\n",
       "      <td>17.516790</td>\n",
       "      <td>17.404283</td>\n",
       "      <td>0.688790</td>\n",
       "      <td>9.621813</td>\n",
       "      <td>187.667424</td>\n",
       "      <td>11.602874</td>\n",
       "      <td>0.0</td>\n",
       "      <td>1000.565347</td>\n",
       "      <td>2011.000000</td>\n",
       "      <td>37.396970</td>\n",
       "    </tr>\n",
       "    <tr>\n",
       "      <td>10</td>\n",
       "      <td>11.342247</td>\n",
       "      <td>10.694346</td>\n",
       "      <td>0.774554</td>\n",
       "      <td>10.000153</td>\n",
       "      <td>176.912630</td>\n",
       "      <td>9.741691</td>\n",
       "      <td>0.0</td>\n",
       "      <td>1003.243458</td>\n",
       "      <td>2011.000000</td>\n",
       "      <td>41.755339</td>\n",
       "    </tr>\n",
       "    <tr>\n",
       "      <td>11</td>\n",
       "      <td>6.589907</td>\n",
       "      <td>5.023180</td>\n",
       "      <td>0.827828</td>\n",
       "      <td>10.944266</td>\n",
       "      <td>173.139015</td>\n",
       "      <td>8.191229</td>\n",
       "      <td>0.0</td>\n",
       "      <td>1012.297027</td>\n",
       "      <td>2011.000000</td>\n",
       "      <td>46.109091</td>\n",
       "    </tr>\n",
       "    <tr>\n",
       "      <td>12</td>\n",
       "      <td>1.633742</td>\n",
       "      <td>-0.951272</td>\n",
       "      <td>0.870390</td>\n",
       "      <td>11.098682</td>\n",
       "      <td>181.191838</td>\n",
       "      <td>6.773288</td>\n",
       "      <td>0.0</td>\n",
       "      <td>985.901753</td>\n",
       "      <td>2011.000000</td>\n",
       "      <td>48.944282</td>\n",
       "    </tr>\n",
       "  </tbody>\n",
       "</table>\n",
       "</div>"
      ],
      "text/plain": [
       "            temp   temp_app  humidity wind_speed Wind Bearing (degrees)  \\\n",
       "            mean       mean      mean       mean                   mean   \n",
       "month                                                                     \n",
       "1       0.813890  -1.939615  0.850723  11.512816             180.405425   \n",
       "2       2.159699  -0.565343  0.813400  12.185543             188.717176   \n",
       "3       6.906599   5.074268  0.702966  13.405461             186.538480   \n",
       "4      12.756417  12.141164  0.641133  11.893094             186.653157   \n",
       "5      16.873692  16.732751  0.691325  10.959337             188.071237   \n",
       "6      20.715617  20.742264  0.686470   9.626471             202.780808   \n",
       "7      22.963943  22.976086  0.639657   9.639907             202.812248   \n",
       "8      22.345031  22.270497  0.635542   8.933431             195.329800   \n",
       "9      17.516790  17.404283  0.688790   9.621813             187.667424   \n",
       "10     11.342247  10.694346  0.774554  10.000153             176.912630   \n",
       "11      6.589907   5.023180  0.827828  10.944266             173.139015   \n",
       "12      1.633742  -0.951272  0.870390  11.098682             181.191838   \n",
       "\n",
       "      Visibility (km) Loud Cover Pressure (millibars)         year       week  \n",
       "                 mean       mean                 mean         mean       mean  \n",
       "month                                                                          \n",
       "1            7.830584        0.0          1006.125792  2011.000000   4.255132  \n",
       "2            8.731368        0.0          1003.929313  2011.009646   6.948553  \n",
       "3           10.910450        0.0          1001.551536  2011.000000  11.180105  \n",
       "4           11.784224        0.0          1009.996332  2011.000000  15.539394  \n",
       "5           11.892754        0.0          1003.499530  2011.000000  19.894428  \n",
       "6           11.990266        0.0          1001.883742  2011.000000  24.254545  \n",
       "7           12.187820        0.0          1008.566431  2010.998900  28.609828  \n",
       "8           12.455549        0.0          1001.716944  2010.997076  33.032164  \n",
       "9           11.602874        0.0          1000.565347  2011.000000  37.396970  \n",
       "10           9.741691        0.0          1003.243458  2011.000000  41.755339  \n",
       "11           8.191229        0.0          1012.297027  2011.000000  46.109091  \n",
       "12           6.773288        0.0           985.901753  2011.000000  48.944282  "
      ]
     },
     "execution_count": 10,
     "metadata": {},
     "output_type": "execute_result"
    }
   ],
   "source": [
    "weather_hist.groupby('month').agg(['mean'])"
   ]
  },
  {
   "cell_type": "markdown",
   "metadata": {},
   "source": [
    "The most windy month is March."
   ]
  },
  {
   "cell_type": "markdown",
   "metadata": {},
   "source": [
    "### The most humid year"
   ]
  },
  {
   "cell_type": "code",
   "execution_count": 11,
   "metadata": {},
   "outputs": [
    {
     "data": {
      "text/html": [
       "<div>\n",
       "<style scoped>\n",
       "    .dataframe tbody tr th:only-of-type {\n",
       "        vertical-align: middle;\n",
       "    }\n",
       "\n",
       "    .dataframe tbody tr th {\n",
       "        vertical-align: top;\n",
       "    }\n",
       "\n",
       "    .dataframe thead tr th {\n",
       "        text-align: left;\n",
       "    }\n",
       "\n",
       "    .dataframe thead tr:last-of-type th {\n",
       "        text-align: right;\n",
       "    }\n",
       "</style>\n",
       "<table border=\"1\" class=\"dataframe\">\n",
       "  <thead>\n",
       "    <tr>\n",
       "      <th></th>\n",
       "      <th>temp</th>\n",
       "      <th>temp_app</th>\n",
       "      <th>humidity</th>\n",
       "      <th>wind_speed</th>\n",
       "      <th>Wind Bearing (degrees)</th>\n",
       "      <th>Visibility (km)</th>\n",
       "      <th>Loud Cover</th>\n",
       "      <th>Pressure (millibars)</th>\n",
       "      <th>month</th>\n",
       "      <th>week</th>\n",
       "    </tr>\n",
       "    <tr>\n",
       "      <th></th>\n",
       "      <th>mean</th>\n",
       "      <th>mean</th>\n",
       "      <th>mean</th>\n",
       "      <th>mean</th>\n",
       "      <th>mean</th>\n",
       "      <th>mean</th>\n",
       "      <th>mean</th>\n",
       "      <th>mean</th>\n",
       "      <th>mean</th>\n",
       "      <th>mean</th>\n",
       "    </tr>\n",
       "    <tr>\n",
       "      <th>year</th>\n",
       "      <th></th>\n",
       "      <th></th>\n",
       "      <th></th>\n",
       "      <th></th>\n",
       "      <th></th>\n",
       "      <th></th>\n",
       "      <th></th>\n",
       "      <th></th>\n",
       "      <th></th>\n",
       "      <th></th>\n",
       "    </tr>\n",
       "  </thead>\n",
       "  <tbody>\n",
       "    <tr>\n",
       "      <td>2006</td>\n",
       "      <td>11.215365</td>\n",
       "      <td>10.158215</td>\n",
       "      <td>0.767341</td>\n",
       "      <td>10.189852</td>\n",
       "      <td>189.342808</td>\n",
       "      <td>9.758083</td>\n",
       "      <td>0.0</td>\n",
       "      <td>992.543529</td>\n",
       "      <td>6.526826</td>\n",
       "      <td>26.573402</td>\n",
       "    </tr>\n",
       "    <tr>\n",
       "      <td>2007</td>\n",
       "      <td>12.135239</td>\n",
       "      <td>11.063135</td>\n",
       "      <td>0.689652</td>\n",
       "      <td>10.825392</td>\n",
       "      <td>194.119292</td>\n",
       "      <td>10.408191</td>\n",
       "      <td>0.0</td>\n",
       "      <td>1001.640226</td>\n",
       "      <td>6.526826</td>\n",
       "      <td>26.433676</td>\n",
       "    </tr>\n",
       "    <tr>\n",
       "      <td>2008</td>\n",
       "      <td>12.161876</td>\n",
       "      <td>11.053184</td>\n",
       "      <td>0.701237</td>\n",
       "      <td>11.303897</td>\n",
       "      <td>193.825250</td>\n",
       "      <td>10.267119</td>\n",
       "      <td>0.0</td>\n",
       "      <td>1007.734504</td>\n",
       "      <td>6.514458</td>\n",
       "      <td>26.364071</td>\n",
       "    </tr>\n",
       "    <tr>\n",
       "      <td>2009</td>\n",
       "      <td>12.267910</td>\n",
       "      <td>11.069337</td>\n",
       "      <td>0.707247</td>\n",
       "      <td>11.505948</td>\n",
       "      <td>180.496461</td>\n",
       "      <td>10.001370</td>\n",
       "      <td>0.0</td>\n",
       "      <td>1002.608735</td>\n",
       "      <td>6.526826</td>\n",
       "      <td>27.003425</td>\n",
       "    </tr>\n",
       "    <tr>\n",
       "      <td>2010</td>\n",
       "      <td>11.202061</td>\n",
       "      <td>10.098643</td>\n",
       "      <td>0.796858</td>\n",
       "      <td>11.015628</td>\n",
       "      <td>192.067509</td>\n",
       "      <td>9.140810</td>\n",
       "      <td>0.0</td>\n",
       "      <td>1004.811891</td>\n",
       "      <td>6.530852</td>\n",
       "      <td>26.593693</td>\n",
       "    </tr>\n",
       "    <tr>\n",
       "      <td>2011</td>\n",
       "      <td>11.524453</td>\n",
       "      <td>10.584294</td>\n",
       "      <td>0.736017</td>\n",
       "      <td>9.898262</td>\n",
       "      <td>189.342352</td>\n",
       "      <td>9.507929</td>\n",
       "      <td>0.0</td>\n",
       "      <td>1014.184075</td>\n",
       "      <td>6.526826</td>\n",
       "      <td>26.573402</td>\n",
       "    </tr>\n",
       "    <tr>\n",
       "      <td>2012</td>\n",
       "      <td>11.986726</td>\n",
       "      <td>10.753081</td>\n",
       "      <td>0.689500</td>\n",
       "      <td>11.264545</td>\n",
       "      <td>187.755692</td>\n",
       "      <td>10.363108</td>\n",
       "      <td>0.0</td>\n",
       "      <td>999.341481</td>\n",
       "      <td>6.514458</td>\n",
       "      <td>26.503529</td>\n",
       "    </tr>\n",
       "    <tr>\n",
       "      <td>2013</td>\n",
       "      <td>11.940719</td>\n",
       "      <td>10.825320</td>\n",
       "      <td>0.754209</td>\n",
       "      <td>10.969389</td>\n",
       "      <td>187.861758</td>\n",
       "      <td>10.892049</td>\n",
       "      <td>0.0</td>\n",
       "      <td>1004.950764</td>\n",
       "      <td>6.526826</td>\n",
       "      <td>26.433562</td>\n",
       "    </tr>\n",
       "    <tr>\n",
       "      <td>2014</td>\n",
       "      <td>12.529737</td>\n",
       "      <td>11.628703</td>\n",
       "      <td>0.748578</td>\n",
       "      <td>10.502473</td>\n",
       "      <td>178.226219</td>\n",
       "      <td>11.320806</td>\n",
       "      <td>0.0</td>\n",
       "      <td>987.394676</td>\n",
       "      <td>6.526664</td>\n",
       "      <td>26.432682</td>\n",
       "    </tr>\n",
       "    <tr>\n",
       "      <td>2015</td>\n",
       "      <td>12.311370</td>\n",
       "      <td>11.340911</td>\n",
       "      <td>0.732355</td>\n",
       "      <td>10.735247</td>\n",
       "      <td>184.098174</td>\n",
       "      <td>10.912786</td>\n",
       "      <td>0.0</td>\n",
       "      <td>1005.179401</td>\n",
       "      <td>6.526826</td>\n",
       "      <td>27.003425</td>\n",
       "    </tr>\n",
       "    <tr>\n",
       "      <td>2016</td>\n",
       "      <td>11.985292</td>\n",
       "      <td>10.832629</td>\n",
       "      <td>0.760874</td>\n",
       "      <td>10.703441</td>\n",
       "      <td>185.438069</td>\n",
       "      <td>11.249668</td>\n",
       "      <td>0.0</td>\n",
       "      <td>1015.162161</td>\n",
       "      <td>6.514458</td>\n",
       "      <td>26.651070</td>\n",
       "    </tr>\n",
       "  </tbody>\n",
       "</table>\n",
       "</div>"
      ],
      "text/plain": [
       "           temp   temp_app  humidity wind_speed Wind Bearing (degrees)  \\\n",
       "           mean       mean      mean       mean                   mean   \n",
       "year                                                                     \n",
       "2006  11.215365  10.158215  0.767341  10.189852             189.342808   \n",
       "2007  12.135239  11.063135  0.689652  10.825392             194.119292   \n",
       "2008  12.161876  11.053184  0.701237  11.303897             193.825250   \n",
       "2009  12.267910  11.069337  0.707247  11.505948             180.496461   \n",
       "2010  11.202061  10.098643  0.796858  11.015628             192.067509   \n",
       "2011  11.524453  10.584294  0.736017   9.898262             189.342352   \n",
       "2012  11.986726  10.753081  0.689500  11.264545             187.755692   \n",
       "2013  11.940719  10.825320  0.754209  10.969389             187.861758   \n",
       "2014  12.529737  11.628703  0.748578  10.502473             178.226219   \n",
       "2015  12.311370  11.340911  0.732355  10.735247             184.098174   \n",
       "2016  11.985292  10.832629  0.760874  10.703441             185.438069   \n",
       "\n",
       "     Visibility (km) Loud Cover Pressure (millibars)     month       week  \n",
       "                mean       mean                 mean      mean       mean  \n",
       "year                                                                       \n",
       "2006        9.758083        0.0           992.543529  6.526826  26.573402  \n",
       "2007       10.408191        0.0          1001.640226  6.526826  26.433676  \n",
       "2008       10.267119        0.0          1007.734504  6.514458  26.364071  \n",
       "2009       10.001370        0.0          1002.608735  6.526826  27.003425  \n",
       "2010        9.140810        0.0          1004.811891  6.530852  26.593693  \n",
       "2011        9.507929        0.0          1014.184075  6.526826  26.573402  \n",
       "2012       10.363108        0.0           999.341481  6.514458  26.503529  \n",
       "2013       10.892049        0.0          1004.950764  6.526826  26.433562  \n",
       "2014       11.320806        0.0           987.394676  6.526664  26.432682  \n",
       "2015       10.912786        0.0          1005.179401  6.526826  27.003425  \n",
       "2016       11.249668        0.0          1015.162161  6.514458  26.651070  "
      ]
     },
     "execution_count": 11,
     "metadata": {},
     "output_type": "execute_result"
    }
   ],
   "source": [
    "weather_hist.groupby('year').agg(['mean'])"
   ]
  },
  {
   "cell_type": "markdown",
   "metadata": {},
   "source": [
    "The most humid year is 2010."
   ]
  },
  {
   "cell_type": "markdown",
   "metadata": {},
   "source": [
    "### The week with the most unstable weather"
   ]
  },
  {
   "cell_type": "code",
   "execution_count": 12,
   "metadata": {},
   "outputs": [],
   "source": [
    "week_range_data = weather_hist[['temp', 'temp_app', 'wind_speed', 'week']].\\\n",
    "    groupby('week').agg(['max', 'min'])\n",
    "weather_range = pd.Series([0.] * (len(week_range_data)))\n",
    "weather_range.index += 1\n",
    "week_range_data['range'] = weather_range"
   ]
  },
  {
   "cell_type": "code",
   "execution_count": 13,
   "metadata": {},
   "outputs": [],
   "source": [
    "for feature in ['temp', 'temp_app', 'wind_speed']:\n",
    "    feature_range = week_range_data[feature]['max'] - week_range_data[feature]['min']\n",
    "    mean = feature_range.mean()\n",
    "    std = feature_range.std()\n",
    "    week_range_data['range'] += (feature_range - mean) / std"
   ]
  },
  {
   "cell_type": "code",
   "execution_count": 14,
   "metadata": {},
   "outputs": [
    {
     "data": {
      "text/html": [
       "<div>\n",
       "<style scoped>\n",
       "    .dataframe tbody tr th:only-of-type {\n",
       "        vertical-align: middle;\n",
       "    }\n",
       "\n",
       "    .dataframe tbody tr th {\n",
       "        vertical-align: top;\n",
       "    }\n",
       "\n",
       "    .dataframe thead tr th {\n",
       "        text-align: left;\n",
       "    }\n",
       "\n",
       "    .dataframe thead tr:last-of-type th {\n",
       "        text-align: right;\n",
       "    }\n",
       "</style>\n",
       "<table border=\"1\" class=\"dataframe\">\n",
       "  <thead>\n",
       "    <tr>\n",
       "      <th></th>\n",
       "      <th colspan=\"2\" halign=\"left\">temp</th>\n",
       "      <th colspan=\"2\" halign=\"left\">temp_app</th>\n",
       "      <th colspan=\"2\" halign=\"left\">wind_speed</th>\n",
       "      <th>range</th>\n",
       "    </tr>\n",
       "    <tr>\n",
       "      <th></th>\n",
       "      <th>max</th>\n",
       "      <th>min</th>\n",
       "      <th>max</th>\n",
       "      <th>min</th>\n",
       "      <th>max</th>\n",
       "      <th>min</th>\n",
       "      <th></th>\n",
       "    </tr>\n",
       "    <tr>\n",
       "      <th>week</th>\n",
       "      <th></th>\n",
       "      <th></th>\n",
       "      <th></th>\n",
       "      <th></th>\n",
       "      <th></th>\n",
       "      <th></th>\n",
       "      <th></th>\n",
       "    </tr>\n",
       "  </thead>\n",
       "  <tbody>\n",
       "    <tr>\n",
       "      <td>1</td>\n",
       "      <td>12.838889</td>\n",
       "      <td>-13.255556</td>\n",
       "      <td>12.838889</td>\n",
       "      <td>-19.472222</td>\n",
       "      <td>42.7938</td>\n",
       "      <td>0.0</td>\n",
       "      <td>-0.393012</td>\n",
       "    </tr>\n",
       "    <tr>\n",
       "      <td>2</td>\n",
       "      <td>15.738889</td>\n",
       "      <td>-15.000000</td>\n",
       "      <td>15.738889</td>\n",
       "      <td>-18.316667</td>\n",
       "      <td>44.6292</td>\n",
       "      <td>0.0</td>\n",
       "      <td>1.949189</td>\n",
       "    </tr>\n",
       "    <tr>\n",
       "      <td>3</td>\n",
       "      <td>13.888889</td>\n",
       "      <td>-11.977778</td>\n",
       "      <td>13.888889</td>\n",
       "      <td>-19.961111</td>\n",
       "      <td>46.8349</td>\n",
       "      <td>0.0</td>\n",
       "      <td>0.559251</td>\n",
       "    </tr>\n",
       "    <tr>\n",
       "      <td>4</td>\n",
       "      <td>14.772222</td>\n",
       "      <td>-14.088889</td>\n",
       "      <td>14.772222</td>\n",
       "      <td>-22.094444</td>\n",
       "      <td>55.9314</td>\n",
       "      <td>0.0</td>\n",
       "      <td>3.804308</td>\n",
       "    </tr>\n",
       "    <tr>\n",
       "      <td>5</td>\n",
       "      <td>14.927778</td>\n",
       "      <td>-17.777778</td>\n",
       "      <td>14.927778</td>\n",
       "      <td>-23.872222</td>\n",
       "      <td>63.8526</td>\n",
       "      <td>0.0</td>\n",
       "      <td>6.882768</td>\n",
       "    </tr>\n",
       "  </tbody>\n",
       "</table>\n",
       "</div>"
      ],
      "text/plain": [
       "           temp              temp_app            wind_speed          range\n",
       "            max        min        max        min        max  min          \n",
       "week                                                                      \n",
       "1     12.838889 -13.255556  12.838889 -19.472222    42.7938  0.0 -0.393012\n",
       "2     15.738889 -15.000000  15.738889 -18.316667    44.6292  0.0  1.949189\n",
       "3     13.888889 -11.977778  13.888889 -19.961111    46.8349  0.0  0.559251\n",
       "4     14.772222 -14.088889  14.772222 -22.094444    55.9314  0.0  3.804308\n",
       "5     14.927778 -17.777778  14.927778 -23.872222    63.8526  0.0  6.882768"
      ]
     },
     "execution_count": 14,
     "metadata": {},
     "output_type": "execute_result"
    }
   ],
   "source": [
    "week_range_data.head()"
   ]
  },
  {
   "cell_type": "code",
   "execution_count": 15,
   "metadata": {},
   "outputs": [
    {
     "data": {
      "text/plain": [
       "5"
      ]
     },
     "execution_count": 15,
     "metadata": {},
     "output_type": "execute_result"
    }
   ],
   "source": [
    "week_range_data.range.idxmax()"
   ]
  },
  {
   "cell_type": "code",
   "execution_count": 16,
   "metadata": {},
   "outputs": [
    {
     "data": {
      "text/plain": [
       "    6.882768\n",
       "Name: 5, dtype: float64"
      ]
     },
     "execution_count": 16,
     "metadata": {},
     "output_type": "execute_result"
    }
   ],
   "source": [
    "week_range_data.loc[week_range_data.range.idxmax()].range"
   ]
  },
  {
   "cell_type": "markdown",
   "metadata": {},
   "source": [
    "The week with the most unstable weather by the unstability of real temperature, apparent temperature, and wind speed is the fifth week of the year (end of January—beginning of February)."
   ]
  },
  {
   "cell_type": "markdown",
   "metadata": {},
   "source": [
    "# Part 2"
   ]
  },
  {
   "cell_type": "code",
   "execution_count": 17,
   "metadata": {},
   "outputs": [],
   "source": [
    "import re\n",
    "import numpy as np\n",
    "from scipy.sparse import hstack\n",
    "\n",
    "from sklearn.metrics import mean_squared_error\n",
    "from sklearn.model_selection import train_test_split\n",
    "from sklearn.linear_model import ElasticNet, SGDRegressor\n",
    "from sklearn.feature_extraction.text import CountVectorizer, TfidfVectorizer"
   ]
  },
  {
   "cell_type": "markdown",
   "metadata": {},
   "source": [
    "## Manual text feature extraction"
   ]
  },
  {
   "cell_type": "code",
   "execution_count": 18,
   "metadata": {},
   "outputs": [],
   "source": [
    "data = pd.read_csv('data/data.csv')"
   ]
  },
  {
   "cell_type": "code",
   "execution_count": 19,
   "metadata": {},
   "outputs": [],
   "source": [
    "# Old features.\n",
    "\n",
    "data['text_len'] = data['description'].apply(len)\n",
    "data['text_len_tokens'] = data['description'].apply(lambda x: len(x.split()))\n",
    "data['number_of_caps'] = data['description'].apply(lambda x: len([ch for ch in x if ch.isupper()]))\n",
    "data['number_of_nonalphanum'] = data['description'].apply(lambda x: len([ch for ch in x if not ch.isalnum()]))"
   ]
  },
  {
   "cell_type": "code",
   "execution_count": 20,
   "metadata": {},
   "outputs": [],
   "source": [
    "# New features.\n",
    "\n",
    "# Number of non-alphabetic characters. Digits can make an ad more concrete and therefore attractive.\n",
    "data['number_of_nonalpha'] = data['description'].apply(lambda x: len([ch for ch in x if not ch.isalpha()]))\n",
    "\n",
    "# Number of latin characters or tokens. These are, as a rule, brand/model names.\n",
    "# Like digits, they can make an ad more concrete and therefore attractive.\n",
    "data['number_of_latin'] = data.description.apply(\n",
    "    lambda x: len([ch for ch in x if re.search(r'[a-z]', ch.lower()) is not None]))\n",
    "data['number_of_latin_tokens'] = data.description.apply(\n",
    "    lambda x: len([token for token in x.split() if re.search(r'^[a-z]+$', token.lower()) is not None]))\n",
    "\n",
    "# Average token length. It correlates with the overall text readability.\n",
    "data['mean_token_len'] = data.description.apply(lambda x: np.mean([len(token) for token in x.split()]))\n",
    "\n",
    "# Title length in characters and tokens.\n",
    "# Too long titles may be skipped over out of laziness, while too short ones do not cause interest.\n",
    "data['title_len'] = data.title.apply(len)\n",
    "data['title_len_tokens'] = data.title.apply(lambda x: len(x.split()))"
   ]
  },
  {
   "cell_type": "code",
   "execution_count": 21,
   "metadata": {},
   "outputs": [],
   "source": [
    "X = data[['text_len', 'text_len_tokens', 'number_of_caps', 'number_of_nonalphanum',\n",
    "          'number_of_nonalpha', 'number_of_latin', 'number_of_latin_tokens',\n",
    "          'mean_token_len', 'title_len', 'title_len_tokens']].values\n",
    "y = data.deal_probability.values"
   ]
  },
  {
   "cell_type": "code",
   "execution_count": 22,
   "metadata": {},
   "outputs": [],
   "source": [
    "X_train, X_test, y_train, y_test = train_test_split(X, y, random_state=42)"
   ]
  },
  {
   "cell_type": "code",
   "execution_count": 23,
   "metadata": {},
   "outputs": [
    {
     "data": {
      "text/plain": [
       "0.26367317664827983"
      ]
     },
     "execution_count": 23,
     "metadata": {},
     "output_type": "execute_result"
    }
   ],
   "source": [
    "regressor = ElasticNet(alpha=1)\n",
    "regressor.fit(X_train, y_train)\n",
    "preds = regressor.predict(X_test)\n",
    "np.sqrt(mean_squared_error(y_test, preds))"
   ]
  },
  {
   "cell_type": "markdown",
   "metadata": {},
   "source": [
    "Strictly speaking, our metric did grow by 0.03 percentage points."
   ]
  },
  {
   "cell_type": "markdown",
   "metadata": {},
   "source": [
    "## CountVectorizer + TfidfVectorizer"
   ]
  },
  {
   "cell_type": "markdown",
   "metadata": {},
   "source": [
    "### 1. TfidfVectorizer: more n-grams"
   ]
  },
  {
   "cell_type": "code",
   "execution_count": 24,
   "metadata": {},
   "outputs": [],
   "source": [
    "cv = CountVectorizer(max_features=1000, min_df=5, max_df=0.4, ngram_range=(1, 2))\n",
    "tfidf = TfidfVectorizer(max_features=1000, min_df=5, max_df=0.4, analyzer='char', ngram_range=(3, 4))\n",
    "\n",
    "X_cv = cv.fit_transform(data.description)\n",
    "X_tfidf = tfidf.fit_transform(data.description)\n",
    "\n",
    "X = hstack([X_cv, X_tfidf])"
   ]
  },
  {
   "cell_type": "code",
   "execution_count": 25,
   "metadata": {},
   "outputs": [],
   "source": [
    "X_train, X_test, y_train, y_test = train_test_split(X, y, random_state=42)"
   ]
  },
  {
   "cell_type": "code",
   "execution_count": 26,
   "metadata": {},
   "outputs": [
    {
     "data": {
      "text/plain": [
       "0.2500328456482447"
      ]
     },
     "execution_count": 26,
     "metadata": {},
     "output_type": "execute_result"
    }
   ],
   "source": [
    "regressor = SGDRegressor(max_iter=50, alpha=0.00001)\n",
    "regressor.fit(X_train, y_train)\n",
    "preds = regressor.predict(X_test)\n",
    "np.sqrt(mean_squared_error(y_test, preds))"
   ]
  },
  {
   "cell_type": "markdown",
   "metadata": {},
   "source": [
    "### 2. SGDRegressor: bigger alpha"
   ]
  },
  {
   "cell_type": "code",
   "execution_count": 27,
   "metadata": {},
   "outputs": [
    {
     "data": {
      "text/plain": [
       "0.26372767690265503"
      ]
     },
     "execution_count": 27,
     "metadata": {},
     "output_type": "execute_result"
    }
   ],
   "source": [
    "regressor = SGDRegressor(max_iter=50, alpha=1000)\n",
    "regressor.fit(X_train, y_train)\n",
    "preds = regressor.predict(X_test)\n",
    "np.sqrt(mean_squared_error(y_test, preds))"
   ]
  },
  {
   "cell_type": "markdown",
   "metadata": {},
   "source": [
    "We managed to surpass, albeit not by much, the manually extracted features."
   ]
  },
  {
   "cell_type": "markdown",
   "metadata": {},
   "source": [
    "### 3. max_df decrease: now frequent words are ignored more often"
   ]
  },
  {
   "cell_type": "code",
   "execution_count": 28,
   "metadata": {},
   "outputs": [],
   "source": [
    "cv = CountVectorizer(max_features=1000, min_df=5, max_df=0.25, ngram_range=(1, 2))\n",
    "tfidf = TfidfVectorizer(max_features=1000, min_df=5, max_df=0.25, analyzer='char', ngram_range=(3, 4))\n",
    "\n",
    "X_cv = cv.fit_transform(data.description)\n",
    "X_tfidf = tfidf.fit_transform(data.description)\n",
    "\n",
    "X = hstack([X_cv, X_tfidf])"
   ]
  },
  {
   "cell_type": "code",
   "execution_count": 29,
   "metadata": {},
   "outputs": [],
   "source": [
    "X_train, X_test, y_train, y_test = train_test_split(X, y, random_state=42)"
   ]
  },
  {
   "cell_type": "code",
   "execution_count": 30,
   "metadata": {},
   "outputs": [
    {
     "data": {
      "text/plain": [
       "0.26371245360890216"
      ]
     },
     "execution_count": 30,
     "metadata": {},
     "output_type": "execute_result"
    }
   ],
   "source": [
    "regressor = SGDRegressor(max_iter=50, alpha=1000)\n",
    "regressor.fit(X_train, y_train)\n",
    "preds = regressor.predict(X_test)\n",
    "np.sqrt(mean_squared_error(y_test, preds))"
   ]
  },
  {
   "cell_type": "markdown",
   "metadata": {},
   "source": [
    "Here we can no longer see an improvement."
   ]
  },
  {
   "cell_type": "code",
   "execution_count": null,
   "metadata": {},
   "outputs": [],
   "source": []
  }
 ],
 "metadata": {
  "kernelspec": {
   "display_name": "Python 3",
   "language": "python",
   "name": "python3"
  },
  "language_info": {
   "codemirror_mode": {
    "name": "ipython",
    "version": 3
   },
   "file_extension": ".py",
   "mimetype": "text/x-python",
   "name": "python",
   "nbconvert_exporter": "python",
   "pygments_lexer": "ipython3",
   "version": "3.6.8"
  }
 },
 "nbformat": 4,
 "nbformat_minor": 2
}

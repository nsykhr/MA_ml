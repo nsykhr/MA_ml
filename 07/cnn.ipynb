{
 "cells": [
  {
   "cell_type": "code",
   "execution_count": 1,
   "metadata": {
    "_cell_guid": "b1076dfc-b9ad-4769-8c92-a6c4dae69d19",
    "_uuid": "8f2839f25d086af736a60e9eeb907d3b93b6e0e5"
   },
   "outputs": [],
   "source": [
    "import pandas as pd\n",
    "from tqdm import tqdm\n",
    "from collections import Counter\n",
    "\n",
    "from typing import List, Tuple, Callable\n",
    "\n",
    "from string import punctuation\n",
    "from nltk import word_tokenize\n",
    "\n",
    "import matplotlib.pyplot as plt\n",
    "\n",
    "from sklearn.model_selection import train_test_split\n",
    "\n",
    "import tensorflow as tf\n",
    "from tensorflow.keras import Model\n",
    "from tensorflow.keras import regularizers\n",
    "from tensorflow.keras import backend as K\n",
    "from tensorflow.keras.optimizers import Adam\n",
    "from tensorflow.keras.preprocessing.sequence import pad_sequences\n",
    "from tensorflow.keras.callbacks import EarlyStopping, ModelCheckpoint, LearningRateScheduler\n",
    "from tensorflow.keras.layers import Input, Embedding, Dense, Conv1D, GlobalMaxPooling1D, Dropout, Lambda, Concatenate\n",
    "\n",
    "import warnings\n",
    "warnings.filterwarnings('ignore')\n",
    "\n",
    "pd.set_option('display.max_colwidth', 1000)\n",
    "\n",
    "punctuation += '«»—…“”*№–'\n",
    "\n",
    "%matplotlib inline"
   ]
  },
  {
   "cell_type": "markdown",
   "metadata": {},
   "source": [
    "# Data preparation\n",
    "We will create two version of our data to train and validate the models on: one with very basic preprocessing and one with some more advanced techniques. Then, we will compare the two approaches."
   ]
  },
  {
   "cell_type": "code",
   "execution_count": 2,
   "metadata": {},
   "outputs": [
    {
     "data": {
      "text/html": [
       "<div>\n",
       "<style scoped>\n",
       "    .dataframe tbody tr th:only-of-type {\n",
       "        vertical-align: middle;\n",
       "    }\n",
       "\n",
       "    .dataframe tbody tr th {\n",
       "        vertical-align: top;\n",
       "    }\n",
       "\n",
       "    .dataframe thead th {\n",
       "        text-align: right;\n",
       "    }\n",
       "</style>\n",
       "<table border=\"1\" class=\"dataframe\">\n",
       "  <thead>\n",
       "    <tr style=\"text-align: right;\">\n",
       "      <th></th>\n",
       "      <th>qid</th>\n",
       "      <th>question_text</th>\n",
       "      <th>target</th>\n",
       "    </tr>\n",
       "  </thead>\n",
       "  <tbody>\n",
       "    <tr>\n",
       "      <th>0</th>\n",
       "      <td>00002165364db923c7e6</td>\n",
       "      <td>How did Quebec nationalists see their province as a nation in the 1960s?</td>\n",
       "      <td>0</td>\n",
       "    </tr>\n",
       "    <tr>\n",
       "      <th>1</th>\n",
       "      <td>000032939017120e6e44</td>\n",
       "      <td>Do you have an adopted dog, how would you encourage people to adopt and not shop?</td>\n",
       "      <td>0</td>\n",
       "    </tr>\n",
       "    <tr>\n",
       "      <th>2</th>\n",
       "      <td>0000412ca6e4628ce2cf</td>\n",
       "      <td>Why does velocity affect time? Does velocity affect space geometry?</td>\n",
       "      <td>0</td>\n",
       "    </tr>\n",
       "    <tr>\n",
       "      <th>3</th>\n",
       "      <td>000042bf85aa498cd78e</td>\n",
       "      <td>How did Otto von Guericke used the Magdeburg hemispheres?</td>\n",
       "      <td>0</td>\n",
       "    </tr>\n",
       "    <tr>\n",
       "      <th>4</th>\n",
       "      <td>0000455dfa3e01eae3af</td>\n",
       "      <td>Can I convert montra helicon D to a mountain bike by just changing the tyres?</td>\n",
       "      <td>0</td>\n",
       "    </tr>\n",
       "    <tr>\n",
       "      <th>...</th>\n",
       "      <td>...</td>\n",
       "      <td>...</td>\n",
       "      <td>...</td>\n",
       "    </tr>\n",
       "    <tr>\n",
       "      <th>1306117</th>\n",
       "      <td>ffffcc4e2331aaf1e41e</td>\n",
       "      <td>What other technical skills do you need as a computer science undergrad other than c and c++?</td>\n",
       "      <td>0</td>\n",
       "    </tr>\n",
       "    <tr>\n",
       "      <th>1306118</th>\n",
       "      <td>ffffd431801e5a2f4861</td>\n",
       "      <td>Does MS in ECE have good job prospects in USA or like India there are more IT jobs present?</td>\n",
       "      <td>0</td>\n",
       "    </tr>\n",
       "    <tr>\n",
       "      <th>1306119</th>\n",
       "      <td>ffffd48fb36b63db010c</td>\n",
       "      <td>Is foam insulation toxic?</td>\n",
       "      <td>0</td>\n",
       "    </tr>\n",
       "    <tr>\n",
       "      <th>1306120</th>\n",
       "      <td>ffffec519fa37cf60c78</td>\n",
       "      <td>How can one start a research project based on biochemistry at UG level?</td>\n",
       "      <td>0</td>\n",
       "    </tr>\n",
       "    <tr>\n",
       "      <th>1306121</th>\n",
       "      <td>ffffed09fedb5088744a</td>\n",
       "      <td>Who wins in a battle between a Wolverine and a Puma?</td>\n",
       "      <td>0</td>\n",
       "    </tr>\n",
       "  </tbody>\n",
       "</table>\n",
       "<p>1306122 rows × 3 columns</p>\n",
       "</div>"
      ],
      "text/plain": [
       "                          qid  \\\n",
       "0        00002165364db923c7e6   \n",
       "1        000032939017120e6e44   \n",
       "2        0000412ca6e4628ce2cf   \n",
       "3        000042bf85aa498cd78e   \n",
       "4        0000455dfa3e01eae3af   \n",
       "...                       ...   \n",
       "1306117  ffffcc4e2331aaf1e41e   \n",
       "1306118  ffffd431801e5a2f4861   \n",
       "1306119  ffffd48fb36b63db010c   \n",
       "1306120  ffffec519fa37cf60c78   \n",
       "1306121  ffffed09fedb5088744a   \n",
       "\n",
       "                                                                                         question_text  \\\n",
       "0                             How did Quebec nationalists see their province as a nation in the 1960s?   \n",
       "1                    Do you have an adopted dog, how would you encourage people to adopt and not shop?   \n",
       "2                                  Why does velocity affect time? Does velocity affect space geometry?   \n",
       "3                                            How did Otto von Guericke used the Magdeburg hemispheres?   \n",
       "4                        Can I convert montra helicon D to a mountain bike by just changing the tyres?   \n",
       "...                                                                                                ...   \n",
       "1306117  What other technical skills do you need as a computer science undergrad other than c and c++?   \n",
       "1306118    Does MS in ECE have good job prospects in USA or like India there are more IT jobs present?   \n",
       "1306119                                                                      Is foam insulation toxic?   \n",
       "1306120                        How can one start a research project based on biochemistry at UG level?   \n",
       "1306121                                           Who wins in a battle between a Wolverine and a Puma?   \n",
       "\n",
       "         target  \n",
       "0             0  \n",
       "1             0  \n",
       "2             0  \n",
       "3             0  \n",
       "4             0  \n",
       "...         ...  \n",
       "1306117       0  \n",
       "1306118       0  \n",
       "1306119       0  \n",
       "1306120       0  \n",
       "1306121       0  \n",
       "\n",
       "[1306122 rows x 3 columns]"
      ]
     },
     "execution_count": 2,
     "metadata": {},
     "output_type": "execute_result"
    }
   ],
   "source": [
    "data = pd.read_csv('quora.csv')\n",
    "data"
   ]
  },
  {
   "cell_type": "markdown",
   "metadata": {},
   "source": [
    "We are dealing with class imbalance in our dataset. To account for it, let's use class weighting."
   ]
  },
  {
   "cell_type": "code",
   "execution_count": 3,
   "metadata": {},
   "outputs": [
    {
     "data": {
      "text/plain": [
       "Counter({0: 1225312, 1: 80810})"
      ]
     },
     "execution_count": 3,
     "metadata": {},
     "output_type": "execute_result"
    }
   ],
   "source": [
    "class_counts = Counter(data.target)\n",
    "class_counts"
   ]
  },
  {
   "cell_type": "code",
   "execution_count": 4,
   "metadata": {},
   "outputs": [
    {
     "data": {
      "text/plain": [
       "{0: 1.0, 1: 3.0}"
      ]
     },
     "execution_count": 4,
     "metadata": {},
     "output_type": "execute_result"
    }
   ],
   "source": [
    "class_weight = {\n",
    "    0: 1.,\n",
    "    1: min(3.,  class_counts[0] / class_counts[1])\n",
    "}\n",
    "\n",
    "class_weight"
   ]
  },
  {
   "cell_type": "code",
   "execution_count": 5,
   "metadata": {},
   "outputs": [],
   "source": [
    "def preprocess(text: str) -> List[str]:\n",
    "    tokens = text.split()\n",
    "    tokens = [token.strip(punctuation) for token in tokens]\n",
    "    \n",
    "    return [char for char in ' '.join([token for token in tokens if token])]"
   ]
  },
  {
   "cell_type": "code",
   "execution_count": 6,
   "metadata": {},
   "outputs": [],
   "source": [
    "def advanced_preprocessing(text: str) -> List[str]:\n",
    "    \"\"\"\n",
    "    1. Use NLTK word_tokenize function.\n",
    "    2. Use lowercasing.\n",
    "    3. Use special tokens (not splitted into chars) for digits.\n",
    "    \"\"\"\n",
    "    tokens = word_tokenize(text.lower())\n",
    "    tokens = [token.strip(punctuation) for token in tokens]\n",
    "    \n",
    "    output = []\n",
    "    for token in tokens:\n",
    "        if not token:\n",
    "            continue\n",
    "        \n",
    "        if output:\n",
    "            # We shouldn't append a space before the first token.\n",
    "            output.append(' ')\n",
    "        \n",
    "        if token.isdigit():\n",
    "            output.append('<DIGIT>')\n",
    "            continue\n",
    "        \n",
    "        output.extend(token)\n",
    "    \n",
    "    return output"
   ]
  },
  {
   "cell_type": "code",
   "execution_count": 7,
   "metadata": {},
   "outputs": [],
   "source": [
    "def vectorize_data(data: pd.Series, preprocess_fn: Callable = preprocess, min_count: int = 200) -> Tuple[tf.Tensor, int, int]:\n",
    "    preprocessed = [preprocess_fn(text) for text in tqdm(data)]\n",
    "    \n",
    "    vocab = Counter()\n",
    "    for tokens in preprocessed:\n",
    "        vocab.update(tokens)\n",
    "    filtered_vocab = {word for word, count in vocab.items() if count >= min_count}\n",
    "    \n",
    "    word2id = {'<PAD>': 0, '<UNK>': 1}\n",
    "    for word in filtered_vocab:\n",
    "        word2id[word] = len(word2id)\n",
    "        \n",
    "    X = []\n",
    "    for tokens in preprocessed:\n",
    "        ids = [word2id.get(token, 1) for token in tokens]\n",
    "        X.append(ids)\n",
    "        \n",
    "    max_len = max(len(tokens) for tokens in preprocessed)\n",
    "    X = pad_sequences(X, maxlen=max_len)\n",
    "    \n",
    "    return X, len(word2id), max_len"
   ]
  },
  {
   "cell_type": "code",
   "execution_count": 8,
   "metadata": {},
   "outputs": [
    {
     "name": "stderr",
     "output_type": "stream",
     "text": [
      "100%|██████████| 1306122/1306122 [00:21<00:00, 62087.86it/s]\n"
     ]
    },
    {
     "data": {
      "text/plain": [
       "(1306122, 955)"
      ]
     },
     "execution_count": 8,
     "metadata": {},
     "output_type": "execute_result"
    }
   ],
   "source": [
    "X, VOCAB_LEN, MAX_LEN = vectorize_data(data.question_text)\n",
    "X.shape"
   ]
  },
  {
   "cell_type": "code",
   "execution_count": 9,
   "metadata": {},
   "outputs": [
    {
     "data": {
      "text/plain": [
       "(1306122,)"
      ]
     },
     "execution_count": 9,
     "metadata": {},
     "output_type": "execute_result"
    }
   ],
   "source": [
    "y = data.target.values\n",
    "y.shape"
   ]
  },
  {
   "cell_type": "code",
   "execution_count": 10,
   "metadata": {},
   "outputs": [],
   "source": [
    "X_train, X_valid, y_train, y_valid = train_test_split(\n",
    "    X, y, test_size=0.05, stratify=y, random_state=42\n",
    ")"
   ]
  },
  {
   "cell_type": "markdown",
   "metadata": {},
   "source": [
    "# Classification Model"
   ]
  },
  {
   "cell_type": "code",
   "execution_count": 11,
   "metadata": {},
   "outputs": [],
   "source": [
    "def f1(y_true, y_pred):\n",
    "    def recall(y_true, y_pred):\n",
    "        true_positives = K.sum(K.round(K.clip(y_true * y_pred, 0, 1)))\n",
    "        possible_positives = K.sum(K.round(K.clip(y_true, 0, 1)))\n",
    "        recall = true_positives / (possible_positives + K.epsilon())\n",
    "        return recall\n",
    "\n",
    "    def precision(y_true, y_pred):\n",
    "        true_positives = K.sum(K.round(K.clip(y_true * y_pred, 0, 1)))\n",
    "        predicted_positives = K.sum(K.round(K.clip(y_pred, 0, 1)))\n",
    "        precision = true_positives / (predicted_positives + K.epsilon())\n",
    "        return precision\n",
    "    \n",
    "    precision = precision(y_true, y_pred)\n",
    "    recall = recall(y_true, y_pred)\n",
    "    return 2*((precision*recall)/(precision+recall+K.epsilon()))"
   ]
  },
  {
   "cell_type": "code",
   "execution_count": 12,
   "metadata": {},
   "outputs": [],
   "source": [
    "def build_model(\n",
    "    input_dim: int = VOCAB_LEN,\n",
    "    max_len: int = MAX_LEN,\n",
    "    embedding_dim: int = 32,\n",
    "    hidden_dim: int = 48,\n",
    "    dropout_rate: float = 0.1,\n",
    "    l2_rate: float = 1e-4,\n",
    "    output_dim: int = 1,\n",
    "    lr: float = 1e-2\n",
    "):\n",
    "    inputs = Input(shape=(max_len,))\n",
    "    embeddings = Embedding(input_dim=input_dim, output_dim=embedding_dim)(inputs)\n",
    "    embeddings = Dropout(dropout_rate)(embeddings)\n",
    "    embeddings = Lambda(lambda x: tf.pad(x, [[0, 0], [1, 1], [0, 0]], mode='REFLECT'))(embeddings)\n",
    "    \n",
    "    pooling_outputs = []\n",
    "    for kernel_size in (3, 4, 5):\n",
    "        conv1 = Conv1D(kernel_size=kernel_size, filters=64, strides=1, kernel_regularizer=regularizers.l2(l2_rate))(embeddings)\n",
    "        conv1 = Dropout(dropout_rate)(conv1)\n",
    "        conv1 = Lambda(lambda x: tf.pad(x, [[0, 0], [1, 1], [0, 0]], mode='REFLECT'))(conv1)\n",
    "        conv2 = Conv1D(kernel_size=kernel_size, filters=64, strides=1, kernel_regularizer=regularizers.l2(l2_rate), activation='relu')(conv1)\n",
    "        pool = GlobalMaxPooling1D()(conv2)\n",
    "        \n",
    "        pooling_outputs.append(pool)\n",
    "        \n",
    "    aggregated_pool = Concatenate()(pooling_outputs)\n",
    "    aggregated_pool = Dropout(dropout_rate)(aggregated_pool)\n",
    "    hidden = Dense(hidden_dim, activation='relu', kernel_regularizer=regularizers.l2(l2_rate))(aggregated_pool)\n",
    "    hidden = Dropout(dropout_rate)(hidden)\n",
    "    \n",
    "    activation = 'sigmoid' if output_dim == 1 else 'softmax'\n",
    "    outputs = Dense(output_dim, activation=activation, kernel_regularizer=regularizers.l2(l2_rate))(hidden)\n",
    "\n",
    "    model = Model(inputs=inputs, outputs=outputs)\n",
    "    optimizer = Adam(learning_rate=lr)\n",
    "    loss = 'binary_crossentropy' if output_dim == 1 else 'categorical_crossentropy'\n",
    "    \n",
    "    model.compile(optimizer=optimizer,\n",
    "                  loss=loss,\n",
    "                  metrics=['accuracy', f1])\n",
    "    \n",
    "    return model"
   ]
  },
  {
   "cell_type": "code",
   "execution_count": 13,
   "metadata": {},
   "outputs": [],
   "source": [
    "checkpoint = ModelCheckpoint('model.weights',\n",
    "                             monitor='val_f1',\n",
    "                             verbose=1,\n",
    "                             save_weights_only=True,\n",
    "                             save_best_only=True,\n",
    "                             mode='max',\n",
    "                             save_freq='epoch'\n",
    "                            )\n",
    "\n",
    "early_stopping = EarlyStopping(monitor='val_f1', \n",
    "                               min_delta=0.01,\n",
    "                               patience=3,\n",
    "                               verbose=1, \n",
    "                               mode='max'\n",
    "                              )\n",
    "\n",
    "\n",
    "# This scheduler halves the learning rate every two epochs.\n",
    "# I chose to use a high learning rate at first because of the large batch size.\n",
    "def scheduler(epoch: int):\n",
    "    return max(1e-3, 0.01 * 0.5**(epoch // 2))\n",
    "    \n",
    "scheduler = LearningRateScheduler(scheduler)\n",
    "\n",
    "callbacks = [early_stopping, checkpoint, scheduler]"
   ]
  },
  {
   "cell_type": "code",
   "execution_count": 14,
   "metadata": {},
   "outputs": [
    {
     "name": "stdout",
     "output_type": "stream",
     "text": [
      "Epoch 1/50\n",
      "606/606 [==============================] - ETA: 0s - loss: 0.3600 - accuracy: 0.9297 - f1: 0.4087\n",
      "Epoch 00001: val_f1 improved from -inf to 0.55407, saving model to model.weights\n",
      "606/606 [==============================] - 354s 584ms/step - loss: 0.3600 - accuracy: 0.9297 - f1: 0.4087 - val_loss: 0.2055 - val_accuracy: 0.9373 - val_f1: 0.5541 - lr: 0.0100\n",
      "Epoch 2/50\n",
      "606/606 [==============================] - ETA: 0s - loss: 0.3224 - accuracy: 0.9331 - f1: 0.5151\n",
      "Epoch 00002: val_f1 improved from 0.55407 to 0.56078, saving model to model.weights\n",
      "606/606 [==============================] - 351s 579ms/step - loss: 0.3224 - accuracy: 0.9331 - f1: 0.5151 - val_loss: 0.2123 - val_accuracy: 0.9337 - val_f1: 0.5608 - lr: 0.0100\n",
      "Epoch 3/50\n",
      "606/606 [==============================] - ETA: 0s - loss: 0.3006 - accuracy: 0.9358 - f1: 0.5435\n",
      "Epoch 00003: val_f1 improved from 0.56078 to 0.57099, saving model to model.weights\n",
      "606/606 [==============================] - 351s 579ms/step - loss: 0.3006 - accuracy: 0.9358 - f1: 0.5435 - val_loss: 0.1961 - val_accuracy: 0.9339 - val_f1: 0.5710 - lr: 0.0050\n",
      "Epoch 4/50\n",
      "606/606 [==============================] - ETA: 0s - loss: 0.2967 - accuracy: 0.9356 - f1: 0.5456\n",
      "Epoch 00004: val_f1 did not improve from 0.57099\n",
      "606/606 [==============================] - 349s 576ms/step - loss: 0.2967 - accuracy: 0.9356 - f1: 0.5456 - val_loss: 0.1909 - val_accuracy: 0.9328 - val_f1: 0.5647 - lr: 0.0050\n",
      "Epoch 5/50\n",
      "606/606 [==============================] - ETA: 0s - loss: 0.2846 - accuracy: 0.9374 - f1: 0.5601\n",
      "Epoch 00005: val_f1 improved from 0.57099 to 0.58512, saving model to model.weights\n",
      "606/606 [==============================] - 349s 576ms/step - loss: 0.2846 - accuracy: 0.9374 - f1: 0.5601 - val_loss: 0.1792 - val_accuracy: 0.9380 - val_f1: 0.5851 - lr: 0.0025\n",
      "Epoch 6/50\n",
      "606/606 [==============================] - ETA: 0s - loss: 0.2813 - accuracy: 0.9378 - f1: 0.5636\n",
      "Epoch 00006: val_f1 improved from 0.58512 to 0.60161, saving model to model.weights\n",
      "606/606 [==============================] - 348s 575ms/step - loss: 0.2813 - accuracy: 0.9378 - f1: 0.5636 - val_loss: 0.1558 - val_accuracy: 0.9472 - val_f1: 0.6016 - lr: 0.0025\n",
      "Epoch 7/50\n",
      "606/606 [==============================] - ETA: 0s - loss: 0.2741 - accuracy: 0.9386 - f1: 0.5710\n",
      "Epoch 00007: val_f1 did not improve from 0.60161\n",
      "606/606 [==============================] - 346s 571ms/step - loss: 0.2741 - accuracy: 0.9386 - f1: 0.5710 - val_loss: 0.1535 - val_accuracy: 0.9466 - val_f1: 0.6013 - lr: 0.0012\n",
      "Epoch 8/50\n",
      "606/606 [==============================] - ETA: 0s - loss: 0.2716 - accuracy: 0.9390 - f1: 0.5740\n",
      "Epoch 00008: val_f1 did not improve from 0.60161\n",
      "606/606 [==============================] - 343s 567ms/step - loss: 0.2716 - accuracy: 0.9390 - f1: 0.5740 - val_loss: 0.1542 - val_accuracy: 0.9463 - val_f1: 0.6010 - lr: 0.0012\n",
      "Epoch 9/50\n",
      "606/606 [==============================] - ETA: 0s - loss: 0.2690 - accuracy: 0.9393 - f1: 0.5766\n",
      "Epoch 00009: val_f1 improved from 0.60161 to 0.60183, saving model to model.weights\n",
      "606/606 [==============================] - 344s 568ms/step - loss: 0.2690 - accuracy: 0.9393 - f1: 0.5766 - val_loss: 0.1575 - val_accuracy: 0.9436 - val_f1: 0.6018 - lr: 0.0010\n",
      "Epoch 00009: early stopping\n"
     ]
    },
    {
     "data": {
      "text/plain": [
       "<tensorflow.python.keras.callbacks.History at 0x7f6138e6bc88>"
      ]
     },
     "execution_count": 14,
     "metadata": {},
     "output_type": "execute_result"
    }
   ],
   "source": [
    "model = build_model()\n",
    "\n",
    "model.fit(X_train, y_train, \n",
    "          validation_data=(X_valid, y_valid),\n",
    "          batch_size=2048,\n",
    "          epochs=50,\n",
    "          callbacks=callbacks,\n",
    "          class_weight=class_weight\n",
    "         )"
   ]
  },
  {
   "cell_type": "code",
   "execution_count": 15,
   "metadata": {},
   "outputs": [
    {
     "name": "stdout",
     "output_type": "stream",
     "text": [
      "dict_keys(['loss', 'accuracy', 'f1', 'val_loss', 'val_accuracy', 'val_f1', 'lr'])\n"
     ]
    },
    {
     "data": {
      "image/png": "[encoded data removed]",
      "text/plain": [
       "<Figure size 432x288 with 1 Axes>"
      ]
     },
     "metadata": {
      "needs_background": "light"
     },
     "output_type": "display_data"
    }
   ],
   "source": [
    "print(model.history.history.keys())\n",
    "plt.plot(model.history.history['f1'])\n",
    "plt.plot(model.history.history['val_f1'])\n",
    "plt.title('model f1')\n",
    "plt.ylabel('f1')\n",
    "plt.xlabel('epoch')\n",
    "plt.legend(['train', 'val'], loc='upper left')\n",
    "plt.show()"
   ]
  },
  {
   "cell_type": "markdown",
   "metadata": {},
   "source": [
    "## Advanced preprocessing"
   ]
  },
  {
   "cell_type": "code",
   "execution_count": 14,
   "metadata": {},
   "outputs": [
    {
     "name": "stderr",
     "output_type": "stream",
     "text": [
      "100%|██████████| 1306122/1306122 [06:51<00:00, 3171.67it/s]\n"
     ]
    },
    {
     "data": {
      "text/plain": [
       "(1306122, 754)"
      ]
     },
     "execution_count": 14,
     "metadata": {},
     "output_type": "execute_result"
    }
   ],
   "source": [
    "X, VOCAB_LEN, MAX_LEN = vectorize_data(data.question_text, preprocess_fn=advanced_preprocessing)\n",
    "X.shape"
   ]
  },
  {
   "cell_type": "code",
   "execution_count": 15,
   "metadata": {},
   "outputs": [],
   "source": [
    "X_train, X_valid, y_train, y_valid = train_test_split(\n",
    "    X, y, test_size=0.05, stratify=y, random_state=42\n",
    ")"
   ]
  },
  {
   "cell_type": "code",
   "execution_count": 16,
   "metadata": {},
   "outputs": [],
   "source": [
    "checkpoint = ModelCheckpoint('model_v2.weights',\n",
    "                             monitor='val_f1',\n",
    "                             verbose=1,\n",
    "                             save_weights_only=True,\n",
    "                             save_best_only=True,\n",
    "                             mode='max',\n",
    "                             save_freq='epoch'\n",
    "                            )\n",
    "\n",
    "callbacks = [early_stopping, checkpoint, scheduler]"
   ]
  },
  {
   "cell_type": "code",
   "execution_count": 17,
   "metadata": {},
   "outputs": [
    {
     "name": "stdout",
     "output_type": "stream",
     "text": [
      "Epoch 1/50\n",
      "606/606 [==============================] - ETA: 0s - loss: 0.3748 - accuracy: 0.9289 - f1: 0.3671\n",
      "Epoch 00001: val_f1 improved from -inf to 0.53394, saving model to model_v2.weights\n",
      "606/606 [==============================] - 270s 445ms/step - loss: 0.3748 - accuracy: 0.9289 - f1: 0.3671 - val_loss: 0.1866 - val_accuracy: 0.9432 - val_f1: 0.5339 - lr: 0.0100\n",
      "Epoch 2/50\n",
      "606/606 [==============================] - ETA: 0s - loss: 0.3292 - accuracy: 0.9330 - f1: 0.5085\n",
      "Epoch 00002: val_f1 improved from 0.53394 to 0.54331, saving model to model_v2.weights\n",
      "606/606 [==============================] - 267s 440ms/step - loss: 0.3292 - accuracy: 0.9330 - f1: 0.5085 - val_loss: 0.1762 - val_accuracy: 0.9455 - val_f1: 0.5433 - lr: 0.0100\n",
      "Epoch 3/50\n",
      "606/606 [==============================] - ETA: 0s - loss: 0.3059 - accuracy: 0.9354 - f1: 0.5375\n",
      "Epoch 00003: val_f1 improved from 0.54331 to 0.57978, saving model to model_v2.weights\n",
      "606/606 [==============================] - 267s 440ms/step - loss: 0.3059 - accuracy: 0.9354 - f1: 0.5375 - val_loss: 0.1693 - val_accuracy: 0.9443 - val_f1: 0.5798 - lr: 0.0050\n",
      "Epoch 4/50\n",
      "606/606 [==============================] - ETA: 0s - loss: 0.3013 - accuracy: 0.9360 - f1: 0.5443\n",
      "Epoch 00004: val_f1 improved from 0.57978 to 0.58237, saving model to model_v2.weights\n",
      "606/606 [==============================] - 268s 443ms/step - loss: 0.3013 - accuracy: 0.9360 - f1: 0.5443 - val_loss: 0.1621 - val_accuracy: 0.9483 - val_f1: 0.5824 - lr: 0.0050\n",
      "Epoch 5/50\n",
      "606/606 [==============================] - ETA: 0s - loss: 0.2889 - accuracy: 0.9372 - f1: 0.5567\n",
      "Epoch 00005: val_f1 improved from 0.58237 to 0.59162, saving model to model_v2.weights\n",
      "606/606 [==============================] - 267s 440ms/step - loss: 0.2889 - accuracy: 0.9372 - f1: 0.5567 - val_loss: 0.1594 - val_accuracy: 0.9477 - val_f1: 0.5916 - lr: 0.0025\n",
      "Epoch 6/50\n",
      "606/606 [==============================] - ETA: 0s - loss: 0.2849 - accuracy: 0.9376 - f1: 0.5604\n",
      "Epoch 00006: val_f1 improved from 0.59162 to 0.59187, saving model to model_v2.weights\n",
      "606/606 [==============================] - 266s 440ms/step - loss: 0.2849 - accuracy: 0.9376 - f1: 0.5604 - val_loss: 0.1590 - val_accuracy: 0.9470 - val_f1: 0.5919 - lr: 0.0025\n",
      "Epoch 7/50\n",
      "606/606 [==============================] - ETA: 0s - loss: 0.2767 - accuracy: 0.9386 - f1: 0.5688\n",
      "Epoch 00007: val_f1 improved from 0.59187 to 0.60080, saving model to model_v2.weights\n",
      "606/606 [==============================] - 266s 439ms/step - loss: 0.2767 - accuracy: 0.9386 - f1: 0.5688 - val_loss: 0.1614 - val_accuracy: 0.9441 - val_f1: 0.6008 - lr: 0.0012\n",
      "Epoch 8/50\n",
      "606/606 [==============================] - ETA: 0s - loss: 0.2738 - accuracy: 0.9385 - f1: 0.5706\n",
      "Epoch 00008: val_f1 improved from 0.60080 to 0.60336, saving model to model_v2.weights\n",
      "606/606 [==============================] - 267s 440ms/step - loss: 0.2738 - accuracy: 0.9385 - f1: 0.5706 - val_loss: 0.1596 - val_accuracy: 0.9449 - val_f1: 0.6034 - lr: 0.0012\n",
      "Epoch 9/50\n",
      "606/606 [==============================] - ETA: 0s - loss: 0.2710 - accuracy: 0.9394 - f1: 0.5757\n",
      "Epoch 00009: val_f1 did not improve from 0.60336\n",
      "606/606 [==============================] - 267s 440ms/step - loss: 0.2710 - accuracy: 0.9394 - f1: 0.5757 - val_loss: 0.1495 - val_accuracy: 0.9478 - val_f1: 0.5993 - lr: 0.0010\n",
      "Epoch 10/50\n",
      "606/606 [==============================] - ETA: 0s - loss: 0.2699 - accuracy: 0.9387 - f1: 0.5732\n",
      "Epoch 00010: val_f1 improved from 0.60336 to 0.60974, saving model to model_v2.weights\n",
      "606/606 [==============================] - 266s 439ms/step - loss: 0.2699 - accuracy: 0.9387 - f1: 0.5732 - val_loss: 0.1555 - val_accuracy: 0.9459 - val_f1: 0.6097 - lr: 0.0010\n",
      "Epoch 11/50\n",
      "606/606 [==============================] - ETA: 0s - loss: 0.2682 - accuracy: 0.9392 - f1: 0.5764\n",
      "Epoch 00011: val_f1 did not improve from 0.60974\n",
      "606/606 [==============================] - 266s 439ms/step - loss: 0.2682 - accuracy: 0.9392 - f1: 0.5764 - val_loss: 0.1590 - val_accuracy: 0.9435 - val_f1: 0.6021 - lr: 0.0010\n",
      "Epoch 00011: early stopping\n"
     ]
    },
    {
     "data": {
      "text/plain": [
       "<tensorflow.python.keras.callbacks.History at 0x7fbfd22efb00>"
      ]
     },
     "execution_count": 17,
     "metadata": {},
     "output_type": "execute_result"
    }
   ],
   "source": [
    "model = build_model(input_dim=VOCAB_LEN, max_len=MAX_LEN)\n",
    "\n",
    "model.fit(X_train, y_train, \n",
    "          validation_data=(X_valid, y_valid),\n",
    "          batch_size=2048,\n",
    "          epochs=50,\n",
    "          callbacks=callbacks,\n",
    "          class_weight=class_weight\n",
    "         )"
   ]
  },
  {
   "cell_type": "code",
   "execution_count": 18,
   "metadata": {},
   "outputs": [
    {
     "name": "stdout",
     "output_type": "stream",
     "text": [
      "dict_keys(['loss', 'accuracy', 'f1', 'val_loss', 'val_accuracy', 'val_f1', 'lr'])\n"
     ]
    },
    {
     "data": {
      "image/png": "[encoded data removed]",
      "text/plain": [
       "<Figure size 432x288 with 1 Axes>"
      ]
     },
     "metadata": {
      "needs_background": "light"
     },
     "output_type": "display_data"
    }
   ],
   "source": [
    "print(model.history.history.keys())\n",
    "plt.plot(model.history.history['f1'])\n",
    "plt.plot(model.history.history['val_f1'])\n",
    "plt.title('model f1')\n",
    "plt.ylabel('f1')\n",
    "plt.xlabel('epoch')\n",
    "plt.legend(['train', 'val'], loc='upper left')\n",
    "plt.show()"
   ]
  },
  {
   "cell_type": "markdown",
   "metadata": {},
   "source": [
    "# Conclusion"
   ]
  },
  {
   "cell_type": "markdown",
   "metadata": {},
   "source": [
    "In this particular task, the way of preprocessing the data does not matter too much. The advanced preprocessing allowed us to obtain only marginally better results (F1-score: **60.183** vs. **60.974**)."
   ]
  },
  {
   "cell_type": "code",
   "execution_count": null,
   "metadata": {},
   "outputs": [],
   "source": []
  }
 ],
 "metadata": {
  "kernelspec": {
   "display_name": "Python 3",
   "language": "python",
   "name": "python3"
  },
  "language_info": {
   "codemirror_mode": {
    "name": "ipython",
    "version": 3
   },
   "file_extension": ".py",
   "mimetype": "text/x-python",
   "name": "python",
   "nbconvert_exporter": "python",
   "pygments_lexer": "ipython3",
   "version": "3.6.9"
  }
 },
 "nbformat": 4,
 "nbformat_minor": 4
}

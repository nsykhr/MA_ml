{
 "cells": [
  {
   "cell_type": "code",
   "execution_count": 1,
   "metadata": {},
   "outputs": [],
   "source": [
    "import warnings\n",
    "import numpy as np\n",
    "import pandas as pd\n",
    "from tqdm import tqdm\n",
    "from string import punctuation\n",
    "import matplotlib.pyplot as plt\n",
    "from pymorphy2 import MorphAnalyzer\n",
    "from scipy.sparse.csr import csr_matrix\n",
    "\n",
    "from typing import List, Union\n",
    "\n",
    "from nltk.corpus import stopwords\n",
    "from nltk.tokenize import word_tokenize\n",
    "\n",
    "from sklearn import metrics\n",
    "from sklearn.datasets import make_blobs\n",
    "from sklearn.decomposition import TruncatedSVD, NMF\n",
    "from sklearn.cluster import AffinityPropagation, DBSCAN, KMeans, MeanShift\n",
    "from sklearn.feature_extraction.text import CountVectorizer, TfidfVectorizer\n",
    "from sklearn.metrics import adjusted_rand_score, adjusted_mutual_info_score, \\\n",
    "                            silhouette_score"
   ]
  },
  {
   "cell_type": "code",
   "execution_count": 2,
   "metadata": {},
   "outputs": [],
   "source": [
    "%matplotlib inline\n",
    "warnings.filterwarnings('ignore')"
   ]
  },
  {
   "cell_type": "code",
   "execution_count": 3,
   "metadata": {},
   "outputs": [],
   "source": [
    "punctuation += '«»—…“”*№–'\n",
    "stopwords = set(stopwords.words('russian'))"
   ]
  },
  {
   "cell_type": "code",
   "execution_count": 4,
   "metadata": {},
   "outputs": [],
   "source": [
    "class Lemmatizer:\n",
    "    def __init__(self):\n",
    "        self.morph = MorphAnalyzer()\n",
    "        self.cache = {}\n",
    "    \n",
    "    def lemmatize(self, token):\n",
    "        if token in self.cache:\n",
    "            return self.cache[token]\n",
    "        norm = self.morph.parse(token)[0].normal_form\n",
    "        self.cache[token] = norm\n",
    "        return norm\n",
    "\n",
    "lemmatizer = Lemmatizer()"
   ]
  },
  {
   "cell_type": "code",
   "execution_count": 5,
   "metadata": {},
   "outputs": [],
   "source": [
    "def dummy(x):\n",
    "    return x\n",
    "\n",
    "def normalize(text: str) -> List[str]:\n",
    "    output = []\n",
    "    for token in word_tokenize(text.lower()):\n",
    "        token = token.strip(punctuation)\n",
    "        if not token:\n",
    "            continue\n",
    "            \n",
    "        lemma = lemmatizer.lemmatize(token)\n",
    "        if lemma in stopwords:\n",
    "            continue\n",
    "            \n",
    "        output.append(lemma)\n",
    "    \n",
    "    return output"
   ]
  },
  {
   "cell_type": "code",
   "execution_count": 6,
   "metadata": {},
   "outputs": [],
   "source": [
    "data = pd.read_csv('data.csv')\n",
    "data = data[['category_name', 'title']]\n",
    "pd.set_option('display.max_rows', 500)"
   ]
  },
  {
   "cell_type": "code",
   "execution_count": 7,
   "metadata": {},
   "outputs": [
    {
     "data": {
      "text/plain": [
       "(254219, 2)"
      ]
     },
     "execution_count": 7,
     "metadata": {},
     "output_type": "execute_result"
    }
   ],
   "source": [
    "data.shape"
   ]
  },
  {
   "cell_type": "code",
   "execution_count": 8,
   "metadata": {},
   "outputs": [],
   "source": [
    "def print_clustering_metrics(X: Union[np.ndarray, csr_matrix], y: List[str], labels: List[str]) -> None:\n",
    "    print('Silhouette Coefficient: %0.3f'\n",
    "          % metrics.silhouette_score(X, labels))\n",
    "    \n",
    "    print('Homogeneity: %0.3f' % metrics.homogeneity_score(y, labels))\n",
    "    print('Completeness: %0.3f' % metrics.completeness_score(y, labels))\n",
    "    print('V-measure: %0.3f' % metrics.v_measure_score(y, labels))\n",
    "    print('Adjusted Rand Index: %0.3f'\n",
    "          % metrics.adjusted_rand_score(y, labels))\n",
    "    print('Adjusted Mutual Information: %0.3f'\n",
    "          % metrics.adjusted_mutual_info_score(y, labels))"
   ]
  },
  {
   "cell_type": "markdown",
   "metadata": {},
   "source": [
    "# CountVectorizer vs. TfidfVectorizer"
   ]
  },
  {
   "cell_type": "code",
   "execution_count": 9,
   "metadata": {},
   "outputs": [],
   "source": [
    "sample = data.sample(frac=0.01)"
   ]
  },
  {
   "cell_type": "code",
   "execution_count": 10,
   "metadata": {},
   "outputs": [],
   "source": [
    "cv_word = CountVectorizer(max_features=1000, preprocessor=normalize, tokenizer=dummy,\n",
    "                          min_df=5, max_df=0.75, ngram_range=(1, 3))\n",
    "X_cv_word = cv_word.fit_transform(sample['title'])\n",
    "\n",
    "cv_char = CountVectorizer(max_features=1000, preprocessor=lambda x: ' '.join(normalize(x)),\n",
    "                          analyzer='char_wb', min_df=10, max_df=0.75, ngram_range=(3, 5))\n",
    "X_cv_char = cv_char.fit_transform(sample['title'])\n",
    "\n",
    "tfidf_word = TfidfVectorizer(max_features=1000, preprocessor=normalize, tokenizer=dummy,\n",
    "                             min_df=5, max_df=0.75, ngram_range=(1, 3))\n",
    "X_tfidf_word = tfidf_word.fit_transform(sample['title'])\n",
    "\n",
    "tfidf_char = TfidfVectorizer(max_features=1000, preprocessor=lambda x: ' '.join(normalize(x)),\n",
    "                             analyzer='char_wb', min_df=10, max_df=0.75, ngram_range=(3, 5))\n",
    "X_tfidf_char = tfidf_char.fit_transform(sample['title'])\n",
    "\n",
    "y = sample['category_name']"
   ]
  },
  {
   "cell_type": "markdown",
   "metadata": {},
   "source": [
    "## AffinityPropagation"
   ]
  },
  {
   "cell_type": "code",
   "execution_count": 11,
   "metadata": {},
   "outputs": [],
   "source": [
    "cluster = AffinityPropagation(damping=0.75, preference=-5, max_iter=1000, verbose=2)"
   ]
  },
  {
   "cell_type": "code",
   "execution_count": 12,
   "metadata": {},
   "outputs": [
    {
     "name": "stdout",
     "output_type": "stream",
     "text": [
      "Converged after 176 iterations.\n",
      "Silhouette Coefficient: 0.412\n",
      "Homogeneity: 0.462\n",
      "Completeness: 0.395\n",
      "V-measure: 0.426\n",
      "Adjusted Rand Index: -0.016\n",
      "Adjusted Mutual Information: 0.269\n"
     ]
    }
   ],
   "source": [
    "print_clustering_metrics(X_cv_word, y, cluster.fit(X_cv_word).labels_)"
   ]
  },
  {
   "cell_type": "code",
   "execution_count": 13,
   "metadata": {},
   "outputs": [
    {
     "name": "stdout",
     "output_type": "stream",
     "text": [
      "Converged after 189 iterations.\n",
      "Silhouette Coefficient: 0.255\n",
      "Homogeneity: 0.844\n",
      "Completeness: 0.399\n",
      "V-measure: 0.542\n",
      "Adjusted Rand Index: 0.021\n",
      "Adjusted Mutual Information: 0.129\n"
     ]
    }
   ],
   "source": [
    "print_clustering_metrics(X_cv_char, y, cluster.fit(X_cv_char).labels_)"
   ]
  },
  {
   "cell_type": "code",
   "execution_count": 14,
   "metadata": {},
   "outputs": [
    {
     "name": "stdout",
     "output_type": "stream",
     "text": [
      "Converged after 235 iterations.\n",
      "Silhouette Coefficient: 0.393\n",
      "Homogeneity: 0.378\n",
      "Completeness: 0.386\n",
      "V-measure: 0.382\n",
      "Adjusted Rand Index: -0.027\n",
      "Adjusted Mutual Information: 0.270\n"
     ]
    }
   ],
   "source": [
    "print_clustering_metrics(X_tfidf_word, y, cluster.fit(X_tfidf_word).labels_)"
   ]
  },
  {
   "cell_type": "code",
   "execution_count": 15,
   "metadata": {},
   "outputs": [
    {
     "name": "stdout",
     "output_type": "stream",
     "text": [
      "Converged after 247 iterations.\n",
      "Silhouette Coefficient: 0.216\n",
      "Homogeneity: 0.444\n",
      "Completeness: 0.405\n",
      "V-measure: 0.424\n",
      "Adjusted Rand Index: 0.010\n",
      "Adjusted Mutual Information: 0.318\n"
     ]
    }
   ],
   "source": [
    "print_clustering_metrics(X_tfidf_char, y, cluster.fit(X_tfidf_char).labels_)"
   ]
  },
  {
   "cell_type": "markdown",
   "metadata": {},
   "source": [
    "Over several attempts to calculate these score, it became clear that winners in each \"category\" (the metric we consider) are different from attempt to attempt. The algorithm is simply too random for our sparse data."
   ]
  },
  {
   "cell_type": "markdown",
   "metadata": {},
   "source": [
    "# SVD vs. NMF"
   ]
  },
  {
   "cell_type": "code",
   "execution_count": 16,
   "metadata": {},
   "outputs": [],
   "source": [
    "cv = CountVectorizer(preprocessor=normalize, tokenizer=dummy,\n",
    "                     min_df=5, max_df=0.75, ngram_range=(1, 3))\n",
    "X_cv = cv_word.fit_transform(sample['title'])"
   ]
  },
  {
   "cell_type": "code",
   "execution_count": 17,
   "metadata": {},
   "outputs": [],
   "source": [
    "svd = TruncatedSVD(50)\n",
    "X_svd = svd.fit_transform(X_cv)"
   ]
  },
  {
   "cell_type": "code",
   "execution_count": 18,
   "metadata": {},
   "outputs": [],
   "source": [
    "nmf = NMF(50)\n",
    "X_nmf = nmf.fit_transform(X_cv)"
   ]
  },
  {
   "cell_type": "markdown",
   "metadata": {},
   "source": [
    "## DBSCAN"
   ]
  },
  {
   "cell_type": "code",
   "execution_count": 19,
   "metadata": {},
   "outputs": [],
   "source": [
    "cluster = DBSCAN(min_samples=10, eps=0.3) "
   ]
  },
  {
   "cell_type": "code",
   "execution_count": 20,
   "metadata": {},
   "outputs": [
    {
     "name": "stdout",
     "output_type": "stream",
     "text": [
      "Silhouette Coefficient: 0.491\n",
      "Homogeneity: 0.197\n",
      "Completeness: 0.323\n",
      "V-measure: 0.245\n",
      "Adjusted Rand Index: -0.012\n",
      "Adjusted Mutual Information: 0.146\n"
     ]
    }
   ],
   "source": [
    "print_clustering_metrics(X_svd, y, cluster.fit(X_svd).labels_)"
   ]
  },
  {
   "cell_type": "code",
   "execution_count": 21,
   "metadata": {},
   "outputs": [
    {
     "name": "stdout",
     "output_type": "stream",
     "text": [
      "Silhouette Coefficient: 0.462\n",
      "Homogeneity: 0.103\n",
      "Completeness: 0.317\n",
      "V-measure: 0.155\n",
      "Adjusted Rand Index: -0.013\n",
      "Adjusted Mutual Information: 0.075\n"
     ]
    }
   ],
   "source": [
    "print_clustering_metrics(X_nmf, y, cluster.fit(X_nmf).labels_)"
   ]
  },
  {
   "cell_type": "markdown",
   "metadata": {},
   "source": [
    "## KMeans"
   ]
  },
  {
   "cell_type": "code",
   "execution_count": 22,
   "metadata": {},
   "outputs": [],
   "source": [
    "cluster = KMeans(n_clusters=47)"
   ]
  },
  {
   "cell_type": "code",
   "execution_count": 23,
   "metadata": {},
   "outputs": [
    {
     "name": "stdout",
     "output_type": "stream",
     "text": [
      "Silhouette Coefficient: 0.646\n",
      "Homogeneity: 0.289\n",
      "Completeness: 0.405\n",
      "V-measure: 0.337\n",
      "Adjusted Rand Index: -0.022\n",
      "Adjusted Mutual Information: 0.223\n"
     ]
    }
   ],
   "source": [
    "print_clustering_metrics(X_svd, y, cluster.fit(X_svd).labels_)"
   ]
  },
  {
   "cell_type": "code",
   "execution_count": 24,
   "metadata": {},
   "outputs": [
    {
     "name": "stdout",
     "output_type": "stream",
     "text": [
      "Silhouette Coefficient: 0.675\n",
      "Homogeneity: 0.290\n",
      "Completeness: 0.389\n",
      "V-measure: 0.332\n",
      "Adjusted Rand Index: -0.027\n",
      "Adjusted Mutual Information: 0.221\n"
     ]
    }
   ],
   "source": [
    "print_clustering_metrics(X_nmf, y, cluster.fit(X_nmf).labels_)"
   ]
  },
  {
   "cell_type": "markdown",
   "metadata": {},
   "source": [
    "## MeanShift"
   ]
  },
  {
   "cell_type": "code",
   "execution_count": 25,
   "metadata": {},
   "outputs": [],
   "source": [
    "cluster = MeanShift(cluster_all=False, bandwidth=0.5)"
   ]
  },
  {
   "cell_type": "code",
   "execution_count": 26,
   "metadata": {},
   "outputs": [
    {
     "name": "stdout",
     "output_type": "stream",
     "text": [
      "Silhouette Coefficient: 0.723\n",
      "Homogeneity: 0.362\n",
      "Completeness: 0.367\n",
      "V-measure: 0.364\n",
      "Adjusted Rand Index: -0.026\n",
      "Adjusted Mutual Information: 0.202\n"
     ]
    }
   ],
   "source": [
    "print_clustering_metrics(X_svd, y, cluster.fit(X_svd).labels_)"
   ]
  },
  {
   "cell_type": "code",
   "execution_count": 27,
   "metadata": {},
   "outputs": [
    {
     "name": "stdout",
     "output_type": "stream",
     "text": [
      "Silhouette Coefficient: 0.534\n",
      "Homogeneity: 0.058\n",
      "Completeness: 0.360\n",
      "V-measure: 0.099\n",
      "Adjusted Rand Index: 0.011\n",
      "Adjusted Mutual Information: 0.037\n"
     ]
    }
   ],
   "source": [
    "print_clustering_metrics(X_nmf, y, cluster.fit(X_nmf).labels_)"
   ]
  },
  {
   "cell_type": "markdown",
   "metadata": {},
   "source": [
    "Overall, it's clear that SVD is slightly better to decompose BoW-matrices for clustering."
   ]
  },
  {
   "cell_type": "markdown",
   "metadata": {},
   "source": [
    "# Data outliers"
   ]
  },
  {
   "cell_type": "markdown",
   "metadata": {},
   "source": [
    "## DBSCAN"
   ]
  },
  {
   "cell_type": "code",
   "execution_count": 28,
   "metadata": {},
   "outputs": [
    {
     "data": {
      "text/plain": [
       "DBSCAN(algorithm='auto', eps=0.3, leaf_size=30, metric='euclidean',\n",
       "    metric_params=None, min_samples=10, n_jobs=None, p=None)"
      ]
     },
     "execution_count": 28,
     "metadata": {},
     "output_type": "execute_result"
    }
   ],
   "source": [
    "cluster = DBSCAN(min_samples=10, eps=0.3)\n",
    "cluster.fit(X_svd)"
   ]
  },
  {
   "cell_type": "code",
   "execution_count": 29,
   "metadata": {},
   "outputs": [],
   "source": [
    "sample['cluster'] = cluster.labels_"
   ]
  },
  {
   "cell_type": "code",
   "execution_count": 30,
   "metadata": {},
   "outputs": [
    {
     "data": {
      "text/html": [
       "<div>\n",
       "<style scoped>\n",
       "    .dataframe tbody tr th:only-of-type {\n",
       "        vertical-align: middle;\n",
       "    }\n",
       "\n",
       "    .dataframe tbody tr th {\n",
       "        vertical-align: top;\n",
       "    }\n",
       "\n",
       "    .dataframe thead th {\n",
       "        text-align: right;\n",
       "    }\n",
       "</style>\n",
       "<table border=\"1\" class=\"dataframe\">\n",
       "  <thead>\n",
       "    <tr style=\"text-align: right;\">\n",
       "      <th></th>\n",
       "      <th>category_name</th>\n",
       "      <th>title</th>\n",
       "      <th>cluster</th>\n",
       "    </tr>\n",
       "  </thead>\n",
       "  <tbody>\n",
       "    <tr>\n",
       "      <th>140930</th>\n",
       "      <td>Детская одежда и обувь</td>\n",
       "      <td>Брюки на девочку</td>\n",
       "      <td>-1</td>\n",
       "    </tr>\n",
       "    <tr>\n",
       "      <th>172885</th>\n",
       "      <td>Гаражи и машиноместа</td>\n",
       "      <td>Гараж, 30 м²</td>\n",
       "      <td>-1</td>\n",
       "    </tr>\n",
       "    <tr>\n",
       "      <th>238557</th>\n",
       "      <td>Одежда, обувь, аксессуары</td>\n",
       "      <td>Балетки 38 размер</td>\n",
       "      <td>-1</td>\n",
       "    </tr>\n",
       "    <tr>\n",
       "      <th>153395</th>\n",
       "      <td>Детская одежда и обувь</td>\n",
       "      <td>Одежда для мальчика</td>\n",
       "      <td>-1</td>\n",
       "    </tr>\n",
       "    <tr>\n",
       "      <th>99121</th>\n",
       "      <td>Детская одежда и обувь</td>\n",
       "      <td>Резиновые сапоги Капика. Размер 25</td>\n",
       "      <td>-1</td>\n",
       "    </tr>\n",
       "    <tr>\n",
       "      <th>227220</th>\n",
       "      <td>Земельные участки</td>\n",
       "      <td>Участок 10 сот. (ИЖС)</td>\n",
       "      <td>-1</td>\n",
       "    </tr>\n",
       "    <tr>\n",
       "      <th>170521</th>\n",
       "      <td>Телефоны</td>\n",
       "      <td>iPhone 5s 16gb</td>\n",
       "      <td>-1</td>\n",
       "    </tr>\n",
       "    <tr>\n",
       "      <th>83539</th>\n",
       "      <td>Дома, дачи, коттеджи</td>\n",
       "      <td>Дача 21 м² на участке 4 сот.</td>\n",
       "      <td>-1</td>\n",
       "    </tr>\n",
       "    <tr>\n",
       "      <th>119366</th>\n",
       "      <td>Спорт и отдых</td>\n",
       "      <td>Продаю роликовые коньки размер 35-38</td>\n",
       "      <td>-1</td>\n",
       "    </tr>\n",
       "    <tr>\n",
       "      <th>78629</th>\n",
       "      <td>Товары для компьютера</td>\n",
       "      <td>Монитор с IPS матрицей LG 32MP58HQ-P 2016 года</td>\n",
       "      <td>-1</td>\n",
       "    </tr>\n",
       "  </tbody>\n",
       "</table>\n",
       "</div>"
      ],
      "text/plain": [
       "                    category_name  \\\n",
       "140930     Детская одежда и обувь   \n",
       "172885       Гаражи и машиноместа   \n",
       "238557  Одежда, обувь, аксессуары   \n",
       "153395     Детская одежда и обувь   \n",
       "99121      Детская одежда и обувь   \n",
       "227220          Земельные участки   \n",
       "170521                   Телефоны   \n",
       "83539        Дома, дачи, коттеджи   \n",
       "119366              Спорт и отдых   \n",
       "78629       Товары для компьютера   \n",
       "\n",
       "                                                 title  cluster  \n",
       "140930                                Брюки на девочку       -1  \n",
       "172885                                    Гараж, 30 м²       -1  \n",
       "238557                               Балетки 38 размер       -1  \n",
       "153395                             Одежда для мальчика       -1  \n",
       "99121               Резиновые сапоги Капика. Размер 25       -1  \n",
       "227220                           Участок 10 сот. (ИЖС)       -1  \n",
       "170521                                  iPhone 5s 16gb       -1  \n",
       "83539                     Дача 21 м² на участке 4 сот.       -1  \n",
       "119366            Продаю роликовые коньки размер 35-38       -1  \n",
       "78629   Монитор с IPS матрицей LG 32MP58HQ-P 2016 года       -1  "
      ]
     },
     "execution_count": 30,
     "metadata": {},
     "output_type": "execute_result"
    }
   ],
   "source": [
    "sample[sample.cluster == -1].head(10)"
   ]
  },
  {
   "cell_type": "markdown",
   "metadata": {},
   "source": [
    "It seems like this particular algorithm doesn't work with numbers very well, it tends to mark sentences containing numbers as outliers."
   ]
  },
  {
   "cell_type": "markdown",
   "metadata": {},
   "source": [
    "## MeanShift"
   ]
  },
  {
   "cell_type": "code",
   "execution_count": 31,
   "metadata": {},
   "outputs": [
    {
     "data": {
      "text/plain": [
       "MeanShift(bandwidth=2, bin_seeding=False, cluster_all=False, min_bin_freq=1,\n",
       "     n_jobs=None, seeds=None)"
      ]
     },
     "execution_count": 31,
     "metadata": {},
     "output_type": "execute_result"
    }
   ],
   "source": [
    "cluster = MeanShift(cluster_all=False, bandwidth=2)\n",
    "cluster.fit(X_svd)"
   ]
  },
  {
   "cell_type": "code",
   "execution_count": 32,
   "metadata": {},
   "outputs": [],
   "source": [
    "sample['cluster'] = cluster.labels_"
   ]
  },
  {
   "cell_type": "code",
   "execution_count": 33,
   "metadata": {},
   "outputs": [
    {
     "data": {
      "text/html": [
       "<div>\n",
       "<style scoped>\n",
       "    .dataframe tbody tr th:only-of-type {\n",
       "        vertical-align: middle;\n",
       "    }\n",
       "\n",
       "    .dataframe tbody tr th {\n",
       "        vertical-align: top;\n",
       "    }\n",
       "\n",
       "    .dataframe thead th {\n",
       "        text-align: right;\n",
       "    }\n",
       "</style>\n",
       "<table border=\"1\" class=\"dataframe\">\n",
       "  <thead>\n",
       "    <tr style=\"text-align: right;\">\n",
       "      <th></th>\n",
       "      <th>category_name</th>\n",
       "      <th>title</th>\n",
       "      <th>cluster</th>\n",
       "    </tr>\n",
       "  </thead>\n",
       "  <tbody>\n",
       "    <tr>\n",
       "      <th>225358</th>\n",
       "      <td>Квартиры</td>\n",
       "      <td>3-к квартира, 59 м², 9/13 эт.</td>\n",
       "      <td>-1</td>\n",
       "    </tr>\n",
       "    <tr>\n",
       "      <th>227220</th>\n",
       "      <td>Земельные участки</td>\n",
       "      <td>Участок 10 сот. (ИЖС)</td>\n",
       "      <td>-1</td>\n",
       "    </tr>\n",
       "    <tr>\n",
       "      <th>83539</th>\n",
       "      <td>Дома, дачи, коттеджи</td>\n",
       "      <td>Дача 21 м² на участке 4 сот.</td>\n",
       "      <td>-1</td>\n",
       "    </tr>\n",
       "    <tr>\n",
       "      <th>39540</th>\n",
       "      <td>Квартиры</td>\n",
       "      <td>1-к квартира, 36.8 м², 3/9 эт.</td>\n",
       "      <td>-1</td>\n",
       "    </tr>\n",
       "    <tr>\n",
       "      <th>136663</th>\n",
       "      <td>Квартиры</td>\n",
       "      <td>2-к квартира, 51 м², 4/12 эт.</td>\n",
       "      <td>-1</td>\n",
       "    </tr>\n",
       "    <tr>\n",
       "      <th>126081</th>\n",
       "      <td>Комнаты</td>\n",
       "      <td>Комната 12 м² в 1-к, 5/5 эт.</td>\n",
       "      <td>-1</td>\n",
       "    </tr>\n",
       "    <tr>\n",
       "      <th>18454</th>\n",
       "      <td>Дома, дачи, коттеджи</td>\n",
       "      <td>Дом 165 м² на участке 4 сот.</td>\n",
       "      <td>-1</td>\n",
       "    </tr>\n",
       "    <tr>\n",
       "      <th>119270</th>\n",
       "      <td>Дома, дачи, коттеджи</td>\n",
       "      <td>Дом 90 м² на участке 7 сот.</td>\n",
       "      <td>-1</td>\n",
       "    </tr>\n",
       "    <tr>\n",
       "      <th>80626</th>\n",
       "      <td>Автомобили</td>\n",
       "      <td>ВАЗ 2114 Samara, 2004</td>\n",
       "      <td>-1</td>\n",
       "    </tr>\n",
       "    <tr>\n",
       "      <th>94113</th>\n",
       "      <td>Коммерческая недвижимость</td>\n",
       "      <td>Помещение свободного назначения, 85.9 м²</td>\n",
       "      <td>-1</td>\n",
       "    </tr>\n",
       "  </tbody>\n",
       "</table>\n",
       "</div>"
      ],
      "text/plain": [
       "                    category_name                                     title  \\\n",
       "225358                   Квартиры             3-к квартира, 59 м², 9/13 эт.   \n",
       "227220          Земельные участки                     Участок 10 сот. (ИЖС)   \n",
       "83539        Дома, дачи, коттеджи              Дача 21 м² на участке 4 сот.   \n",
       "39540                    Квартиры            1-к квартира, 36.8 м², 3/9 эт.   \n",
       "136663                   Квартиры             2-к квартира, 51 м², 4/12 эт.   \n",
       "126081                    Комнаты              Комната 12 м² в 1-к, 5/5 эт.   \n",
       "18454        Дома, дачи, коттеджи              Дом 165 м² на участке 4 сот.   \n",
       "119270       Дома, дачи, коттеджи               Дом 90 м² на участке 7 сот.   \n",
       "80626                  Автомобили                     ВАЗ 2114 Samara, 2004   \n",
       "94113   Коммерческая недвижимость  Помещение свободного назначения, 85.9 м²   \n",
       "\n",
       "        cluster  \n",
       "225358       -1  \n",
       "227220       -1  \n",
       "83539        -1  \n",
       "39540        -1  \n",
       "136663       -1  \n",
       "126081       -1  \n",
       "18454        -1  \n",
       "119270       -1  \n",
       "80626        -1  \n",
       "94113        -1  "
      ]
     },
     "execution_count": 33,
     "metadata": {},
     "output_type": "execute_result"
    }
   ],
   "source": [
    "sample[sample.cluster == -1].head(10)"
   ]
  },
  {
   "cell_type": "markdown",
   "metadata": {},
   "source": [
    "Here, the picture is similar. It is clear that all these \"outliers\" contain numbers, square meters, and specific contractions."
   ]
  },
  {
   "cell_type": "markdown",
   "metadata": {},
   "source": [
    "# Optimal number of clusters (\"shoulder\" method)"
   ]
  },
  {
   "cell_type": "code",
   "execution_count": 34,
   "metadata": {},
   "outputs": [
    {
     "name": "stderr",
     "output_type": "stream",
     "text": [
      " 18%|█▊        | 4/22 [00:01<00:06,  2.90it/s]\n",
      "100%|██████████| 22/22 [00:55<00:00,  4.41s/it]\n"
     ]
    }
   ],
   "source": [
    "cluster_nums = [5, 10] + list(range(50, 1001, 50))\n",
    "\n",
    "scores = []\n",
    "for i in tqdm(cluster_nums):\n",
    "    cluster = KMeans(n_clusters=i)\n",
    "    cluster.fit(X_svd)\n",
    "    scores.append(metrics.silhouette_score(X_svd, cluster.labels_))"
   ]
  },
  {
   "cell_type": "code",
   "execution_count": 35,
   "metadata": {},
   "outputs": [
    {
     "data": {
      "image/png": "[encoded data removed]",
      "text/plain": [
       "<Figure size 864x432 with 1 Axes>"
      ]
     },
     "metadata": {},
     "output_type": "display_data"
    }
   ],
   "source": [
    "plt.figure(figsize=(12, 6))\n",
    "plt.plot(cluster_nums, scores)\n",
    "plt.show()"
   ]
  },
  {
   "cell_type": "markdown",
   "metadata": {},
   "source": [
    "Interestingly enough, the shoulder is clearly visible. 50-100 tokens is the optimal value."
   ]
  },
  {
   "cell_type": "code",
   "execution_count": null,
   "metadata": {},
   "outputs": [],
   "source": []
  }
 ],
 "metadata": {
  "kernelspec": {
   "display_name": "nlp",
   "language": "python",
   "name": "nlp"
  },
  "language_info": {
   "codemirror_mode": {
    "name": "ipython",
    "version": 3
   },
   "file_extension": ".py",
   "mimetype": "text/x-python",
   "name": "python",
   "nbconvert_exporter": "python",
   "pygments_lexer": "ipython3",
   "version": "3.6.3"
  }
 },
 "nbformat": 4,
 "nbformat_minor": 2
}

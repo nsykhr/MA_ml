{
 "cells": [
  {
   "cell_type": "markdown",
   "metadata": {},
   "source": [
    "# Jigsaw Multilingual Toxic Comment Classification"
   ]
  },
  {
   "cell_type": "markdown",
   "metadata": {},
   "source": [
    "## Data analysis"
   ]
  },
  {
   "cell_type": "code",
   "execution_count": 1,
   "metadata": {},
   "outputs": [],
   "source": [
    "import warnings\n",
    "from typing import List\n",
    "\n",
    "import re\n",
    "import numpy as np\n",
    "import pandas as pd\n",
    "from collections import Counter\n",
    "\n",
    "import seaborn as sns\n",
    "from matplotlib import pyplot as plt\n",
    "\n",
    "from string import punctuation\n",
    "from nltk.tokenize import RegexpTokenizer\n",
    "\n",
    "from IPython.display import display\n",
    "\n",
    "warnings.filterwarnings('ignore')\n",
    "\n",
    "pd.set_option('display.max_colwidth', 1000)\n",
    "\n",
    "%matplotlib inline\n",
    "sns.set_style('darkgrid')\n",
    "\n",
    "punctuation += '«»—…“”*№–'"
   ]
  },
  {
   "cell_type": "code",
   "execution_count": 2,
   "metadata": {},
   "outputs": [],
   "source": [
    "train = pd.read_csv('jigsaw-toxic-comment-train.csv')\n",
    "val = pd.read_csv('validation.csv')"
   ]
  },
  {
   "cell_type": "code",
   "execution_count": 3,
   "metadata": {},
   "outputs": [
    {
     "data": {
      "text/html": [
       "<div>\n",
       "<style scoped>\n",
       "    .dataframe tbody tr th:only-of-type {\n",
       "        vertical-align: middle;\n",
       "    }\n",
       "\n",
       "    .dataframe tbody tr th {\n",
       "        vertical-align: top;\n",
       "    }\n",
       "\n",
       "    .dataframe thead th {\n",
       "        text-align: right;\n",
       "    }\n",
       "</style>\n",
       "<table border=\"1\" class=\"dataframe\">\n",
       "  <thead>\n",
       "    <tr style=\"text-align: right;\">\n",
       "      <th></th>\n",
       "      <th>id</th>\n",
       "      <th>comment_text</th>\n",
       "      <th>toxic</th>\n",
       "      <th>severe_toxic</th>\n",
       "      <th>obscene</th>\n",
       "      <th>threat</th>\n",
       "      <th>insult</th>\n",
       "      <th>identity_hate</th>\n",
       "    </tr>\n",
       "  </thead>\n",
       "  <tbody>\n",
       "    <tr>\n",
       "      <th>0</th>\n",
       "      <td>0000997932d777bf</td>\n",
       "      <td>Explanation\\nWhy the edits made under my username Hardcore Metallica Fan were reverted? They weren't vandalisms, just closure on some GAs after I voted at New York Dolls FAC. And please don't remove the template from the talk page since I'm retired now.89.205.38.27</td>\n",
       "      <td>0</td>\n",
       "      <td>0</td>\n",
       "      <td>0</td>\n",
       "      <td>0</td>\n",
       "      <td>0</td>\n",
       "      <td>0</td>\n",
       "    </tr>\n",
       "    <tr>\n",
       "      <th>1</th>\n",
       "      <td>000103f0d9cfb60f</td>\n",
       "      <td>D'aww! He matches this background colour I'm seemingly stuck with. Thanks.  (talk) 21:51, January 11, 2016 (UTC)</td>\n",
       "      <td>0</td>\n",
       "      <td>0</td>\n",
       "      <td>0</td>\n",
       "      <td>0</td>\n",
       "      <td>0</td>\n",
       "      <td>0</td>\n",
       "    </tr>\n",
       "    <tr>\n",
       "      <th>2</th>\n",
       "      <td>000113f07ec002fd</td>\n",
       "      <td>Hey man, I'm really not trying to edit war. It's just that this guy is constantly removing relevant information and talking to me through edits instead of my talk page. He seems to care more about the formatting than the actual info.</td>\n",
       "      <td>0</td>\n",
       "      <td>0</td>\n",
       "      <td>0</td>\n",
       "      <td>0</td>\n",
       "      <td>0</td>\n",
       "      <td>0</td>\n",
       "    </tr>\n",
       "    <tr>\n",
       "      <th>3</th>\n",
       "      <td>0001b41b1c6bb37e</td>\n",
       "      <td>\"\\nMore\\nI can't make any real suggestions on improvement - I wondered if the section statistics should be later on, or a subsection of \"\"types of accidents\"\"  -I think the references may need tidying so that they are all in the exact same format ie date format etc. I can do that later on, if no-one else does first - if you have any preferences for formatting style on references or want to do it yourself please let me know.\\n\\nThere appears to be a backlog on articles for review so I guess there may be a delay until a reviewer turns up. It's listed in the relevant form eg Wikipedia:Good_article_nominations#Transport  \"</td>\n",
       "      <td>0</td>\n",
       "      <td>0</td>\n",
       "      <td>0</td>\n",
       "      <td>0</td>\n",
       "      <td>0</td>\n",
       "      <td>0</td>\n",
       "    </tr>\n",
       "    <tr>\n",
       "      <th>4</th>\n",
       "      <td>0001d958c54c6e35</td>\n",
       "      <td>You, sir, are my hero. Any chance you remember what page that's on?</td>\n",
       "      <td>0</td>\n",
       "      <td>0</td>\n",
       "      <td>0</td>\n",
       "      <td>0</td>\n",
       "      <td>0</td>\n",
       "      <td>0</td>\n",
       "    </tr>\n",
       "    <tr>\n",
       "      <th>...</th>\n",
       "      <td>...</td>\n",
       "      <td>...</td>\n",
       "      <td>...</td>\n",
       "      <td>...</td>\n",
       "      <td>...</td>\n",
       "      <td>...</td>\n",
       "      <td>...</td>\n",
       "      <td>...</td>\n",
       "    </tr>\n",
       "    <tr>\n",
       "      <th>223544</th>\n",
       "      <td>fff8f64043129fa2</td>\n",
       "      <td>:Jerome, I see you never got around to this…! I’m not surprised: I looked for an example of the ‘’in nomine’’ plainsong notaion and couldn’t find one online - to my astonishment too.  \\n :But maybe you could clear up a question for me: is the cantus firmus of the English ‘’in nomines’’ the plainchant (in the alto part), or one of Taverner’s other three parts? This is not clear to me in the article. If the ‘’in nomines’’ are based on the plainchant, then where does Taverner come into it? Your expertise would be most appreciated, and maybe the article requires some explanation to this effect.</td>\n",
       "      <td>0</td>\n",
       "      <td>0</td>\n",
       "      <td>0</td>\n",
       "      <td>0</td>\n",
       "      <td>0</td>\n",
       "      <td>0</td>\n",
       "    </tr>\n",
       "    <tr>\n",
       "      <th>223545</th>\n",
       "      <td>fff9d70fe0722906</td>\n",
       "      <td>==Lucky bastard== \\n http://wikimediafoundation.org/wiki/Press_releases/English_Wikipedia_Announces_Thousandth_Featured_Article \\n\\n Heh you are famous now. I kida envy that. Congrats.</td>\n",
       "      <td>0</td>\n",
       "      <td>0</td>\n",
       "      <td>0</td>\n",
       "      <td>0</td>\n",
       "      <td>0</td>\n",
       "      <td>0</td>\n",
       "    </tr>\n",
       "    <tr>\n",
       "      <th>223546</th>\n",
       "      <td>fffa8a11c4378854</td>\n",
       "      <td>==shame on you all!!!== \\n\\n You want to speak about gays and not about romanians...</td>\n",
       "      <td>0</td>\n",
       "      <td>0</td>\n",
       "      <td>0</td>\n",
       "      <td>0</td>\n",
       "      <td>0</td>\n",
       "      <td>0</td>\n",
       "    </tr>\n",
       "    <tr>\n",
       "      <th>223547</th>\n",
       "      <td>fffac2a094c8e0e2</td>\n",
       "      <td>MEL GIBSON IS A NAZI BITCH WHO MAKES SHITTY MOVIES. HE HAS SO MUCH BUTTSEX THAT HIS ASSHOLE IS NOW BIG ENOUGH TO BE CONSIDERED A COUNTRY.</td>\n",
       "      <td>1</td>\n",
       "      <td>0</td>\n",
       "      <td>1</td>\n",
       "      <td>0</td>\n",
       "      <td>1</td>\n",
       "      <td>0</td>\n",
       "    </tr>\n",
       "    <tr>\n",
       "      <th>223548</th>\n",
       "      <td>fffb5451268fb5ba</td>\n",
       "      <td>\" \\n\\n == Unicorn lair discovery == \\n\\n Supposedly, a 'unicorn lair' has been discovered in Pyongyang, North Korea. The lair is supposedly associated with King Dongmyeong of Goguryeo, who supposedly rode a unicorn.  It should be added, but i can't quite find where to insert it. \"</td>\n",
       "      <td>0</td>\n",
       "      <td>0</td>\n",
       "      <td>0</td>\n",
       "      <td>0</td>\n",
       "      <td>0</td>\n",
       "      <td>0</td>\n",
       "    </tr>\n",
       "  </tbody>\n",
       "</table>\n",
       "<p>223549 rows × 8 columns</p>\n",
       "</div>"
      ],
      "text/plain": [
       "                      id  \\\n",
       "0       0000997932d777bf   \n",
       "1       000103f0d9cfb60f   \n",
       "2       000113f07ec002fd   \n",
       "3       0001b41b1c6bb37e   \n",
       "4       0001d958c54c6e35   \n",
       "...                  ...   \n",
       "223544  fff8f64043129fa2   \n",
       "223545  fff9d70fe0722906   \n",
       "223546  fffa8a11c4378854   \n",
       "223547  fffac2a094c8e0e2   \n",
       "223548  fffb5451268fb5ba   \n",
       "\n",
       "                                                                                                                                                                                                                                                                                                                                                                                                                                                                                                                                                                                                                                              comment_text  \\\n",
       "0                                                                                                                                                                                                                                                                                                                                                                                Explanation\\nWhy the edits made under my username Hardcore Metallica Fan were reverted? They weren't vandalisms, just closure on some GAs after I voted at New York Dolls FAC. And please don't remove the template from the talk page since I'm retired now.89.205.38.27   \n",
       "1                                                                                                                                                                                                                                                                                                                                                                                                                                                                                                                                         D'aww! He matches this background colour I'm seemingly stuck with. Thanks.  (talk) 21:51, January 11, 2016 (UTC)   \n",
       "2                                                                                                                                                                                                                                                                                                                                                                                                                Hey man, I'm really not trying to edit war. It's just that this guy is constantly removing relevant information and talking to me through edits instead of my talk page. He seems to care more about the formatting than the actual info.   \n",
       "3       \"\\nMore\\nI can't make any real suggestions on improvement - I wondered if the section statistics should be later on, or a subsection of \"\"types of accidents\"\"  -I think the references may need tidying so that they are all in the exact same format ie date format etc. I can do that later on, if no-one else does first - if you have any preferences for formatting style on references or want to do it yourself please let me know.\\n\\nThere appears to be a backlog on articles for review so I guess there may be a delay until a reviewer turns up. It's listed in the relevant form eg Wikipedia:Good_article_nominations#Transport  \"   \n",
       "4                                                                                                                                                                                                                                                                                                                                                                                                                                                                                                                                                                                      You, sir, are my hero. Any chance you remember what page that's on?   \n",
       "...                                                                                                                                                                                                                                                                                                                                                                                                                                                                                                                                                                                                                                                    ...   \n",
       "223544                               :Jerome, I see you never got around to this…! I’m not surprised: I looked for an example of the ‘’in nomine’’ plainsong notaion and couldn’t find one online - to my astonishment too.  \\n :But maybe you could clear up a question for me: is the cantus firmus of the English ‘’in nomines’’ the plainchant (in the alto part), or one of Taverner’s other three parts? This is not clear to me in the article. If the ‘’in nomines’’ are based on the plainchant, then where does Taverner come into it? Your expertise would be most appreciated, and maybe the article requires some explanation to this effect.   \n",
       "223545                                                                                                                                                                                                                                                                                                                                                                                                                                                            ==Lucky bastard== \\n http://wikimediafoundation.org/wiki/Press_releases/English_Wikipedia_Announces_Thousandth_Featured_Article \\n\\n Heh you are famous now. I kida envy that. Congrats.   \n",
       "223546                                                                                                                                                                                                                                                                                                                                                                                                                                                                                                                                                                ==shame on you all!!!== \\n\\n You want to speak about gays and not about romanians...   \n",
       "223547                                                                                                                                                                                                                                                                                                                                                                                                                                                                                                           MEL GIBSON IS A NAZI BITCH WHO MAKES SHITTY MOVIES. HE HAS SO MUCH BUTTSEX THAT HIS ASSHOLE IS NOW BIG ENOUGH TO BE CONSIDERED A COUNTRY.   \n",
       "223548                                                                                                                                                                                                                                                                                                                                                           \" \\n\\n == Unicorn lair discovery == \\n\\n Supposedly, a 'unicorn lair' has been discovered in Pyongyang, North Korea. The lair is supposedly associated with King Dongmyeong of Goguryeo, who supposedly rode a unicorn.  It should be added, but i can't quite find where to insert it. \"   \n",
       "\n",
       "        toxic  severe_toxic  obscene  threat  insult  identity_hate  \n",
       "0           0             0        0       0       0              0  \n",
       "1           0             0        0       0       0              0  \n",
       "2           0             0        0       0       0              0  \n",
       "3           0             0        0       0       0              0  \n",
       "4           0             0        0       0       0              0  \n",
       "...       ...           ...      ...     ...     ...            ...  \n",
       "223544      0             0        0       0       0              0  \n",
       "223545      0             0        0       0       0              0  \n",
       "223546      0             0        0       0       0              0  \n",
       "223547      1             0        1       0       1              0  \n",
       "223548      0             0        0       0       0              0  \n",
       "\n",
       "[223549 rows x 8 columns]"
      ]
     },
     "execution_count": 3,
     "metadata": {},
     "output_type": "execute_result"
    }
   ],
   "source": [
    "train"
   ]
  },
  {
   "cell_type": "code",
   "execution_count": 4,
   "metadata": {},
   "outputs": [
    {
     "data": {
      "text/html": [
       "<div>\n",
       "<style scoped>\n",
       "    .dataframe tbody tr th:only-of-type {\n",
       "        vertical-align: middle;\n",
       "    }\n",
       "\n",
       "    .dataframe tbody tr th {\n",
       "        vertical-align: top;\n",
       "    }\n",
       "\n",
       "    .dataframe thead th {\n",
       "        text-align: right;\n",
       "    }\n",
       "</style>\n",
       "<table border=\"1\" class=\"dataframe\">\n",
       "  <thead>\n",
       "    <tr style=\"text-align: right;\">\n",
       "      <th></th>\n",
       "      <th>id</th>\n",
       "      <th>comment_text</th>\n",
       "      <th>lang</th>\n",
       "      <th>toxic</th>\n",
       "    </tr>\n",
       "  </thead>\n",
       "  <tbody>\n",
       "    <tr>\n",
       "      <th>0</th>\n",
       "      <td>0</td>\n",
       "      <td>Este usuario ni siquiera llega al rango de    hereje   . Por lo tanto debería ser quemado en la barbacoa para purificar su alma y nuestro aparato digestivo mediante su ingestión.    Skipe linkin 22px   Honor, valor, leltad.      17:48 13 mar 2008 (UTC)</td>\n",
       "      <td>es</td>\n",
       "      <td>0</td>\n",
       "    </tr>\n",
       "    <tr>\n",
       "      <th>1</th>\n",
       "      <td>1</td>\n",
       "      <td>Il testo di questa voce pare esser scopiazzato direttamente da qui. Immagino possano esserci problemi di copyright, nel fare cio .</td>\n",
       "      <td>it</td>\n",
       "      <td>0</td>\n",
       "    </tr>\n",
       "    <tr>\n",
       "      <th>2</th>\n",
       "      <td>2</td>\n",
       "      <td>Vale. Sólo expongo mi pasado. Todo tiempo pasado fue mejor, ni mucho menos, yo no quisiera retroceder 31 años a nivel particular. Las volveria a pasar putas.Fernando</td>\n",
       "      <td>es</td>\n",
       "      <td>1</td>\n",
       "    </tr>\n",
       "    <tr>\n",
       "      <th>3</th>\n",
       "      <td>3</td>\n",
       "      <td>Bu maddenin alt başlığı olarak  uluslararası ilişkiler  ile konuyu sürdürmek ile ilgili tereddütlerim var.Önerim siyaset bilimi ana başlığından sonra siyasal yaşam ve toplum, siyasal güç, siyasal çatışma, siyasal gruplar, çağdaş ideolojiler, din, siyasal değişme, kamuoyu, propaganda ve siyasal katılma temelinde çoğulcu siyasal sistemler.Bu alt başlıkların daha anlamlı olacağı kanaatindeyim.</td>\n",
       "      <td>tr</td>\n",
       "      <td>0</td>\n",
       "    </tr>\n",
       "    <tr>\n",
       "      <th>4</th>\n",
       "      <td>4</td>\n",
       "      <td>Belçika nın şehirlerinin yanında ilçe ve beldelerini yaparken sanırım Portekizi örnek alacaksın. Ben de uzak gelecekte(2-3 yıl) bu tip şeyler düşünüyorum. Tabii futbol maddelerinin hakkından geldikten sonra..    daha önce mesajlarınızı görmüştüm, hatta anon bölümünü bizzat kullanıyordum   sözünü anlamadım??  tanışmak bugüneymiş gibi bir şey eklemeyi düşündüm ama vazgeçtim. orayı da silmeyi unuttum. boşverin Kıdemli   +</td>\n",
       "      <td>tr</td>\n",
       "      <td>0</td>\n",
       "    </tr>\n",
       "    <tr>\n",
       "      <th>...</th>\n",
       "      <td>...</td>\n",
       "      <td>...</td>\n",
       "      <td>...</td>\n",
       "      <td>...</td>\n",
       "    </tr>\n",
       "    <tr>\n",
       "      <th>7995</th>\n",
       "      <td>7995</td>\n",
       "      <td>Il fatto è che la pagina dei personaggi minori la intendiamo come  temporanea  fino a che i personaggi non abbiano una quantità di informazioni consistenti. Inoltre molti redirect puntano ai singoli personaggi    Indy    nel museo di</td>\n",
       "      <td>it</td>\n",
       "      <td>0</td>\n",
       "    </tr>\n",
       "    <tr>\n",
       "      <th>7996</th>\n",
       "      <td>7996</td>\n",
       "      <td>El imbesil ete dela luna no se entera ni ostias so ijo puta!! esto es un nicho ecológico i no un puto forum dela luna Coño ya!!! agregame: metemelamasadentro_ahsi@hotmail.com acias.</td>\n",
       "      <td>es</td>\n",
       "      <td>1</td>\n",
       "    </tr>\n",
       "    <tr>\n",
       "      <th>7997</th>\n",
       "      <td>7997</td>\n",
       "      <td>olum sız manyakmısınz siz adam sıze sanal yıldız vermıs bilmem nerenız kalkmıs bedava kole dıye calıstırıyorlar sızı siz hala uyuyuyn olmayan bi odul aldım dıye o odul birgun gercek olursa uzerine oturursun saygılarla</td>\n",
       "      <td>tr</td>\n",
       "      <td>1</td>\n",
       "    </tr>\n",
       "    <tr>\n",
       "      <th>7998</th>\n",
       "      <td>7998</td>\n",
       "      <td>El mapa del reinado de Alhaken esta ligeramente exagerado en la zona del pirineo aragonés.Jaca por ejemplo fue tomada en el 780 (¡200 años antes de este reinado!)Tal vez vendría bien cambiar la imagen... 21:30 22 nov 2007 (CET)</td>\n",
       "      <td>es</td>\n",
       "      <td>0</td>\n",
       "    </tr>\n",
       "    <tr>\n",
       "      <th>7999</th>\n",
       "      <td>7999</td>\n",
       "      <td>lasciami la tua email per favore. ad ogni modo se leggi qui, l immagine proviene da uno stemma   della Seta-Gaetani-Bocca   in legno dell ottocento senza aquile ma con 2 leocorni. agoseta@yahoo.com</td>\n",
       "      <td>it</td>\n",
       "      <td>0</td>\n",
       "    </tr>\n",
       "  </tbody>\n",
       "</table>\n",
       "<p>8000 rows × 4 columns</p>\n",
       "</div>"
      ],
      "text/plain": [
       "        id  \\\n",
       "0        0   \n",
       "1        1   \n",
       "2        2   \n",
       "3        3   \n",
       "4        4   \n",
       "...    ...   \n",
       "7995  7995   \n",
       "7996  7996   \n",
       "7997  7997   \n",
       "7998  7998   \n",
       "7999  7999   \n",
       "\n",
       "                                                                                                                                                                                                                                                                                                                                                                                                                                    comment_text  \\\n",
       "0                                                                                                                                                                                   Este usuario ni siquiera llega al rango de    hereje   . Por lo tanto debería ser quemado en la barbacoa para purificar su alma y nuestro aparato digestivo mediante su ingestión.    Skipe linkin 22px   Honor, valor, leltad.      17:48 13 mar 2008 (UTC)   \n",
       "1                                                                                                                                                                                                                                                                                                             Il testo di questa voce pare esser scopiazzato direttamente da qui. Immagino possano esserci problemi di copyright, nel fare cio .   \n",
       "2                                                                                                                                                                                                                                                                         Vale. Sólo expongo mi pasado. Todo tiempo pasado fue mejor, ni mucho menos, yo no quisiera retroceder 31 años a nivel particular. Las volveria a pasar putas.Fernando    \n",
       "3                                      Bu maddenin alt başlığı olarak  uluslararası ilişkiler  ile konuyu sürdürmek ile ilgili tereddütlerim var.Önerim siyaset bilimi ana başlığından sonra siyasal yaşam ve toplum, siyasal güç, siyasal çatışma, siyasal gruplar, çağdaş ideolojiler, din, siyasal değişme, kamuoyu, propaganda ve siyasal katılma temelinde çoğulcu siyasal sistemler.Bu alt başlıkların daha anlamlı olacağı kanaatindeyim.   \n",
       "4     Belçika nın şehirlerinin yanında ilçe ve beldelerini yaparken sanırım Portekizi örnek alacaksın. Ben de uzak gelecekte(2-3 yıl) bu tip şeyler düşünüyorum. Tabii futbol maddelerinin hakkından geldikten sonra..    daha önce mesajlarınızı görmüştüm, hatta anon bölümünü bizzat kullanıyordum   sözünü anlamadım??  tanışmak bugüneymiş gibi bir şey eklemeyi düşündüm ama vazgeçtim. orayı da silmeyi unuttum. boşverin Kıdemli   +       \n",
       "...                                                                                                                                                                                                                                                                                                                                                                                                                                          ...   \n",
       "7995                                                                                                                                                                                                  Il fatto è che la pagina dei personaggi minori la intendiamo come  temporanea  fino a che i personaggi non abbiano una quantità di informazioni consistenti. Inoltre molti redirect puntano ai singoli personaggi    Indy    nel museo di    \n",
       "7996                                                                                                                                                                                                                                                       El imbesil ete dela luna no se entera ni ostias so ijo puta!! esto es un nicho ecológico i no un puto forum dela luna Coño ya!!! agregame: metemelamasadentro_ahsi@hotmail.com acias.   \n",
       "7997                                                                                                                                                                                                                   olum sız manyakmısınz siz adam sıze sanal yıldız vermıs bilmem nerenız kalkmıs bedava kole dıye calıstırıyorlar sızı siz hala uyuyuyn olmayan bi odul aldım dıye o odul birgun gercek olursa uzerine oturursun saygılarla   \n",
       "7998                                                                                                                                                                                                         El mapa del reinado de Alhaken esta ligeramente exagerado en la zona del pirineo aragonés.Jaca por ejemplo fue tomada en el 780 (¡200 años antes de este reinado!)Tal vez vendría bien cambiar la imagen... 21:30 22 nov 2007 (CET)   \n",
       "7999                                                                                                                                                                                                                                       lasciami la tua email per favore. ad ogni modo se leggi qui, l immagine proviene da uno stemma   della Seta-Gaetani-Bocca   in legno dell ottocento senza aquile ma con 2 leocorni. agoseta@yahoo.com   \n",
       "\n",
       "     lang  toxic  \n",
       "0      es      0  \n",
       "1      it      0  \n",
       "2      es      1  \n",
       "3      tr      0  \n",
       "4      tr      0  \n",
       "...   ...    ...  \n",
       "7995   it      0  \n",
       "7996   es      1  \n",
       "7997   tr      1  \n",
       "7998   es      0  \n",
       "7999   it      0  \n",
       "\n",
       "[8000 rows x 4 columns]"
      ]
     },
     "execution_count": 4,
     "metadata": {},
     "output_type": "execute_result"
    }
   ],
   "source": [
    "val"
   ]
  },
  {
   "cell_type": "markdown",
   "metadata": {},
   "source": [
    "### Validation data languages"
   ]
  },
  {
   "cell_type": "code",
   "execution_count": 5,
   "metadata": {},
   "outputs": [
    {
     "data": {
      "text/html": [
       "<div>\n",
       "<style scoped>\n",
       "    .dataframe tbody tr th:only-of-type {\n",
       "        vertical-align: middle;\n",
       "    }\n",
       "\n",
       "    .dataframe tbody tr th {\n",
       "        vertical-align: top;\n",
       "    }\n",
       "\n",
       "    .dataframe thead th {\n",
       "        text-align: right;\n",
       "    }\n",
       "</style>\n",
       "<table border=\"1\" class=\"dataframe\">\n",
       "  <thead>\n",
       "    <tr style=\"text-align: right;\">\n",
       "      <th></th>\n",
       "      <th>toxic</th>\n",
       "    </tr>\n",
       "    <tr>\n",
       "      <th>lang</th>\n",
       "      <th></th>\n",
       "    </tr>\n",
       "  </thead>\n",
       "  <tbody>\n",
       "    <tr>\n",
       "      <th>es</th>\n",
       "      <td>2500</td>\n",
       "    </tr>\n",
       "    <tr>\n",
       "      <th>it</th>\n",
       "      <td>2500</td>\n",
       "    </tr>\n",
       "    <tr>\n",
       "      <th>tr</th>\n",
       "      <td>3000</td>\n",
       "    </tr>\n",
       "  </tbody>\n",
       "</table>\n",
       "</div>"
      ],
      "text/plain": [
       "      toxic\n",
       "lang       \n",
       "es     2500\n",
       "it     2500\n",
       "tr     3000"
      ]
     },
     "execution_count": 5,
     "metadata": {},
     "output_type": "execute_result"
    }
   ],
   "source": [
    "val[['lang', 'toxic']].groupby('lang').count()"
   ]
  },
  {
   "cell_type": "code",
   "execution_count": 6,
   "metadata": {},
   "outputs": [
    {
     "data": {
      "text/html": [
       "<div>\n",
       "<style scoped>\n",
       "    .dataframe tbody tr th:only-of-type {\n",
       "        vertical-align: middle;\n",
       "    }\n",
       "\n",
       "    .dataframe tbody tr th {\n",
       "        vertical-align: top;\n",
       "    }\n",
       "\n",
       "    .dataframe thead th {\n",
       "        text-align: right;\n",
       "    }\n",
       "</style>\n",
       "<table border=\"1\" class=\"dataframe\">\n",
       "  <thead>\n",
       "    <tr style=\"text-align: right;\">\n",
       "      <th></th>\n",
       "      <th>toxic</th>\n",
       "    </tr>\n",
       "    <tr>\n",
       "      <th>lang</th>\n",
       "      <th></th>\n",
       "    </tr>\n",
       "  </thead>\n",
       "  <tbody>\n",
       "    <tr>\n",
       "      <th>es</th>\n",
       "      <td>0.168800</td>\n",
       "    </tr>\n",
       "    <tr>\n",
       "      <th>it</th>\n",
       "      <td>0.195200</td>\n",
       "    </tr>\n",
       "    <tr>\n",
       "      <th>tr</th>\n",
       "      <td>0.106667</td>\n",
       "    </tr>\n",
       "  </tbody>\n",
       "</table>\n",
       "</div>"
      ],
      "text/plain": [
       "         toxic\n",
       "lang          \n",
       "es    0.168800\n",
       "it    0.195200\n",
       "tr    0.106667"
      ]
     },
     "execution_count": 6,
     "metadata": {},
     "output_type": "execute_result"
    }
   ],
   "source": [
    "val[['lang', 'toxic']].groupby('lang').sum() / val[['lang', 'toxic']].groupby('lang').count()"
   ]
  },
  {
   "cell_type": "markdown",
   "metadata": {},
   "source": [
    "The percentages of toxic comments vary slightly across the three languages."
   ]
  },
  {
   "cell_type": "markdown",
   "metadata": {},
   "source": [
    "### Character lengths"
   ]
  },
  {
   "cell_type": "code",
   "execution_count": 7,
   "metadata": {},
   "outputs": [
    {
     "data": {
      "image/png": "[encoded data removed]",
      "text/plain": [
       "<Figure size 432x288 with 1 Axes>"
      ]
     },
     "metadata": {},
     "output_type": "display_data"
    }
   ],
   "source": [
    "train_lens = train.comment_text.apply(len)\n",
    "plt.hist(train_lens, log=True);"
   ]
  },
  {
   "cell_type": "code",
   "execution_count": 8,
   "metadata": {},
   "outputs": [
    {
     "data": {
      "text/plain": [
       "count    223549.000000\n",
       "mean        391.012709\n",
       "std         592.862955\n",
       "min           1.000000\n",
       "25%          93.000000\n",
       "50%         203.000000\n",
       "75%         431.000000\n",
       "max        5000.000000\n",
       "Name: comment_text, dtype: float64"
      ]
     },
     "execution_count": 8,
     "metadata": {},
     "output_type": "execute_result"
    }
   ],
   "source": [
    "train_lens.describe()"
   ]
  },
  {
   "cell_type": "code",
   "execution_count": 9,
   "metadata": {},
   "outputs": [
    {
     "data": {
      "image/png": "[encoded data removed]",
      "text/plain": [
       "<Figure size 432x288 with 1 Axes>"
      ]
     },
     "metadata": {},
     "output_type": "display_data"
    }
   ],
   "source": [
    "val_lens = val.comment_text.apply(len)\n",
    "plt.hist(val_lens, log=True);"
   ]
  },
  {
   "cell_type": "code",
   "execution_count": 10,
   "metadata": {},
   "outputs": [
    {
     "data": {
      "text/plain": [
       "count    8000.000000\n",
       "mean      368.988000\n",
       "std       271.620356\n",
       "min        39.000000\n",
       "25%       175.000000\n",
       "50%       278.000000\n",
       "75%       469.000000\n",
       "max      1785.000000\n",
       "Name: comment_text, dtype: float64"
      ]
     },
     "execution_count": 10,
     "metadata": {},
     "output_type": "execute_result"
    }
   ],
   "source": [
    "val_lens.describe()"
   ]
  },
  {
   "cell_type": "markdown",
   "metadata": {},
   "source": [
    "The comments in the train set are much more varied in length, but the means are similar."
   ]
  },
  {
   "cell_type": "markdown",
   "metadata": {},
   "source": [
    "### Token lengths"
   ]
  },
  {
   "cell_type": "markdown",
   "metadata": {},
   "source": [
    "Before we get down to computing token lengths, let's develop a normalization algorithm for the extremely dirty data we are dealing with."
   ]
  },
  {
   "cell_type": "code",
   "execution_count": 11,
   "metadata": {},
   "outputs": [],
   "source": [
    "punctuation = punctuation.replace('[', '\\[').replace(']', '\\]')"
   ]
  },
  {
   "cell_type": "code",
   "execution_count": 12,
   "metadata": {},
   "outputs": [],
   "source": [
    "token_pattern = re.compile(r\"n't|'m|'re|'s|'d|can|\\w+(?=n't)|\\w+|\\d+|[\" + punctuation + r']|' + '[^\\w\\s]', re.IGNORECASE)\n",
    "tokenize = token_pattern.findall"
   ]
  },
  {
   "cell_type": "code",
   "execution_count": 13,
   "metadata": {},
   "outputs": [
    {
     "name": "stdout",
     "output_type": "stream",
     "text": [
      "Explanation\n",
      "Why\n",
      "the\n",
      "edits\n",
      "made\n",
      "under\n",
      "my\n",
      "username\n",
      "Hardcore\n",
      "Metallica\n",
      "Fan\n",
      "were\n",
      "reverted\n",
      "?\n",
      "They\n",
      "were\n",
      "n't\n",
      "vandalisms\n",
      ",\n",
      "just\n",
      "closure\n",
      "on\n",
      "some\n",
      "GAs\n",
      "after\n",
      "I\n",
      "voted\n",
      "at\n",
      "New\n",
      "York\n",
      "Dolls\n",
      "FAC\n",
      ".\n",
      "And\n",
      "please\n",
      "do\n",
      "n't\n",
      "remove\n",
      "the\n",
      "template\n",
      "from\n",
      "the\n",
      "talk\n",
      "page\n",
      "since\n",
      "I\n",
      "'m\n",
      "retired\n",
      "now\n",
      ".\n",
      "89\n",
      ".\n",
      "205\n",
      ".\n",
      "38\n",
      ".\n",
      "27\n",
      "\n",
      "D\n",
      "'\n",
      "aww\n",
      "!\n",
      "He\n",
      "matches\n",
      "this\n",
      "background\n",
      "colour\n",
      "I\n",
      "'m\n",
      "seemingly\n",
      "stuck\n",
      "with\n",
      ".\n",
      "Thanks\n",
      ".\n",
      "(\n",
      "talk\n",
      ")\n",
      "21\n",
      ":\n",
      "51\n",
      ",\n",
      "January\n",
      "11\n",
      ",\n",
      "2016\n",
      "(\n",
      "UTC\n",
      ")\n",
      "\n",
      "Hey\n",
      "man\n",
      ",\n",
      "I\n",
      "'m\n",
      "really\n",
      "not\n",
      "trying\n",
      "to\n",
      "edit\n",
      "war\n",
      ".\n",
      "It\n",
      "'s\n",
      "just\n",
      "that\n",
      "this\n",
      "guy\n",
      "is\n",
      "constantly\n",
      "removing\n",
      "relevant\n",
      "information\n",
      "and\n",
      "talking\n",
      "to\n",
      "me\n",
      "through\n",
      "edits\n",
      "instead\n",
      "of\n",
      "my\n",
      "talk\n",
      "page\n",
      ".\n",
      "He\n",
      "seems\n",
      "to\n",
      "care\n",
      "more\n",
      "about\n",
      "the\n",
      "formatting\n",
      "than\n",
      "the\n",
      "actual\n",
      "info\n",
      ".\n",
      "\n",
      "\"\n",
      "More\n",
      "I\n",
      "can\n",
      "'\n",
      "t\n",
      "make\n",
      "any\n",
      "real\n",
      "suggestions\n",
      "on\n",
      "improvement\n",
      "-\n",
      "I\n",
      "wondered\n",
      "if\n",
      "the\n",
      "section\n",
      "statistics\n",
      "should\n",
      "be\n",
      "later\n",
      "on\n",
      ",\n",
      "or\n",
      "a\n",
      "subsection\n",
      "of\n",
      "\"\n",
      "\"\n",
      "types\n",
      "of\n",
      "accidents\n",
      "\"\n",
      "\"\n",
      "-\n",
      "I\n",
      "think\n",
      "the\n",
      "references\n",
      "may\n",
      "need\n",
      "tidying\n",
      "so\n",
      "that\n",
      "they\n",
      "are\n",
      "all\n",
      "in\n",
      "the\n",
      "exact\n",
      "same\n",
      "format\n",
      "ie\n",
      "date\n",
      "format\n",
      "etc\n",
      ".\n",
      "I\n",
      "can\n",
      "do\n",
      "that\n",
      "later\n",
      "on\n",
      ",\n",
      "if\n",
      "no\n",
      "-\n",
      "one\n",
      "else\n",
      "does\n",
      "first\n",
      "-\n",
      "if\n",
      "you\n",
      "have\n",
      "any\n",
      "preferences\n",
      "for\n",
      "formatting\n",
      "style\n",
      "on\n",
      "references\n",
      "or\n",
      "want\n",
      "to\n",
      "do\n",
      "it\n",
      "yourself\n",
      "please\n",
      "let\n",
      "me\n",
      "know\n",
      ".\n",
      "There\n",
      "appears\n",
      "to\n",
      "be\n",
      "a\n",
      "backlog\n",
      "on\n",
      "articles\n",
      "for\n",
      "review\n",
      "so\n",
      "I\n",
      "guess\n",
      "there\n",
      "may\n",
      "be\n",
      "a\n",
      "delay\n",
      "until\n",
      "a\n",
      "reviewer\n",
      "turns\n",
      "up\n",
      ".\n",
      "It\n",
      "'s\n",
      "listed\n",
      "in\n",
      "the\n",
      "relevant\n",
      "form\n",
      "eg\n",
      "Wikipedia\n",
      ":\n",
      "Good_article_nominations\n",
      "#\n",
      "Transport\n",
      "\"\n",
      "\n",
      "You\n",
      ",\n",
      "sir\n",
      ",\n",
      "are\n",
      "my\n",
      "hero\n",
      ".\n",
      "Any\n",
      "chance\n",
      "you\n",
      "remember\n",
      "what\n",
      "page\n",
      "that\n",
      "'s\n",
      "on\n",
      "?\n",
      "\n"
     ]
    }
   ],
   "source": [
    "for i in range(5):\n",
    "    print('\\n'.join(tokenize(train.comment_text[i])))\n",
    "    print()"
   ]
  },
  {
   "cell_type": "code",
   "execution_count": 14,
   "metadata": {},
   "outputs": [],
   "source": [
    "punct = set(punctuation)\n",
    "\n",
    "def transform(x: str) -> str:\n",
    "    if x.isdigit():\n",
    "        return '<DIGIT>'\n",
    "    \n",
    "    if x in punct:\n",
    "        return '<PUNCT>'\n",
    "    \n",
    "    return x\n",
    "\n",
    "def normalize(text: str) -> List[str]:\n",
    "    return list(map(transform, tokenize(text.lower())))"
   ]
  },
  {
   "cell_type": "code",
   "execution_count": 15,
   "metadata": {},
   "outputs": [],
   "source": [
    "train['tokens'] = train.comment_text.apply(normalize)\n",
    "val['tokens'] = val.comment_text.apply(normalize)"
   ]
  },
  {
   "cell_type": "code",
   "execution_count": 16,
   "metadata": {},
   "outputs": [
    {
     "data": {
      "image/png": "[encoded data removed]",
      "text/plain": [
       "<Figure size 432x288 with 1 Axes>"
      ]
     },
     "metadata": {},
     "output_type": "display_data"
    }
   ],
   "source": [
    "train['token_lens'] = train.tokens.apply(len)\n",
    "plt.hist(train.token_lens, log=True);"
   ]
  },
  {
   "cell_type": "code",
   "execution_count": 17,
   "metadata": {},
   "outputs": [
    {
     "data": {
      "text/plain": [
       "count    223549.000000\n",
       "mean         84.280780\n",
       "std         129.888159\n",
       "min           1.000000\n",
       "25%          22.000000\n",
       "50%          45.000000\n",
       "75%          93.000000\n",
       "max        4976.000000\n",
       "Name: token_lens, dtype: float64"
      ]
     },
     "execution_count": 17,
     "metadata": {},
     "output_type": "execute_result"
    }
   ],
   "source": [
    "train.token_lens.describe()"
   ]
  },
  {
   "cell_type": "code",
   "execution_count": 18,
   "metadata": {},
   "outputs": [
    {
     "data": {
      "image/png": "[encoded data removed]",
      "text/plain": [
       "<Figure size 432x288 with 1 Axes>"
      ]
     },
     "metadata": {},
     "output_type": "display_data"
    }
   ],
   "source": [
    "val['token_lens'] = val.tokens.apply(len)\n",
    "plt.hist(val.token_lens, log=True);"
   ]
  },
  {
   "cell_type": "code",
   "execution_count": 19,
   "metadata": {},
   "outputs": [
    {
     "data": {
      "text/plain": [
       "count    8000.000000\n",
       "mean       68.025625\n",
       "std        47.982275\n",
       "min         8.000000\n",
       "25%        34.000000\n",
       "50%        52.000000\n",
       "75%        86.000000\n",
       "max       546.000000\n",
       "Name: token_lens, dtype: float64"
      ]
     },
     "execution_count": 19,
     "metadata": {},
     "output_type": "execute_result"
    }
   ],
   "source": [
    "val.token_lens.describe()"
   ]
  },
  {
   "cell_type": "markdown",
   "metadata": {},
   "source": [
    "Now we can see that validation texts are usually shorter (although it should be noted that the token pattern was not fine-tuned for the multilingual validation set, so maybe that's the reason). Texts from the training set are still much more varied in their lengths."
   ]
  },
  {
   "cell_type": "markdown",
   "metadata": {},
   "source": [
    "### Length vs. toxicity type"
   ]
  },
  {
   "cell_type": "code",
   "execution_count": 20,
   "metadata": {},
   "outputs": [
    {
     "data": {
      "text/html": [
       "<div>\n",
       "<style scoped>\n",
       "    .dataframe tbody tr th:only-of-type {\n",
       "        vertical-align: middle;\n",
       "    }\n",
       "\n",
       "    .dataframe tbody tr th {\n",
       "        vertical-align: top;\n",
       "    }\n",
       "\n",
       "    .dataframe thead tr th {\n",
       "        text-align: left;\n",
       "    }\n",
       "\n",
       "    .dataframe thead tr:last-of-type th {\n",
       "        text-align: right;\n",
       "    }\n",
       "</style>\n",
       "<table border=\"1\" class=\"dataframe\">\n",
       "  <thead>\n",
       "    <tr>\n",
       "      <th></th>\n",
       "      <th colspan=\"8\" halign=\"left\">token_lens</th>\n",
       "    </tr>\n",
       "    <tr>\n",
       "      <th></th>\n",
       "      <th>count</th>\n",
       "      <th>mean</th>\n",
       "      <th>std</th>\n",
       "      <th>min</th>\n",
       "      <th>25%</th>\n",
       "      <th>50%</th>\n",
       "      <th>75%</th>\n",
       "      <th>max</th>\n",
       "    </tr>\n",
       "    <tr>\n",
       "      <th>toxic</th>\n",
       "      <th></th>\n",
       "      <th></th>\n",
       "      <th></th>\n",
       "      <th></th>\n",
       "      <th></th>\n",
       "      <th></th>\n",
       "      <th></th>\n",
       "      <th></th>\n",
       "    </tr>\n",
       "  </thead>\n",
       "  <tbody>\n",
       "    <tr>\n",
       "      <th>0</th>\n",
       "      <td>202165.0</td>\n",
       "      <td>86.437949</td>\n",
       "      <td>126.484282</td>\n",
       "      <td>1.0</td>\n",
       "      <td>23.0</td>\n",
       "      <td>47.0</td>\n",
       "      <td>96.0</td>\n",
       "      <td>4976.0</td>\n",
       "    </tr>\n",
       "    <tr>\n",
       "      <th>1</th>\n",
       "      <td>21384.0</td>\n",
       "      <td>63.886831</td>\n",
       "      <td>157.042343</td>\n",
       "      <td>1.0</td>\n",
       "      <td>13.0</td>\n",
       "      <td>27.0</td>\n",
       "      <td>57.0</td>\n",
       "      <td>4950.0</td>\n",
       "    </tr>\n",
       "  </tbody>\n",
       "</table>\n",
       "</div>"
      ],
      "text/plain": [
       "      token_lens                                                      \n",
       "           count       mean         std  min   25%   50%   75%     max\n",
       "toxic                                                                 \n",
       "0       202165.0  86.437949  126.484282  1.0  23.0  47.0  96.0  4976.0\n",
       "1        21384.0  63.886831  157.042343  1.0  13.0  27.0  57.0  4950.0"
      ]
     },
     "metadata": {},
     "output_type": "display_data"
    },
    {
     "data": {
      "text/html": [
       "<div>\n",
       "<style scoped>\n",
       "    .dataframe tbody tr th:only-of-type {\n",
       "        vertical-align: middle;\n",
       "    }\n",
       "\n",
       "    .dataframe tbody tr th {\n",
       "        vertical-align: top;\n",
       "    }\n",
       "\n",
       "    .dataframe thead tr th {\n",
       "        text-align: left;\n",
       "    }\n",
       "\n",
       "    .dataframe thead tr:last-of-type th {\n",
       "        text-align: right;\n",
       "    }\n",
       "</style>\n",
       "<table border=\"1\" class=\"dataframe\">\n",
       "  <thead>\n",
       "    <tr>\n",
       "      <th></th>\n",
       "      <th colspan=\"8\" halign=\"left\">token_lens</th>\n",
       "    </tr>\n",
       "    <tr>\n",
       "      <th></th>\n",
       "      <th>count</th>\n",
       "      <th>mean</th>\n",
       "      <th>std</th>\n",
       "      <th>min</th>\n",
       "      <th>25%</th>\n",
       "      <th>50%</th>\n",
       "      <th>75%</th>\n",
       "      <th>max</th>\n",
       "    </tr>\n",
       "    <tr>\n",
       "      <th>severe_toxic</th>\n",
       "      <th></th>\n",
       "      <th></th>\n",
       "      <th></th>\n",
       "      <th></th>\n",
       "      <th></th>\n",
       "      <th></th>\n",
       "      <th></th>\n",
       "      <th></th>\n",
       "    </tr>\n",
       "  </thead>\n",
       "  <tbody>\n",
       "    <tr>\n",
       "      <th>0</th>\n",
       "      <td>221587.0</td>\n",
       "      <td>83.97679</td>\n",
       "      <td>127.169235</td>\n",
       "      <td>1.0</td>\n",
       "      <td>22.0</td>\n",
       "      <td>45.0</td>\n",
       "      <td>93.0</td>\n",
       "      <td>4976.0</td>\n",
       "    </tr>\n",
       "    <tr>\n",
       "      <th>1</th>\n",
       "      <td>1962.0</td>\n",
       "      <td>118.61315</td>\n",
       "      <td>307.677077</td>\n",
       "      <td>2.0</td>\n",
       "      <td>12.0</td>\n",
       "      <td>24.0</td>\n",
       "      <td>57.0</td>\n",
       "      <td>4850.0</td>\n",
       "    </tr>\n",
       "  </tbody>\n",
       "</table>\n",
       "</div>"
      ],
      "text/plain": [
       "             token_lens                                                      \n",
       "                  count       mean         std  min   25%   50%   75%     max\n",
       "severe_toxic                                                                 \n",
       "0              221587.0   83.97679  127.169235  1.0  22.0  45.0  93.0  4976.0\n",
       "1                1962.0  118.61315  307.677077  2.0  12.0  24.0  57.0  4850.0"
      ]
     },
     "metadata": {},
     "output_type": "display_data"
    },
    {
     "data": {
      "text/html": [
       "<div>\n",
       "<style scoped>\n",
       "    .dataframe tbody tr th:only-of-type {\n",
       "        vertical-align: middle;\n",
       "    }\n",
       "\n",
       "    .dataframe tbody tr th {\n",
       "        vertical-align: top;\n",
       "    }\n",
       "\n",
       "    .dataframe thead tr th {\n",
       "        text-align: left;\n",
       "    }\n",
       "\n",
       "    .dataframe thead tr:last-of-type th {\n",
       "        text-align: right;\n",
       "    }\n",
       "</style>\n",
       "<table border=\"1\" class=\"dataframe\">\n",
       "  <thead>\n",
       "    <tr>\n",
       "      <th></th>\n",
       "      <th colspan=\"8\" halign=\"left\">token_lens</th>\n",
       "    </tr>\n",
       "    <tr>\n",
       "      <th></th>\n",
       "      <th>count</th>\n",
       "      <th>mean</th>\n",
       "      <th>std</th>\n",
       "      <th>min</th>\n",
       "      <th>25%</th>\n",
       "      <th>50%</th>\n",
       "      <th>75%</th>\n",
       "      <th>max</th>\n",
       "    </tr>\n",
       "    <tr>\n",
       "      <th>obscene</th>\n",
       "      <th></th>\n",
       "      <th></th>\n",
       "      <th></th>\n",
       "      <th></th>\n",
       "      <th></th>\n",
       "      <th></th>\n",
       "      <th></th>\n",
       "      <th></th>\n",
       "    </tr>\n",
       "  </thead>\n",
       "  <tbody>\n",
       "    <tr>\n",
       "      <th>0</th>\n",
       "      <td>211409.0</td>\n",
       "      <td>85.443647</td>\n",
       "      <td>127.649576</td>\n",
       "      <td>1.0</td>\n",
       "      <td>22.0</td>\n",
       "      <td>46.0</td>\n",
       "      <td>95.0</td>\n",
       "      <td>4976.0</td>\n",
       "    </tr>\n",
       "    <tr>\n",
       "      <th>1</th>\n",
       "      <td>12140.0</td>\n",
       "      <td>64.030313</td>\n",
       "      <td>162.723979</td>\n",
       "      <td>1.0</td>\n",
       "      <td>12.0</td>\n",
       "      <td>25.0</td>\n",
       "      <td>53.0</td>\n",
       "      <td>4950.0</td>\n",
       "    </tr>\n",
       "  </tbody>\n",
       "</table>\n",
       "</div>"
      ],
      "text/plain": [
       "        token_lens                                                      \n",
       "             count       mean         std  min   25%   50%   75%     max\n",
       "obscene                                                                 \n",
       "0         211409.0  85.443647  127.649576  1.0  22.0  46.0  95.0  4976.0\n",
       "1          12140.0  64.030313  162.723979  1.0  12.0  25.0  53.0  4950.0"
      ]
     },
     "metadata": {},
     "output_type": "display_data"
    },
    {
     "data": {
      "text/html": [
       "<div>\n",
       "<style scoped>\n",
       "    .dataframe tbody tr th:only-of-type {\n",
       "        vertical-align: middle;\n",
       "    }\n",
       "\n",
       "    .dataframe tbody tr th {\n",
       "        vertical-align: top;\n",
       "    }\n",
       "\n",
       "    .dataframe thead tr th {\n",
       "        text-align: left;\n",
       "    }\n",
       "\n",
       "    .dataframe thead tr:last-of-type th {\n",
       "        text-align: right;\n",
       "    }\n",
       "</style>\n",
       "<table border=\"1\" class=\"dataframe\">\n",
       "  <thead>\n",
       "    <tr>\n",
       "      <th></th>\n",
       "      <th colspan=\"8\" halign=\"left\">token_lens</th>\n",
       "    </tr>\n",
       "    <tr>\n",
       "      <th></th>\n",
       "      <th>count</th>\n",
       "      <th>mean</th>\n",
       "      <th>std</th>\n",
       "      <th>min</th>\n",
       "      <th>25%</th>\n",
       "      <th>50%</th>\n",
       "      <th>75%</th>\n",
       "      <th>max</th>\n",
       "    </tr>\n",
       "    <tr>\n",
       "      <th>threat</th>\n",
       "      <th></th>\n",
       "      <th></th>\n",
       "      <th></th>\n",
       "      <th></th>\n",
       "      <th></th>\n",
       "      <th></th>\n",
       "      <th></th>\n",
       "      <th></th>\n",
       "    </tr>\n",
       "  </thead>\n",
       "  <tbody>\n",
       "    <tr>\n",
       "      <th>0</th>\n",
       "      <td>222860.0</td>\n",
       "      <td>84.281989</td>\n",
       "      <td>129.222038</td>\n",
       "      <td>1.0</td>\n",
       "      <td>22.0</td>\n",
       "      <td>45.0</td>\n",
       "      <td>93.0</td>\n",
       "      <td>4976.0</td>\n",
       "    </tr>\n",
       "    <tr>\n",
       "      <th>1</th>\n",
       "      <td>689.0</td>\n",
       "      <td>83.889695</td>\n",
       "      <td>269.822227</td>\n",
       "      <td>2.0</td>\n",
       "      <td>15.0</td>\n",
       "      <td>27.0</td>\n",
       "      <td>54.0</td>\n",
       "      <td>4618.0</td>\n",
       "    </tr>\n",
       "  </tbody>\n",
       "</table>\n",
       "</div>"
      ],
      "text/plain": [
       "       token_lens                                                      \n",
       "            count       mean         std  min   25%   50%   75%     max\n",
       "threat                                                                 \n",
       "0        222860.0  84.281989  129.222038  1.0  22.0  45.0  93.0  4976.0\n",
       "1           689.0  83.889695  269.822227  2.0  15.0  27.0  54.0  4618.0"
      ]
     },
     "metadata": {},
     "output_type": "display_data"
    },
    {
     "data": {
      "text/html": [
       "<div>\n",
       "<style scoped>\n",
       "    .dataframe tbody tr th:only-of-type {\n",
       "        vertical-align: middle;\n",
       "    }\n",
       "\n",
       "    .dataframe tbody tr th {\n",
       "        vertical-align: top;\n",
       "    }\n",
       "\n",
       "    .dataframe thead tr th {\n",
       "        text-align: left;\n",
       "    }\n",
       "\n",
       "    .dataframe thead tr:last-of-type th {\n",
       "        text-align: right;\n",
       "    }\n",
       "</style>\n",
       "<table border=\"1\" class=\"dataframe\">\n",
       "  <thead>\n",
       "    <tr>\n",
       "      <th></th>\n",
       "      <th colspan=\"8\" halign=\"left\">token_lens</th>\n",
       "    </tr>\n",
       "    <tr>\n",
       "      <th></th>\n",
       "      <th>count</th>\n",
       "      <th>mean</th>\n",
       "      <th>std</th>\n",
       "      <th>min</th>\n",
       "      <th>25%</th>\n",
       "      <th>50%</th>\n",
       "      <th>75%</th>\n",
       "      <th>max</th>\n",
       "    </tr>\n",
       "    <tr>\n",
       "      <th>insult</th>\n",
       "      <th></th>\n",
       "      <th></th>\n",
       "      <th></th>\n",
       "      <th></th>\n",
       "      <th></th>\n",
       "      <th></th>\n",
       "      <th></th>\n",
       "      <th></th>\n",
       "    </tr>\n",
       "  </thead>\n",
       "  <tbody>\n",
       "    <tr>\n",
       "      <th>0</th>\n",
       "      <td>212245.0</td>\n",
       "      <td>85.46084</td>\n",
       "      <td>128.232047</td>\n",
       "      <td>1.0</td>\n",
       "      <td>22.0</td>\n",
       "      <td>46.0</td>\n",
       "      <td>95.0</td>\n",
       "      <td>4976.0</td>\n",
       "    </tr>\n",
       "    <tr>\n",
       "      <th>1</th>\n",
       "      <td>11304.0</td>\n",
       "      <td>62.12385</td>\n",
       "      <td>156.148356</td>\n",
       "      <td>1.0</td>\n",
       "      <td>12.0</td>\n",
       "      <td>25.0</td>\n",
       "      <td>53.0</td>\n",
       "      <td>4850.0</td>\n",
       "    </tr>\n",
       "  </tbody>\n",
       "</table>\n",
       "</div>"
      ],
      "text/plain": [
       "       token_lens                                                     \n",
       "            count      mean         std  min   25%   50%   75%     max\n",
       "insult                                                                \n",
       "0        212245.0  85.46084  128.232047  1.0  22.0  46.0  95.0  4976.0\n",
       "1         11304.0  62.12385  156.148356  1.0  12.0  25.0  53.0  4850.0"
      ]
     },
     "metadata": {},
     "output_type": "display_data"
    },
    {
     "data": {
      "text/html": [
       "<div>\n",
       "<style scoped>\n",
       "    .dataframe tbody tr th:only-of-type {\n",
       "        vertical-align: middle;\n",
       "    }\n",
       "\n",
       "    .dataframe tbody tr th {\n",
       "        vertical-align: top;\n",
       "    }\n",
       "\n",
       "    .dataframe thead tr th {\n",
       "        text-align: left;\n",
       "    }\n",
       "\n",
       "    .dataframe thead tr:last-of-type th {\n",
       "        text-align: right;\n",
       "    }\n",
       "</style>\n",
       "<table border=\"1\" class=\"dataframe\">\n",
       "  <thead>\n",
       "    <tr>\n",
       "      <th></th>\n",
       "      <th colspan=\"8\" halign=\"left\">token_lens</th>\n",
       "    </tr>\n",
       "    <tr>\n",
       "      <th></th>\n",
       "      <th>count</th>\n",
       "      <th>mean</th>\n",
       "      <th>std</th>\n",
       "      <th>min</th>\n",
       "      <th>25%</th>\n",
       "      <th>50%</th>\n",
       "      <th>75%</th>\n",
       "      <th>max</th>\n",
       "    </tr>\n",
       "    <tr>\n",
       "      <th>identity_hate</th>\n",
       "      <th></th>\n",
       "      <th></th>\n",
       "      <th></th>\n",
       "      <th></th>\n",
       "      <th></th>\n",
       "      <th></th>\n",
       "      <th></th>\n",
       "      <th></th>\n",
       "    </tr>\n",
       "  </thead>\n",
       "  <tbody>\n",
       "    <tr>\n",
       "      <th>0</th>\n",
       "      <td>221432.0</td>\n",
       "      <td>84.434260</td>\n",
       "      <td>129.437375</td>\n",
       "      <td>1.0</td>\n",
       "      <td>22.0</td>\n",
       "      <td>45.0</td>\n",
       "      <td>93.0</td>\n",
       "      <td>4976.0</td>\n",
       "    </tr>\n",
       "    <tr>\n",
       "      <th>1</th>\n",
       "      <td>2117.0</td>\n",
       "      <td>68.227208</td>\n",
       "      <td>169.857921</td>\n",
       "      <td>2.0</td>\n",
       "      <td>12.0</td>\n",
       "      <td>25.0</td>\n",
       "      <td>55.0</td>\n",
       "      <td>3848.0</td>\n",
       "    </tr>\n",
       "  </tbody>\n",
       "</table>\n",
       "</div>"
      ],
      "text/plain": [
       "              token_lens                                                      \n",
       "                   count       mean         std  min   25%   50%   75%     max\n",
       "identity_hate                                                                 \n",
       "0               221432.0  84.434260  129.437375  1.0  22.0  45.0  93.0  4976.0\n",
       "1                 2117.0  68.227208  169.857921  2.0  12.0  25.0  55.0  3848.0"
      ]
     },
     "metadata": {},
     "output_type": "display_data"
    }
   ],
   "source": [
    "for column in ('toxic', 'severe_toxic', 'obscene', 'threat', 'insult', 'identity_hate'):\n",
    "    display(train[[column, 'token_lens']].groupby(column).describe())"
   ]
  },
  {
   "cell_type": "markdown",
   "metadata": {},
   "source": [
    "All of the toxicity types are quite rare, especially identity hate, severe toxic comments, and threats. Most toxic comments are usually shorter than normal comments, with the exception of severe toxic comments that are considerably longer and threats that are about the same length."
   ]
  },
  {
   "cell_type": "markdown",
   "metadata": {},
   "source": [
    "### Toxicity examples"
   ]
  },
  {
   "cell_type": "code",
   "execution_count": 21,
   "metadata": {},
   "outputs": [
    {
     "data": {
      "text/html": [
       "<div>\n",
       "<style scoped>\n",
       "    .dataframe tbody tr th:only-of-type {\n",
       "        vertical-align: middle;\n",
       "    }\n",
       "\n",
       "    .dataframe tbody tr th {\n",
       "        vertical-align: top;\n",
       "    }\n",
       "\n",
       "    .dataframe thead th {\n",
       "        text-align: right;\n",
       "    }\n",
       "</style>\n",
       "<table border=\"1\" class=\"dataframe\">\n",
       "  <thead>\n",
       "    <tr style=\"text-align: right;\">\n",
       "      <th></th>\n",
       "      <th>comment_text</th>\n",
       "      <th>toxic</th>\n",
       "    </tr>\n",
       "  </thead>\n",
       "  <tbody>\n",
       "    <tr>\n",
       "      <th>6</th>\n",
       "      <td>COCKSUCKER BEFORE YOU PISS AROUND ON MY WORK</td>\n",
       "      <td>1</td>\n",
       "    </tr>\n",
       "    <tr>\n",
       "      <th>12</th>\n",
       "      <td>Hey... what is it..\\n@ | talk .\\nWhat is it... an exclusive group of some WP TALIBANS...who are good at destroying, self-appointed purist who GANG UP any one who asks them questions abt their ANTI-SOCIAL and DESTRUCTIVE (non)-contribution at WP?\\n\\nAsk Sityush to clean up his behavior than issue me nonsensical warnings...</td>\n",
       "      <td>1</td>\n",
       "    </tr>\n",
       "    <tr>\n",
       "      <th>16</th>\n",
       "      <td>Bye! \\n\\nDon't look, come or think of comming back! Tosser.</td>\n",
       "      <td>1</td>\n",
       "    </tr>\n",
       "    <tr>\n",
       "      <th>42</th>\n",
       "      <td>You are gay or antisemmitian? \\n\\nArchangel WHite Tiger\\n\\nMeow! Greetingshhh!\\n\\nUh, there are two ways, why you do erased my comment about WW2, that holocaust was brutally slaying of Jews and not gays/Gypsys/Slavs/anyone...\\n\\n1 - If you are anti-semitian, than shave your head bald and go to the skinhead meetings!\\n\\n2 - If you doubt words of the Bible, that homosexuality is a deadly sin, make a pentagram tatoo on your forehead go to the satanistic masses with your gay pals!\\n\\n3 - First and last warning, you fucking gay - I won't appreciate if any more nazi shwain would write in my page! I don't wish to talk to you anymore!\\n\\nBeware of the Dark Side!</td>\n",
       "      <td>1</td>\n",
       "    </tr>\n",
       "    <tr>\n",
       "      <th>43</th>\n",
       "      <td>FUCK YOUR FILTHY MOTHER IN THE ASS, DRY!</td>\n",
       "      <td>1</td>\n",
       "    </tr>\n",
       "    <tr>\n",
       "      <th>44</th>\n",
       "      <td>I'm Sorry \\n\\nI'm sorry I screwed around with someones talk page.  It was very bad to do.  I know how having the templates on their talk page helps you assert your dominance over them.  I know I should bow down to the almighty administrators.  But then again, I'm going to go play outside....with your mom.   76.122.79.82</td>\n",
       "      <td>1</td>\n",
       "    </tr>\n",
       "    <tr>\n",
       "      <th>51</th>\n",
       "      <td>GET FUCKED UP. GET FUCKEEED UP.  GOT A DRINK THAT YOU CANT PUT DOWN???/ GET FUCK UP GET FUCKED UP.  I'M FUCKED UP RIGHT NOW!</td>\n",
       "      <td>1</td>\n",
       "    </tr>\n",
       "    <tr>\n",
       "      <th>55</th>\n",
       "      <td>Stupid peace of shit stop deleting my stuff asshole go die and fall in a hole go to hell!</td>\n",
       "      <td>1</td>\n",
       "    </tr>\n",
       "    <tr>\n",
       "      <th>56</th>\n",
       "      <td>=Tony Sidaway is obviously a fistfuckee. He loves an arm up his ass.</td>\n",
       "      <td>1</td>\n",
       "    </tr>\n",
       "    <tr>\n",
       "      <th>58</th>\n",
       "      <td>My Band Page's deletion. You thought I was gone. \\n\\nDeleting the comment I posted on your 'talk page' does not delete my feelings for your hasty decision to delete my page. You, sir, are still a cock-sucking douche fuck. Sit back for a second and think about what your life has become. ............ Done? That didn't take long did it? Nope. Because, as I am most certainly aware, your life is a shitstorm of sitting in front of the computer masturbating to fictional creatures. Your attempts to get rid of me are mediocre at best. You are constantly sucking the dick of failure. You don't want a personal attack, huh? Well, too bad, Fuckcock McDickerson. You've got one. From me. You can go ahead and delete my profile from wikipedia. I'll just make another one and come right back to 'Syrthiss's talk page and insult the dick off of you. How could you shatter the dreams of an innocent eighteen year old college freshman trying to make a name for his band. Does that make you happy? Fucking wit...</td>\n",
       "      <td>1</td>\n",
       "    </tr>\n",
       "  </tbody>\n",
       "</table>\n",
       "</div>"
      ],
      "text/plain": [
       "                                                                                                                                                                                                                                                                                                                                                                                                                                                                                                                                                                                                                                                                                                                                                                                                                                                                                                                                                                                                                               comment_text  \\\n",
       "6                                                                                                                                                                                                                                                                                                                                                                                                                                                                                                                                                                                                                                                                                                                                                                                                                                                                                                                                                                                              COCKSUCKER BEFORE YOU PISS AROUND ON MY WORK   \n",
       "12                                                                                                                                                                                                                                                                                                                                                                                                                                                                                                                                                                                                                                                                                                      Hey... what is it..\\n@ | talk .\\nWhat is it... an exclusive group of some WP TALIBANS...who are good at destroying, self-appointed purist who GANG UP any one who asks them questions abt their ANTI-SOCIAL and DESTRUCTIVE (non)-contribution at WP?\\n\\nAsk Sityush to clean up his behavior than issue me nonsensical warnings...   \n",
       "16                                                                                                                                                                                                                                                                                                                                                                                                                                                                                                                                                                                                                                                                                                                                                                                                                                                                                                                                                                              Bye! \\n\\nDon't look, come or think of comming back! Tosser.   \n",
       "42                                                                                                                                                                                                                                                                                                                                                   You are gay or antisemmitian? \\n\\nArchangel WHite Tiger\\n\\nMeow! Greetingshhh!\\n\\nUh, there are two ways, why you do erased my comment about WW2, that holocaust was brutally slaying of Jews and not gays/Gypsys/Slavs/anyone...\\n\\n1 - If you are anti-semitian, than shave your head bald and go to the skinhead meetings!\\n\\n2 - If you doubt words of the Bible, that homosexuality is a deadly sin, make a pentagram tatoo on your forehead go to the satanistic masses with your gay pals!\\n\\n3 - First and last warning, you fucking gay - I won't appreciate if any more nazi shwain would write in my page! I don't wish to talk to you anymore!\\n\\nBeware of the Dark Side!   \n",
       "43                                                                                                                                                                                                                                                                                                                                                                                                                                                                                                                                                                                                                                                                                                                                                                                                                                                                                                                                                                                                 FUCK YOUR FILTHY MOTHER IN THE ASS, DRY!   \n",
       "44                                                                                                                                                                                                                                                                                                                                                                                                                                                                                                                                                                                                                                                                                                        I'm Sorry \\n\\nI'm sorry I screwed around with someones talk page.  It was very bad to do.  I know how having the templates on their talk page helps you assert your dominance over them.  I know I should bow down to the almighty administrators.  But then again, I'm going to go play outside....with your mom.   76.122.79.82   \n",
       "51                                                                                                                                                                                                                                                                                                                                                                                                                                                                                                                                                                                                                                                                                                                                                                                                                                                                                                             GET FUCKED UP. GET FUCKEEED UP.  GOT A DRINK THAT YOU CANT PUT DOWN???/ GET FUCK UP GET FUCKED UP.  I'M FUCKED UP RIGHT NOW!   \n",
       "55                                                                                                                                                                                                                                                                                                                                                                                                                                                                                                                                                                                                                                                                                                                                                                                                                                                                                                                                                Stupid peace of shit stop deleting my stuff asshole go die and fall in a hole go to hell!   \n",
       "56                                                                                                                                                                                                                                                                                                                                                                                                                                                                                                                                                                                                                                                                                                                                                                                                                                                                                                                                                                     =Tony Sidaway is obviously a fistfuckee. He loves an arm up his ass.   \n",
       "58  My Band Page's deletion. You thought I was gone. \\n\\nDeleting the comment I posted on your 'talk page' does not delete my feelings for your hasty decision to delete my page. You, sir, are still a cock-sucking douche fuck. Sit back for a second and think about what your life has become. ............ Done? That didn't take long did it? Nope. Because, as I am most certainly aware, your life is a shitstorm of sitting in front of the computer masturbating to fictional creatures. Your attempts to get rid of me are mediocre at best. You are constantly sucking the dick of failure. You don't want a personal attack, huh? Well, too bad, Fuckcock McDickerson. You've got one. From me. You can go ahead and delete my profile from wikipedia. I'll just make another one and come right back to 'Syrthiss's talk page and insult the dick off of you. How could you shatter the dreams of an innocent eighteen year old college freshman trying to make a name for his band. Does that make you happy? Fucking wit...   \n",
       "\n",
       "    toxic  \n",
       "6       1  \n",
       "12      1  \n",
       "16      1  \n",
       "42      1  \n",
       "43      1  \n",
       "44      1  \n",
       "51      1  \n",
       "55      1  \n",
       "56      1  \n",
       "58      1  "
      ]
     },
     "metadata": {},
     "output_type": "display_data"
    },
    {
     "data": {
      "text/html": [
       "<div>\n",
       "<style scoped>\n",
       "    .dataframe tbody tr th:only-of-type {\n",
       "        vertical-align: middle;\n",
       "    }\n",
       "\n",
       "    .dataframe tbody tr th {\n",
       "        vertical-align: top;\n",
       "    }\n",
       "\n",
       "    .dataframe thead th {\n",
       "        text-align: right;\n",
       "    }\n",
       "</style>\n",
       "<table border=\"1\" class=\"dataframe\">\n",
       "  <thead>\n",
       "    <tr style=\"text-align: right;\">\n",
       "      <th></th>\n",
       "      <th>comment_text</th>\n",
       "      <th>severe_toxic</th>\n",
       "    </tr>\n",
       "  </thead>\n",
       "  <tbody>\n",
       "    <tr>\n",
       "      <th>6</th>\n",
       "      <td>COCKSUCKER BEFORE YOU PISS AROUND ON MY WORK</td>\n",
       "      <td>1</td>\n",
       "    </tr>\n",
       "    <tr>\n",
       "      <th>55</th>\n",
       "      <td>Stupid peace of shit stop deleting my stuff asshole go die and fall in a hole go to hell!</td>\n",
       "      <td>1</td>\n",
       "    </tr>\n",
       "    <tr>\n",
       "      <th>181</th>\n",
       "      <td>you are a stupid fuck \\n\\nand your mother's cunt stinks</td>\n",
       "      <td>1</td>\n",
       "    </tr>\n",
       "    <tr>\n",
       "      <th>442</th>\n",
       "      <td>Hi \\n\\nIm a fucking bitch.\\n\\n50.180.208.181</td>\n",
       "      <td>1</td>\n",
       "    </tr>\n",
       "    <tr>\n",
       "      <th>579</th>\n",
       "      <td>What a motherfucking piece of crap those fuckheads for blocking us!</td>\n",
       "      <td>1</td>\n",
       "    </tr>\n",
       "    <tr>\n",
       "      <th>746</th>\n",
       "      <td>\"You know, I was thinking...\\n\\nNobody really attacked me before I revealed my age here.  After I announced that I was 14, I was subject to a constant storm of harassment and abuse.\\n\\nThe same thing goes for when I was on The Sandbox when I was 11.  Before people knew my age, they didn't care.  After I told them my age, they hated me.\\n\\nIt's just so amusing how the idiot Soapboxers think of teenagers as being responsible for the \"\"decline\"\" of The Soapbox (like it was ever any good to begin with).  This is funny, because the adults are the dumbest people here.  Mauricio, Chuppah, Redneckgirl, Pinky, Scooby, GG, ForeverLostTinkerbell, greenrabbit, StarRocketsInFlight, Bree-Robinson, enigma-72, CocaineNightmares, TokyoDome, Chad_Ocho-Cinco, Steve Lake...\\n\\n...all adults.\\n\\nThe teenage posters here are typically the smartest ones.  Let's see... G-Dawg, Head_Banging_Brunette, ClassicAge, Metropolis (even though he's a bipolar weirdo), ChrisScript, just to name a few.\\n\\nAll I ever ...</td>\n",
       "      <td>1</td>\n",
       "    </tr>\n",
       "    <tr>\n",
       "      <th>756</th>\n",
       "      <td>Here's an idea \\n\\nGo fuck yourself, cumshitter.</td>\n",
       "      <td>1</td>\n",
       "    </tr>\n",
       "    <tr>\n",
       "      <th>761</th>\n",
       "      <td>\"  WILL MY MOTHERFUCKING SAFETY BE GUARANTEED???? I FUCKING HOPE SO!!! I'M BRINGING MY OWN FUCKIN' WEAPONS!! PAY ME WHEN I GET BACK MOTHERFUCKERS!!!  OH YEAH I'VE GOT A JOKE...A FAMILY (HUSBAND, WIFE, SON, DAUGHTER, DOG) WALKS INTO AN AGENT'S OFFICE AND TELLS HIM THAT THEY'VE GOT A GREAT VAUDEVILLE ROUTINE...HE SAYS \"\"WE DON'T HIRE KIDDY ACTS\"\" AND THEY SAY \"\"BUT WE'RE REALLY GOOD!\"\" AND SO THE AGENT SAYS \"\"FINE, LET ME SEE WHAT YOU'VE GOT, BUT IF YOU SUCK I'M THROWING YOU OUT\"\"...SO THE FAMILY GETS READY...THE DAUGHTER HITS THE CD PLAYER AND CIRCUS MUSIC BEGINS PLAYING, THE FATHER JUMP KICKS THE SON IN THE HEAD AND STOMS HIS FACE IN THE GROUND UNTIL IT'S A BLOODY PULP, THEN PROCEEDS TO JERK OFF AND CUM ALL OVER HIS SHATTERED SKULL.  MEANWHILE THE MOTHER BEGINS VIOLENTLY FINGER FUCKING THE DAUGHTER AS THE DOG FUCKS THE MOTHER IN THE ASS HOLE.  THIS IS THE POINT WHEN THE FATHER TAKES THE LEFTOVER BRAIN MATTER FROM THE SON'S HEAD AND SHOVES IT INTO THE MOTHER'S PUSSY, THEN BEGINS FUC...</td>\n",
       "      <td>1</td>\n",
       "    </tr>\n",
       "    <tr>\n",
       "      <th>887</th>\n",
       "      <td>you gay motherfucker i know where you live,i am going to sand your face off,then i am to going to beat you to a pulp,you chicken shagger.</td>\n",
       "      <td>1</td>\n",
       "    </tr>\n",
       "    <tr>\n",
       "      <th>1017</th>\n",
       "      <td>WOULDN'T BE THE FIRST TIME BITCH. FUCK YOU I'LL FIND OUT WHERE YOU LIVE, SODOMIZE YOUR WIFE AND THEN BURN YOUR HOUSE DOWN. FUCK YOU YOU FUCKING QUEER.</td>\n",
       "      <td>1</td>\n",
       "    </tr>\n",
       "  </tbody>\n",
       "</table>\n",
       "</div>"
      ],
      "text/plain": [
       "                                                                                                                                                                                                                                                                                                                                                                                                                                                                                                                                                                                                                                                                                                                                                                                                                                                                                                                                                                                                                                 comment_text  \\\n",
       "6                                                                                                                                                                                                                                                                                                                                                                                                                                                                                                                                                                                                                                                                                                                                                                                                                                                                                                                                                                                                COCKSUCKER BEFORE YOU PISS AROUND ON MY WORK   \n",
       "55                                                                                                                                                                                                                                                                                                                                                                                                                                                                                                                                                                                                                                                                                                                                                                                                                                                                                                                                                  Stupid peace of shit stop deleting my stuff asshole go die and fall in a hole go to hell!   \n",
       "181                                                                                                                                                                                                                                                                                                                                                                                                                                                                                                                                                                                                                                                                                                                                                                                                                                                                                                                                                                                   you are a stupid fuck \\n\\nand your mother's cunt stinks   \n",
       "442                                                                                                                                                                                                                                                                                                                                                                                                                                                                                                                                                                                                                                                                                                                                                                                                                                                                                                                                                                                              Hi \\n\\nIm a fucking bitch.\\n\\n50.180.208.181   \n",
       "579                                                                                                                                                                                                                                                                                                                                                                                                                                                                                                                                                                                                                                                                                                                                                                                                                                                                                                                                                                       What a motherfucking piece of crap those fuckheads for blocking us!   \n",
       "746   \"You know, I was thinking...\\n\\nNobody really attacked me before I revealed my age here.  After I announced that I was 14, I was subject to a constant storm of harassment and abuse.\\n\\nThe same thing goes for when I was on The Sandbox when I was 11.  Before people knew my age, they didn't care.  After I told them my age, they hated me.\\n\\nIt's just so amusing how the idiot Soapboxers think of teenagers as being responsible for the \"\"decline\"\" of The Soapbox (like it was ever any good to begin with).  This is funny, because the adults are the dumbest people here.  Mauricio, Chuppah, Redneckgirl, Pinky, Scooby, GG, ForeverLostTinkerbell, greenrabbit, StarRocketsInFlight, Bree-Robinson, enigma-72, CocaineNightmares, TokyoDome, Chad_Ocho-Cinco, Steve Lake...\\n\\n...all adults.\\n\\nThe teenage posters here are typically the smartest ones.  Let's see... G-Dawg, Head_Banging_Brunette, ClassicAge, Metropolis (even though he's a bipolar weirdo), ChrisScript, just to name a few.\\n\\nAll I ever ...   \n",
       "756                                                                                                                                                                                                                                                                                                                                                                                                                                                                                                                                                                                                                                                                                                                                                                                                                                                                                                                                                                                          Here's an idea \\n\\nGo fuck yourself, cumshitter.   \n",
       "761   \"  WILL MY MOTHERFUCKING SAFETY BE GUARANTEED???? I FUCKING HOPE SO!!! I'M BRINGING MY OWN FUCKIN' WEAPONS!! PAY ME WHEN I GET BACK MOTHERFUCKERS!!!  OH YEAH I'VE GOT A JOKE...A FAMILY (HUSBAND, WIFE, SON, DAUGHTER, DOG) WALKS INTO AN AGENT'S OFFICE AND TELLS HIM THAT THEY'VE GOT A GREAT VAUDEVILLE ROUTINE...HE SAYS \"\"WE DON'T HIRE KIDDY ACTS\"\" AND THEY SAY \"\"BUT WE'RE REALLY GOOD!\"\" AND SO THE AGENT SAYS \"\"FINE, LET ME SEE WHAT YOU'VE GOT, BUT IF YOU SUCK I'M THROWING YOU OUT\"\"...SO THE FAMILY GETS READY...THE DAUGHTER HITS THE CD PLAYER AND CIRCUS MUSIC BEGINS PLAYING, THE FATHER JUMP KICKS THE SON IN THE HEAD AND STOMS HIS FACE IN THE GROUND UNTIL IT'S A BLOODY PULP, THEN PROCEEDS TO JERK OFF AND CUM ALL OVER HIS SHATTERED SKULL.  MEANWHILE THE MOTHER BEGINS VIOLENTLY FINGER FUCKING THE DAUGHTER AS THE DOG FUCKS THE MOTHER IN THE ASS HOLE.  THIS IS THE POINT WHEN THE FATHER TAKES THE LEFTOVER BRAIN MATTER FROM THE SON'S HEAD AND SHOVES IT INTO THE MOTHER'S PUSSY, THEN BEGINS FUC...   \n",
       "887                                                                                                                                                                                                                                                                                                                                                                                                                                                                                                                                                                                                                                                                                                                                                                                                                                                                                                 you gay motherfucker i know where you live,i am going to sand your face off,then i am to going to beat you to a pulp,you chicken shagger.   \n",
       "1017                                                                                                                                                                                                                                                                                                                                                                                                                                                                                                                                                                                                                                                                                                                                                                                                                                                                                   WOULDN'T BE THE FIRST TIME BITCH. FUCK YOU I'LL FIND OUT WHERE YOU LIVE, SODOMIZE YOUR WIFE AND THEN BURN YOUR HOUSE DOWN. FUCK YOU YOU FUCKING QUEER.   \n",
       "\n",
       "      severe_toxic  \n",
       "6                1  \n",
       "55               1  \n",
       "181              1  \n",
       "442              1  \n",
       "579              1  \n",
       "746              1  \n",
       "756              1  \n",
       "761              1  \n",
       "887              1  \n",
       "1017             1  "
      ]
     },
     "metadata": {},
     "output_type": "display_data"
    },
    {
     "data": {
      "text/html": [
       "<div>\n",
       "<style scoped>\n",
       "    .dataframe tbody tr th:only-of-type {\n",
       "        vertical-align: middle;\n",
       "    }\n",
       "\n",
       "    .dataframe tbody tr th {\n",
       "        vertical-align: top;\n",
       "    }\n",
       "\n",
       "    .dataframe thead th {\n",
       "        text-align: right;\n",
       "    }\n",
       "</style>\n",
       "<table border=\"1\" class=\"dataframe\">\n",
       "  <thead>\n",
       "    <tr style=\"text-align: right;\">\n",
       "      <th></th>\n",
       "      <th>comment_text</th>\n",
       "      <th>obscene</th>\n",
       "    </tr>\n",
       "  </thead>\n",
       "  <tbody>\n",
       "    <tr>\n",
       "      <th>6</th>\n",
       "      <td>COCKSUCKER BEFORE YOU PISS AROUND ON MY WORK</td>\n",
       "      <td>1</td>\n",
       "    </tr>\n",
       "    <tr>\n",
       "      <th>42</th>\n",
       "      <td>You are gay or antisemmitian? \\n\\nArchangel WHite Tiger\\n\\nMeow! Greetingshhh!\\n\\nUh, there are two ways, why you do erased my comment about WW2, that holocaust was brutally slaying of Jews and not gays/Gypsys/Slavs/anyone...\\n\\n1 - If you are anti-semitian, than shave your head bald and go to the skinhead meetings!\\n\\n2 - If you doubt words of the Bible, that homosexuality is a deadly sin, make a pentagram tatoo on your forehead go to the satanistic masses with your gay pals!\\n\\n3 - First and last warning, you fucking gay - I won't appreciate if any more nazi shwain would write in my page! I don't wish to talk to you anymore!\\n\\nBeware of the Dark Side!</td>\n",
       "      <td>1</td>\n",
       "    </tr>\n",
       "    <tr>\n",
       "      <th>43</th>\n",
       "      <td>FUCK YOUR FILTHY MOTHER IN THE ASS, DRY!</td>\n",
       "      <td>1</td>\n",
       "    </tr>\n",
       "    <tr>\n",
       "      <th>51</th>\n",
       "      <td>GET FUCKED UP. GET FUCKEEED UP.  GOT A DRINK THAT YOU CANT PUT DOWN???/ GET FUCK UP GET FUCKED UP.  I'M FUCKED UP RIGHT NOW!</td>\n",
       "      <td>1</td>\n",
       "    </tr>\n",
       "    <tr>\n",
       "      <th>55</th>\n",
       "      <td>Stupid peace of shit stop deleting my stuff asshole go die and fall in a hole go to hell!</td>\n",
       "      <td>1</td>\n",
       "    </tr>\n",
       "    <tr>\n",
       "      <th>56</th>\n",
       "      <td>=Tony Sidaway is obviously a fistfuckee. He loves an arm up his ass.</td>\n",
       "      <td>1</td>\n",
       "    </tr>\n",
       "    <tr>\n",
       "      <th>58</th>\n",
       "      <td>My Band Page's deletion. You thought I was gone. \\n\\nDeleting the comment I posted on your 'talk page' does not delete my feelings for your hasty decision to delete my page. You, sir, are still a cock-sucking douche fuck. Sit back for a second and think about what your life has become. ............ Done? That didn't take long did it? Nope. Because, as I am most certainly aware, your life is a shitstorm of sitting in front of the computer masturbating to fictional creatures. Your attempts to get rid of me are mediocre at best. You are constantly sucking the dick of failure. You don't want a personal attack, huh? Well, too bad, Fuckcock McDickerson. You've got one. From me. You can go ahead and delete my profile from wikipedia. I'll just make another one and come right back to 'Syrthiss's talk page and insult the dick off of you. How could you shatter the dreams of an innocent eighteen year old college freshman trying to make a name for his band. Does that make you happy? Fucking wit...</td>\n",
       "      <td>1</td>\n",
       "    </tr>\n",
       "    <tr>\n",
       "      <th>65</th>\n",
       "      <td>All of my edits are good.  Cunts like you who revert good edits because you're too stupid to understand how to write well , and then revert other edits just because you've decided to bear a playground grudge, are the problem.  Maybe one day you'll realise the damage you did to a noble project.  201.215.187.159</td>\n",
       "      <td>1</td>\n",
       "    </tr>\n",
       "    <tr>\n",
       "      <th>105</th>\n",
       "      <td>A pair of jew-hating weiner nazi schmucks.</td>\n",
       "      <td>1</td>\n",
       "    </tr>\n",
       "    <tr>\n",
       "      <th>176</th>\n",
       "      <td>I think that your a Fagget get a oife and burn in Hell I hate you 'm sorry we cant have any more sex i'm running out of conndoms</td>\n",
       "      <td>1</td>\n",
       "    </tr>\n",
       "  </tbody>\n",
       "</table>\n",
       "</div>"
      ],
      "text/plain": [
       "                                                                                                                                                                                                                                                                                                                                                                                                                                                                                                                                                                                                                                                                                                                                                                                                                                                                                                                                                                                                                                comment_text  \\\n",
       "6                                                                                                                                                                                                                                                                                                                                                                                                                                                                                                                                                                                                                                                                                                                                                                                                                                                                                                                                                                                               COCKSUCKER BEFORE YOU PISS AROUND ON MY WORK   \n",
       "42                                                                                                                                                                                                                                                                                                                                                    You are gay or antisemmitian? \\n\\nArchangel WHite Tiger\\n\\nMeow! Greetingshhh!\\n\\nUh, there are two ways, why you do erased my comment about WW2, that holocaust was brutally slaying of Jews and not gays/Gypsys/Slavs/anyone...\\n\\n1 - If you are anti-semitian, than shave your head bald and go to the skinhead meetings!\\n\\n2 - If you doubt words of the Bible, that homosexuality is a deadly sin, make a pentagram tatoo on your forehead go to the satanistic masses with your gay pals!\\n\\n3 - First and last warning, you fucking gay - I won't appreciate if any more nazi shwain would write in my page! I don't wish to talk to you anymore!\\n\\nBeware of the Dark Side!   \n",
       "43                                                                                                                                                                                                                                                                                                                                                                                                                                                                                                                                                                                                                                                                                                                                                                                                                                                                                                                                                                                                  FUCK YOUR FILTHY MOTHER IN THE ASS, DRY!   \n",
       "51                                                                                                                                                                                                                                                                                                                                                                                                                                                                                                                                                                                                                                                                                                                                                                                                                                                                                                              GET FUCKED UP. GET FUCKEEED UP.  GOT A DRINK THAT YOU CANT PUT DOWN???/ GET FUCK UP GET FUCKED UP.  I'M FUCKED UP RIGHT NOW!   \n",
       "55                                                                                                                                                                                                                                                                                                                                                                                                                                                                                                                                                                                                                                                                                                                                                                                                                                                                                                                                                 Stupid peace of shit stop deleting my stuff asshole go die and fall in a hole go to hell!   \n",
       "56                                                                                                                                                                                                                                                                                                                                                                                                                                                                                                                                                                                                                                                                                                                                                                                                                                                                                                                                                                      =Tony Sidaway is obviously a fistfuckee. He loves an arm up his ass.   \n",
       "58   My Band Page's deletion. You thought I was gone. \\n\\nDeleting the comment I posted on your 'talk page' does not delete my feelings for your hasty decision to delete my page. You, sir, are still a cock-sucking douche fuck. Sit back for a second and think about what your life has become. ............ Done? That didn't take long did it? Nope. Because, as I am most certainly aware, your life is a shitstorm of sitting in front of the computer masturbating to fictional creatures. Your attempts to get rid of me are mediocre at best. You are constantly sucking the dick of failure. You don't want a personal attack, huh? Well, too bad, Fuckcock McDickerson. You've got one. From me. You can go ahead and delete my profile from wikipedia. I'll just make another one and come right back to 'Syrthiss's talk page and insult the dick off of you. How could you shatter the dreams of an innocent eighteen year old college freshman trying to make a name for his band. Does that make you happy? Fucking wit...   \n",
       "65                                                                                                                                                                                                                                                                                                                                                                                                                                                                                                                                                                                                                                                                                                                   All of my edits are good.  Cunts like you who revert good edits because you're too stupid to understand how to write well , and then revert other edits just because you've decided to bear a playground grudge, are the problem.  Maybe one day you'll realise the damage you did to a noble project.  201.215.187.159   \n",
       "105                                                                                                                                                                                                                                                                                                                                                                                                                                                                                                                                                                                                                                                                                                                                                                                                                                                                                                                                                                                               A pair of jew-hating weiner nazi schmucks.   \n",
       "176                                                                                                                                                                                                                                                                                                                                                                                                                                                                                                                                                                                                                                                                                                                                                                                                                                                                                                         I think that your a Fagget get a oife and burn in Hell I hate you 'm sorry we cant have any more sex i'm running out of conndoms   \n",
       "\n",
       "     obscene  \n",
       "6          1  \n",
       "42         1  \n",
       "43         1  \n",
       "51         1  \n",
       "55         1  \n",
       "56         1  \n",
       "58         1  \n",
       "65         1  \n",
       "105        1  \n",
       "176        1  "
      ]
     },
     "metadata": {},
     "output_type": "display_data"
    },
    {
     "data": {
      "text/html": [
       "<div>\n",
       "<style scoped>\n",
       "    .dataframe tbody tr th:only-of-type {\n",
       "        vertical-align: middle;\n",
       "    }\n",
       "\n",
       "    .dataframe tbody tr th {\n",
       "        vertical-align: top;\n",
       "    }\n",
       "\n",
       "    .dataframe thead th {\n",
       "        text-align: right;\n",
       "    }\n",
       "</style>\n",
       "<table border=\"1\" class=\"dataframe\">\n",
       "  <thead>\n",
       "    <tr style=\"text-align: right;\">\n",
       "      <th></th>\n",
       "      <th>comment_text</th>\n",
       "      <th>threat</th>\n",
       "    </tr>\n",
       "  </thead>\n",
       "  <tbody>\n",
       "    <tr>\n",
       "      <th>79</th>\n",
       "      <td>Hi! I am back again!\\nLast warning!\\nStop undoing my edits or die!</td>\n",
       "      <td>1</td>\n",
       "    </tr>\n",
       "    <tr>\n",
       "      <th>176</th>\n",
       "      <td>I think that your a Fagget get a oife and burn in Hell I hate you 'm sorry we cant have any more sex i'm running out of conndoms</td>\n",
       "      <td>1</td>\n",
       "    </tr>\n",
       "    <tr>\n",
       "      <th>600</th>\n",
       "      <td>I'm also a sock puppet of this account...SUPRISE!!\\n-sincerely,\\n            The man that will track you down from the Internet and kill you</td>\n",
       "      <td>1</td>\n",
       "    </tr>\n",
       "    <tr>\n",
       "      <th>802</th>\n",
       "      <td>Fuck you, Smith. Please have me notified when you die. I want to dance on your grave.</td>\n",
       "      <td>1</td>\n",
       "    </tr>\n",
       "    <tr>\n",
       "      <th>1017</th>\n",
       "      <td>WOULDN'T BE THE FIRST TIME BITCH. FUCK YOU I'LL FIND OUT WHERE YOU LIVE, SODOMIZE YOUR WIFE AND THEN BURN YOUR HOUSE DOWN. FUCK YOU YOU FUCKING QUEER.</td>\n",
       "      <td>1</td>\n",
       "    </tr>\n",
       "    <tr>\n",
       "      <th>1085</th>\n",
       "      <td>Whoever put a notices on my page. I will kill u</td>\n",
       "      <td>1</td>\n",
       "    </tr>\n",
       "    <tr>\n",
       "      <th>1312</th>\n",
       "      <td>SHUT UP, YOU FAT POOP, OR I WILL KICK YOUR ASS!!!</td>\n",
       "      <td>1</td>\n",
       "    </tr>\n",
       "    <tr>\n",
       "      <th>1535</th>\n",
       "      <td>Demonte Morton \\n\\nU bastard stop deletin' my shit u white trash cracker muthafucker. Fuck u u racist bitch. I hope u die.</td>\n",
       "      <td>1</td>\n",
       "    </tr>\n",
       "    <tr>\n",
       "      <th>1878</th>\n",
       "      <td>Aaron Swartz \\n\\nStop fucking reverting my goddamn edits!!! I think Aaron Swartz is a dumb-ass, and he should have been\\nkilled a long time ago.  I know where you live; I WILL KILL YOU IF YOU REVERT ANY MORE PAGES!!!!!</td>\n",
       "      <td>1</td>\n",
       "    </tr>\n",
       "    <tr>\n",
       "      <th>2018</th>\n",
       "      <td>You are a gay homo. I hope you choke on your penis and die. I am sending a big bleck guy to jizz in your face.</td>\n",
       "      <td>1</td>\n",
       "    </tr>\n",
       "  </tbody>\n",
       "</table>\n",
       "</div>"
      ],
      "text/plain": [
       "                                                                                                                                                                                                                    comment_text  \\\n",
       "79                                                                                                                                                            Hi! I am back again!\\nLast warning!\\nStop undoing my edits or die!   \n",
       "176                                                                                             I think that your a Fagget get a oife and burn in Hell I hate you 'm sorry we cant have any more sex i'm running out of conndoms   \n",
       "600                                                                                 I'm also a sock puppet of this account...SUPRISE!!\\n-sincerely,\\n            The man that will track you down from the Internet and kill you   \n",
       "802                                                                                                                                        Fuck you, Smith. Please have me notified when you die. I want to dance on your grave.   \n",
       "1017                                                                      WOULDN'T BE THE FIRST TIME BITCH. FUCK YOU I'LL FIND OUT WHERE YOU LIVE, SODOMIZE YOUR WIFE AND THEN BURN YOUR HOUSE DOWN. FUCK YOU YOU FUCKING QUEER.   \n",
       "1085                                                                                                                                                                             Whoever put a notices on my page. I will kill u   \n",
       "1312                                                                                                                                                                           SHUT UP, YOU FAT POOP, OR I WILL KICK YOUR ASS!!!   \n",
       "1535                                                                                                  Demonte Morton \\n\\nU bastard stop deletin' my shit u white trash cracker muthafucker. Fuck u u racist bitch. I hope u die.   \n",
       "1878  Aaron Swartz \\n\\nStop fucking reverting my goddamn edits!!! I think Aaron Swartz is a dumb-ass, and he should have been\\nkilled a long time ago.  I know where you live; I WILL KILL YOU IF YOU REVERT ANY MORE PAGES!!!!!   \n",
       "2018                                                                                                              You are a gay homo. I hope you choke on your penis and die. I am sending a big bleck guy to jizz in your face.   \n",
       "\n",
       "      threat  \n",
       "79         1  \n",
       "176        1  \n",
       "600        1  \n",
       "802        1  \n",
       "1017       1  \n",
       "1085       1  \n",
       "1312       1  \n",
       "1535       1  \n",
       "1878       1  \n",
       "2018       1  "
      ]
     },
     "metadata": {},
     "output_type": "display_data"
    },
    {
     "data": {
      "text/html": [
       "<div>\n",
       "<style scoped>\n",
       "    .dataframe tbody tr th:only-of-type {\n",
       "        vertical-align: middle;\n",
       "    }\n",
       "\n",
       "    .dataframe tbody tr th {\n",
       "        vertical-align: top;\n",
       "    }\n",
       "\n",
       "    .dataframe thead th {\n",
       "        text-align: right;\n",
       "    }\n",
       "</style>\n",
       "<table border=\"1\" class=\"dataframe\">\n",
       "  <thead>\n",
       "    <tr style=\"text-align: right;\">\n",
       "      <th></th>\n",
       "      <th>comment_text</th>\n",
       "      <th>insult</th>\n",
       "    </tr>\n",
       "  </thead>\n",
       "  <tbody>\n",
       "    <tr>\n",
       "      <th>6</th>\n",
       "      <td>COCKSUCKER BEFORE YOU PISS AROUND ON MY WORK</td>\n",
       "      <td>1</td>\n",
       "    </tr>\n",
       "    <tr>\n",
       "      <th>42</th>\n",
       "      <td>You are gay or antisemmitian? \\n\\nArchangel WHite Tiger\\n\\nMeow! Greetingshhh!\\n\\nUh, there are two ways, why you do erased my comment about WW2, that holocaust was brutally slaying of Jews and not gays/Gypsys/Slavs/anyone...\\n\\n1 - If you are anti-semitian, than shave your head bald and go to the skinhead meetings!\\n\\n2 - If you doubt words of the Bible, that homosexuality is a deadly sin, make a pentagram tatoo on your forehead go to the satanistic masses with your gay pals!\\n\\n3 - First and last warning, you fucking gay - I won't appreciate if any more nazi shwain would write in my page! I don't wish to talk to you anymore!\\n\\nBeware of the Dark Side!</td>\n",
       "      <td>1</td>\n",
       "    </tr>\n",
       "    <tr>\n",
       "      <th>43</th>\n",
       "      <td>FUCK YOUR FILTHY MOTHER IN THE ASS, DRY!</td>\n",
       "      <td>1</td>\n",
       "    </tr>\n",
       "    <tr>\n",
       "      <th>55</th>\n",
       "      <td>Stupid peace of shit stop deleting my stuff asshole go die and fall in a hole go to hell!</td>\n",
       "      <td>1</td>\n",
       "    </tr>\n",
       "    <tr>\n",
       "      <th>56</th>\n",
       "      <td>=Tony Sidaway is obviously a fistfuckee. He loves an arm up his ass.</td>\n",
       "      <td>1</td>\n",
       "    </tr>\n",
       "    <tr>\n",
       "      <th>65</th>\n",
       "      <td>All of my edits are good.  Cunts like you who revert good edits because you're too stupid to understand how to write well , and then revert other edits just because you've decided to bear a playground grudge, are the problem.  Maybe one day you'll realise the damage you did to a noble project.  201.215.187.159</td>\n",
       "      <td>1</td>\n",
       "    </tr>\n",
       "    <tr>\n",
       "      <th>86</th>\n",
       "      <td>Would you both shut up, you don't run wikipedia, especially a stupid kid.</td>\n",
       "      <td>1</td>\n",
       "    </tr>\n",
       "    <tr>\n",
       "      <th>105</th>\n",
       "      <td>A pair of jew-hating weiner nazi schmucks.</td>\n",
       "      <td>1</td>\n",
       "    </tr>\n",
       "    <tr>\n",
       "      <th>168</th>\n",
       "      <td>You should be fired, you're a moronic wimp who is too lazy to do research. It makes me sick that people like you exist in this world.</td>\n",
       "      <td>1</td>\n",
       "    </tr>\n",
       "    <tr>\n",
       "      <th>176</th>\n",
       "      <td>I think that your a Fagget get a oife and burn in Hell I hate you 'm sorry we cant have any more sex i'm running out of conndoms</td>\n",
       "      <td>1</td>\n",
       "    </tr>\n",
       "  </tbody>\n",
       "</table>\n",
       "</div>"
      ],
      "text/plain": [
       "                                                                                                                                                                                                                                                                                                                                                                                                                                                                                                                                                                                                                                                                               comment_text  \\\n",
       "6                                                                                                                                                                                                                                                                                                                                                                                                                                                                                                                                                                                                                                              COCKSUCKER BEFORE YOU PISS AROUND ON MY WORK   \n",
       "42   You are gay or antisemmitian? \\n\\nArchangel WHite Tiger\\n\\nMeow! Greetingshhh!\\n\\nUh, there are two ways, why you do erased my comment about WW2, that holocaust was brutally slaying of Jews and not gays/Gypsys/Slavs/anyone...\\n\\n1 - If you are anti-semitian, than shave your head bald and go to the skinhead meetings!\\n\\n2 - If you doubt words of the Bible, that homosexuality is a deadly sin, make a pentagram tatoo on your forehead go to the satanistic masses with your gay pals!\\n\\n3 - First and last warning, you fucking gay - I won't appreciate if any more nazi shwain would write in my page! I don't wish to talk to you anymore!\\n\\nBeware of the Dark Side!   \n",
       "43                                                                                                                                                                                                                                                                                                                                                                                                                                                                                                                                                                                                                                                 FUCK YOUR FILTHY MOTHER IN THE ASS, DRY!   \n",
       "55                                                                                                                                                                                                                                                                                                                                                                                                                                                                                                                                                                                                Stupid peace of shit stop deleting my stuff asshole go die and fall in a hole go to hell!   \n",
       "56                                                                                                                                                                                                                                                                                                                                                                                                                                                                                                                                                                                                                     =Tony Sidaway is obviously a fistfuckee. He loves an arm up his ass.   \n",
       "65                                                                                                                                                                                                                                                                                                                                                                  All of my edits are good.  Cunts like you who revert good edits because you're too stupid to understand how to write well , and then revert other edits just because you've decided to bear a playground grudge, are the problem.  Maybe one day you'll realise the damage you did to a noble project.  201.215.187.159   \n",
       "86                                                                                                                                                                                                                                                                                                                                                                                                                                                                                                                                                                                                                Would you both shut up, you don't run wikipedia, especially a stupid kid.   \n",
       "105                                                                                                                                                                                                                                                                                                                                                                                                                                                                                                                                                                                                                                              A pair of jew-hating weiner nazi schmucks.   \n",
       "168                                                                                                                                                                                                                                                                                                                                                                                                                                                                                                                                                   You should be fired, you're a moronic wimp who is too lazy to do research. It makes me sick that people like you exist in this world.   \n",
       "176                                                                                                                                                                                                                                                                                                                                                                                                                                                                                                                                                        I think that your a Fagget get a oife and burn in Hell I hate you 'm sorry we cant have any more sex i'm running out of conndoms   \n",
       "\n",
       "     insult  \n",
       "6         1  \n",
       "42        1  \n",
       "43        1  \n",
       "55        1  \n",
       "56        1  \n",
       "65        1  \n",
       "86        1  \n",
       "105       1  \n",
       "168       1  \n",
       "176       1  "
      ]
     },
     "metadata": {},
     "output_type": "display_data"
    },
    {
     "data": {
      "text/html": [
       "<div>\n",
       "<style scoped>\n",
       "    .dataframe tbody tr th:only-of-type {\n",
       "        vertical-align: middle;\n",
       "    }\n",
       "\n",
       "    .dataframe tbody tr th {\n",
       "        vertical-align: top;\n",
       "    }\n",
       "\n",
       "    .dataframe thead th {\n",
       "        text-align: right;\n",
       "    }\n",
       "</style>\n",
       "<table border=\"1\" class=\"dataframe\">\n",
       "  <thead>\n",
       "    <tr style=\"text-align: right;\">\n",
       "      <th></th>\n",
       "      <th>comment_text</th>\n",
       "      <th>identity_hate</th>\n",
       "    </tr>\n",
       "  </thead>\n",
       "  <tbody>\n",
       "    <tr>\n",
       "      <th>42</th>\n",
       "      <td>You are gay or antisemmitian? \\n\\nArchangel WHite Tiger\\n\\nMeow! Greetingshhh!\\n\\nUh, there are two ways, why you do erased my comment about WW2, that holocaust was brutally slaying of Jews and not gays/Gypsys/Slavs/anyone...\\n\\n1 - If you are anti-semitian, than shave your head bald and go to the skinhead meetings!\\n\\n2 - If you doubt words of the Bible, that homosexuality is a deadly sin, make a pentagram tatoo on your forehead go to the satanistic masses with your gay pals!\\n\\n3 - First and last warning, you fucking gay - I won't appreciate if any more nazi shwain would write in my page! I don't wish to talk to you anymore!\\n\\nBeware of the Dark Side!</td>\n",
       "      <td>1</td>\n",
       "    </tr>\n",
       "    <tr>\n",
       "      <th>105</th>\n",
       "      <td>A pair of jew-hating weiner nazi schmucks.</td>\n",
       "      <td>1</td>\n",
       "    </tr>\n",
       "    <tr>\n",
       "      <th>176</th>\n",
       "      <td>I think that your a Fagget get a oife and burn in Hell I hate you 'm sorry we cant have any more sex i'm running out of conndoms</td>\n",
       "      <td>1</td>\n",
       "    </tr>\n",
       "    <tr>\n",
       "      <th>218</th>\n",
       "      <td>Kill all niggers. \\n\\nI have hard, that others have said this.. should this be included? That racists sometimes say these.</td>\n",
       "      <td>1</td>\n",
       "    </tr>\n",
       "    <tr>\n",
       "      <th>238</th>\n",
       "      <td>u r a tw@ fuck off u gay boy.U r smelly.Fuck ur mum poopie</td>\n",
       "      <td>1</td>\n",
       "    </tr>\n",
       "    <tr>\n",
       "      <th>429</th>\n",
       "      <td>Gay \\n\\nThe existence of CDVF is further proof that  is a sad twat. He is also very ugly, and has a willy for a face.</td>\n",
       "      <td>1</td>\n",
       "    </tr>\n",
       "    <tr>\n",
       "      <th>521</th>\n",
       "      <td>Dictionaries\\n\\nHow dare you call my contribution spam!!! I am a Kurd and I made a lsit of kurdish dictionaries. you bloody turkish nationalist and atoricity commiting bone breaking Nazi. watch out folk this slimy Turk is trying to censor the internet this is not undemocratic Turkey here, no prison cells in wikipedia you stupid Turk! And you buggers want membership to the EEC</td>\n",
       "      <td>1</td>\n",
       "    </tr>\n",
       "    <tr>\n",
       "      <th>887</th>\n",
       "      <td>you gay motherfucker i know where you live,i am going to sand your face off,then i am to going to beat you to a pulp,you chicken shagger.</td>\n",
       "      <td>1</td>\n",
       "    </tr>\n",
       "    <tr>\n",
       "      <th>952</th>\n",
       "      <td>you studid cock sucker u stop callin me ok its a frank Garrett eatin the worms crawl outa your moms pussy you fucking retardo hit I retardo</td>\n",
       "      <td>1</td>\n",
       "    </tr>\n",
       "    <tr>\n",
       "      <th>1017</th>\n",
       "      <td>WOULDN'T BE THE FIRST TIME BITCH. FUCK YOU I'LL FIND OUT WHERE YOU LIVE, SODOMIZE YOUR WIFE AND THEN BURN YOUR HOUSE DOWN. FUCK YOU YOU FUCKING QUEER.</td>\n",
       "      <td>1</td>\n",
       "    </tr>\n",
       "  </tbody>\n",
       "</table>\n",
       "</div>"
      ],
      "text/plain": [
       "                                                                                                                                                                                                                                                                                                                                                                                                                                                                                                                                                                                                                                                                                comment_text  \\\n",
       "42    You are gay or antisemmitian? \\n\\nArchangel WHite Tiger\\n\\nMeow! Greetingshhh!\\n\\nUh, there are two ways, why you do erased my comment about WW2, that holocaust was brutally slaying of Jews and not gays/Gypsys/Slavs/anyone...\\n\\n1 - If you are anti-semitian, than shave your head bald and go to the skinhead meetings!\\n\\n2 - If you doubt words of the Bible, that homosexuality is a deadly sin, make a pentagram tatoo on your forehead go to the satanistic masses with your gay pals!\\n\\n3 - First and last warning, you fucking gay - I won't appreciate if any more nazi shwain would write in my page! I don't wish to talk to you anymore!\\n\\nBeware of the Dark Side!   \n",
       "105                                                                                                                                                                                                                                                                                                                                                                                                                                                                                                                                                                                                                                               A pair of jew-hating weiner nazi schmucks.   \n",
       "176                                                                                                                                                                                                                                                                                                                                                                                                                                                                                                                                                         I think that your a Fagget get a oife and burn in Hell I hate you 'm sorry we cant have any more sex i'm running out of conndoms   \n",
       "218                                                                                                                                                                                                                                                                                                                                                                                                                                                                                                                                                               Kill all niggers. \\n\\nI have hard, that others have said this.. should this be included? That racists sometimes say these.   \n",
       "238                                                                                                                                                                                                                                                                                                                                                                                                                                                                                                                                                                                                                               u r a tw@ fuck off u gay boy.U r smelly.Fuck ur mum poopie   \n",
       "429                                                                                                                                                                                                                                                                                                                                                                                                                                                                                                                                                                    Gay \\n\\nThe existence of CDVF is further proof that  is a sad twat. He is also very ugly, and has a willy for a face.   \n",
       "521                                                                                                                                                                                                                                                                                               Dictionaries\\n\\nHow dare you call my contribution spam!!! I am a Kurd and I made a lsit of kurdish dictionaries. you bloody turkish nationalist and atoricity commiting bone breaking Nazi. watch out folk this slimy Turk is trying to censor the internet this is not undemocratic Turkey here, no prison cells in wikipedia you stupid Turk! And you buggers want membership to the EEC   \n",
       "887                                                                                                                                                                                                                                                                                                                                                                                                                                                                                                                                                you gay motherfucker i know where you live,i am going to sand your face off,then i am to going to beat you to a pulp,you chicken shagger.   \n",
       "952                                                                                                                                                                                                                                                                                                                                                                                                                                                                                                                                              you studid cock sucker u stop callin me ok its a frank Garrett eatin the worms crawl outa your moms pussy you fucking retardo hit I retardo   \n",
       "1017                                                                                                                                                                                                                                                                                                                                                                                                                                                                                                                                  WOULDN'T BE THE FIRST TIME BITCH. FUCK YOU I'LL FIND OUT WHERE YOU LIVE, SODOMIZE YOUR WIFE AND THEN BURN YOUR HOUSE DOWN. FUCK YOU YOU FUCKING QUEER.   \n",
       "\n",
       "      identity_hate  \n",
       "42                1  \n",
       "105               1  \n",
       "176               1  \n",
       "218               1  \n",
       "238               1  \n",
       "429               1  \n",
       "521               1  \n",
       "887               1  \n",
       "952               1  \n",
       "1017              1  "
      ]
     },
     "metadata": {},
     "output_type": "display_data"
    }
   ],
   "source": [
    "for column in ('toxic', 'severe_toxic', 'obscene', 'threat', 'insult', 'identity_hate'):\n",
    "    display(train[['comment_text', column]][train[column] == 1][:10])"
   ]
  },
  {
   "cell_type": "code",
   "execution_count": 22,
   "metadata": {},
   "outputs": [
    {
     "data": {
      "text/plain": [
       "Counter({1: 1962})"
      ]
     },
     "execution_count": 22,
     "metadata": {},
     "output_type": "execute_result"
    }
   ],
   "source": [
    "Counter(train[train.severe_toxic == 1].toxic)"
   ]
  },
  {
   "cell_type": "code",
   "execution_count": 23,
   "metadata": {},
   "outputs": [
    {
     "data": {
      "text/plain": [
       "Counter({0: 588, 1: 11552})"
      ]
     },
     "execution_count": 23,
     "metadata": {},
     "output_type": "execute_result"
    }
   ],
   "source": [
    "Counter(train[train.obscene == 1].toxic)"
   ]
  },
  {
   "cell_type": "code",
   "execution_count": 24,
   "metadata": {},
   "outputs": [
    {
     "data": {
      "text/plain": [
       "Counter({0: 35, 1: 654})"
      ]
     },
     "execution_count": 24,
     "metadata": {},
     "output_type": "execute_result"
    }
   ],
   "source": [
    "Counter(train[train.threat == 1].toxic)"
   ]
  },
  {
   "cell_type": "code",
   "execution_count": 25,
   "metadata": {},
   "outputs": [
    {
     "data": {
      "text/plain": [
       "Counter({0: 618, 1: 10686})"
      ]
     },
     "execution_count": 25,
     "metadata": {},
     "output_type": "execute_result"
    }
   ],
   "source": [
    "Counter(train[train.insult == 1].toxic)"
   ]
  },
  {
   "cell_type": "code",
   "execution_count": 26,
   "metadata": {},
   "outputs": [
    {
     "data": {
      "text/plain": [
       "Counter({0: 122, 1: 1995})"
      ]
     },
     "execution_count": 26,
     "metadata": {},
     "output_type": "execute_result"
    }
   ],
   "source": [
    "Counter(train[train.identity_hate == 1].toxic)"
   ]
  },
  {
   "cell_type": "markdown",
   "metadata": {},
   "source": [
    "1. All severe toxic comments are just toxic as well. These ones include swearing as well as vulgar and obscene attacks on other people. These are always very harsh and intense, so a toxic comment that is just sarcastic without being over the top will not be marked as severe toxic, although they usually are.\n",
    "2. All the other types of toxicity are not necessarily just toxic as well.\n",
    "3. Obscene comments are apparently any comments that include swearing words, no matter what their content is.\n",
    "4. Threats are quite self-explanatory. They usually involve a promise or a wish to hurt, kill, or sexually abuse the person that the message is directed at.\n",
    "5. Insults do not necessarily include swearing words. These are just always quite harsh expressions of critique towards another person. For example, comments that degrade a person's intellectual level using words like _stupid_ or _moronic_ will be marked as insults, but not necessarily any other types.\n",
    "6. Identity hate comments are ones that include names of some social, ethnic, religious, and other groups (muslims, homosexuals, people of colour etc.)."
   ]
  },
  {
   "cell_type": "markdown",
   "metadata": {},
   "source": [
    "### Non-toxic obscene comments, threats, insults, and identity hate"
   ]
  },
  {
   "cell_type": "markdown",
   "metadata": {},
   "source": [
    "It is unclear how all those can be non-toxic. Let's look at some examples."
   ]
  },
  {
   "cell_type": "code",
   "execution_count": 27,
   "metadata": {},
   "outputs": [
    {
     "data": {
      "text/html": [
       "<div>\n",
       "<style scoped>\n",
       "    .dataframe tbody tr th:only-of-type {\n",
       "        vertical-align: middle;\n",
       "    }\n",
       "\n",
       "    .dataframe tbody tr th {\n",
       "        vertical-align: top;\n",
       "    }\n",
       "\n",
       "    .dataframe thead th {\n",
       "        text-align: right;\n",
       "    }\n",
       "</style>\n",
       "<table border=\"1\" class=\"dataframe\">\n",
       "  <thead>\n",
       "    <tr style=\"text-align: right;\">\n",
       "      <th></th>\n",
       "      <th>comment_text</th>\n",
       "      <th>obscene</th>\n",
       "    </tr>\n",
       "  </thead>\n",
       "  <tbody>\n",
       "    <tr>\n",
       "      <th>527</th>\n",
       "      <td>How do you know he is dead.  Its just his plane that crashed.  Jeezz, quit busting his nuts, folks.</td>\n",
       "      <td>1</td>\n",
       "    </tr>\n",
       "    <tr>\n",
       "      <th>1232</th>\n",
       "      <td>Bleh. I'm all out of ideas. Is there really something wrong with the server or what? The damn thing won't work for me, either Helvetica_font_new.svg (my upload of Segoe UI was actually a PNG to begin with...)</td>\n",
       "      <td>1</td>\n",
       "    </tr>\n",
       "    <tr>\n",
       "      <th>1555</th>\n",
       "      <td>{{unblock|i said im sorry......how do u expect me to stop making accounts if u dont unblock me.....if u unblock me,ill stop making acounts...simple...........ur the ones who are making something bad to worse.....stop making a big deal...im not doing anything bad or violating anything now,so i dont get it,why am i still blocked....just get over it already.......i mean well.....im not here do violate anything.......im just trying to help.......and can someone tell alexandria to unblockme already......this block is so fucking overrated.....cant u just forgive and forget.....move on people....there are other things to worry about than a stupid block...so unblock me and MOVE ON........again,i come in peace......and i have a right to contribute to wikipedia.....what happend in the past happend....the past is in the past.....now were the present......lets open a new page and start a new chapter.....star fresh..ok..deal..??.......i promise i wont violate anything.....all im asking is anoth...</td>\n",
       "      <td>1</td>\n",
       "    </tr>\n",
       "    <tr>\n",
       "      <th>1697</th>\n",
       "      <td>\"\\n\\nAs for the arguements that abo should be included .. it already is. Wanker is used alot, but only as a common noun, and the usuage isn't unique. Same for the other words mentioned.\\n\\nThough other commonwealth countries (such as new zealand) may use cunt in a similar fashion, Australians do seem to use it more. However, this arguement is irrelevent since many \"\"Australian\"\" words such as \"\"mate, bloke\"\" etc are used extensively in NZ, and the UK, though are still in the article.\\nR0m\"</td>\n",
       "      <td>1</td>\n",
       "    </tr>\n",
       "    <tr>\n",
       "      <th>1867</th>\n",
       "      <td>\"=Reliable sources===\\nCheating:\\n\"\"Barry Bonds:Cheater\"\" from CBS, yea I kinda think that is reliable. \\n\"\"Dear Barry Bonds, You are either an outright cheater or very stupid\"\" from the USA Today \\n\"\"Yes, Barry Bonds is a cheater. He is a cheater of the worst sort\"\" \\nLying:\\n\"\"It's clear, Barry Bonds' a liar\"\" New York Daily News, another pretty freakin' reliable source. \\n\"\"Barry Lamar Bonds is a bad man\"\" Baseball Digest \\n\"\"but Bonds is a liar, a cheater, a whiner and a bad influence on America's youth\"\"  Mark Barnes\\n\\n==\"</td>\n",
       "      <td>1</td>\n",
       "    </tr>\n",
       "    <tr>\n",
       "      <th>1888</th>\n",
       "      <td>I wish to restate the AN thread as neutral and inviting community discussion. I realize that I went to far by characterizing IH as a dick. I apologize. 140.247.141.165</td>\n",
       "      <td>1</td>\n",
       "    </tr>\n",
       "    <tr>\n",
       "      <th>2537</th>\n",
       "      <td>\"\\nLecture someone else, Sarah. You are talking down. You're talking down a teacher talks to a disobedient child. Get off the pedestal and don't spout such bizarre lines as \"\"simply incapable of decency\"\". Adminship isn't a licence to talk to others with contempt. It's fucking insulting. \\n\\nI'd rather deal with an honest asshole (which I would really like to see around here) than a bunch of ass-kissing, arrogant snakes (which I see in spades). This project just goes to hell that little bit further every day; I wonder how long until the articles I've written are bastardised in the way all of these are?  talk \"</td>\n",
       "      <td>1</td>\n",
       "    </tr>\n",
       "    <tr>\n",
       "      <th>2593</th>\n",
       "      <td>jd2718 the sock fiend \\n\\nnow hes lying out his ass on the ani page but I can't comment. and no im not this m1rth person, im just me.</td>\n",
       "      <td>1</td>\n",
       "    </tr>\n",
       "    <tr>\n",
       "      <th>2678</th>\n",
       "      <td>Issues with Knox \\n\\nKnox run things like Gala Days, festivals etc. and you know what? Along Redleaf Ave and the Pacific Hwy, they illegally park. Now, I know a friend who lives on the Pcfc Hwy in Wahroonga, and the snobby bastards from Knox come along and completely block people's driveways. They can't get out! However, it's not illegal and the people of Wahroonga complain to Ku-ring-gai Council and what do they get? Nothing! It's ridiculous that bastards like that can get away with it. Somebody needs to add another section on this article talking about this issue, so that people who want to know more about the school and also people who attend the school can realise just how much arrogant and jerky they are!</td>\n",
       "      <td>1</td>\n",
       "    </tr>\n",
       "    <tr>\n",
       "      <th>2897</th>\n",
       "      <td>I just learned how to suck up to people. You're very good at it, FisherQueen. As for the grammer, it should be fairly obvious that they're typos, now pick out a mistake here, bitch!</td>\n",
       "      <td>1</td>\n",
       "    </tr>\n",
       "  </tbody>\n",
       "</table>\n",
       "</div>"
      ],
      "text/plain": [
       "                                                                                                                                                                                                                                                                                                                                                                                                                                                                                                                                                                                                                                                                                                                                                                                                                                                                                                                                                                                                                                 comment_text  \\\n",
       "527                                                                                                                                                                                                                                                                                                                                                                                                                                                                                                                                                                                                                                                                                                                                                                                                                                                                                                                                       How do you know he is dead.  Its just his plane that crashed.  Jeezz, quit busting his nuts, folks.   \n",
       "1232                                                                                                                                                                                                                                                                                                                                                                                                                                                                                                                                                                                                                                                                                                                                                                                                                         Bleh. I'm all out of ideas. Is there really something wrong with the server or what? The damn thing won't work for me, either Helvetica_font_new.svg (my upload of Segoe UI was actually a PNG to begin with...)   \n",
       "1555  {{unblock|i said im sorry......how do u expect me to stop making accounts if u dont unblock me.....if u unblock me,ill stop making acounts...simple...........ur the ones who are making something bad to worse.....stop making a big deal...im not doing anything bad or violating anything now,so i dont get it,why am i still blocked....just get over it already.......i mean well.....im not here do violate anything.......im just trying to help.......and can someone tell alexandria to unblockme already......this block is so fucking overrated.....cant u just forgive and forget.....move on people....there are other things to worry about than a stupid block...so unblock me and MOVE ON........again,i come in peace......and i have a right to contribute to wikipedia.....what happend in the past happend....the past is in the past.....now were the present......lets open a new page and start a new chapter.....star fresh..ok..deal..??.......i promise i wont violate anything.....all im asking is anoth...   \n",
       "1697                                                                                                                                                                                                                                                                                                                                                                                                                                                                                                                           \"\\n\\nAs for the arguements that abo should be included .. it already is. Wanker is used alot, but only as a common noun, and the usuage isn't unique. Same for the other words mentioned.\\n\\nThough other commonwealth countries (such as new zealand) may use cunt in a similar fashion, Australians do seem to use it more. However, this arguement is irrelevent since many \"\"Australian\"\" words such as \"\"mate, bloke\"\" etc are used extensively in NZ, and the UK, though are still in the article.\\nR0m\"   \n",
       "1867                                                                                                                                                                                                                                                                                                                                                                                                                                                                                   \"=Reliable sources===\\nCheating:\\n\"\"Barry Bonds:Cheater\"\" from CBS, yea I kinda think that is reliable. \\n\"\"Dear Barry Bonds, You are either an outright cheater or very stupid\"\" from the USA Today \\n\"\"Yes, Barry Bonds is a cheater. He is a cheater of the worst sort\"\" \\nLying:\\n\"\"It's clear, Barry Bonds' a liar\"\" New York Daily News, another pretty freakin' reliable source. \\n\"\"Barry Lamar Bonds is a bad man\"\" Baseball Digest \\n\"\"but Bonds is a liar, a cheater, a whiner and a bad influence on America's youth\"\"  Mark Barnes\\n\\n==\"   \n",
       "1888                                                                                                                                                                                                                                                                                                                                                                                                                                                                                                                                                                                                                                                                                                                                                                                                                                                                  I wish to restate the AN thread as neutral and inviting community discussion. I realize that I went to far by characterizing IH as a dick. I apologize. 140.247.141.165   \n",
       "2537                                                                                                                                                                                                                                                                                                                                                                                                \"\\nLecture someone else, Sarah. You are talking down. You're talking down a teacher talks to a disobedient child. Get off the pedestal and don't spout such bizarre lines as \"\"simply incapable of decency\"\". Adminship isn't a licence to talk to others with contempt. It's fucking insulting. \\n\\nI'd rather deal with an honest asshole (which I would really like to see around here) than a bunch of ass-kissing, arrogant snakes (which I see in spades). This project just goes to hell that little bit further every day; I wonder how long until the articles I've written are bastardised in the way all of these are?  talk \"   \n",
       "2593                                                                                                                                                                                                                                                                                                                                                                                                                                                                                                                                                                                                                                                                                                                                                                                                                                                                                                    jd2718 the sock fiend \\n\\nnow hes lying out his ass on the ani page but I can't comment. and no im not this m1rth person, im just me.   \n",
       "2678                                                                                                                                                                                                                                                                                          Issues with Knox \\n\\nKnox run things like Gala Days, festivals etc. and you know what? Along Redleaf Ave and the Pacific Hwy, they illegally park. Now, I know a friend who lives on the Pcfc Hwy in Wahroonga, and the snobby bastards from Knox come along and completely block people's driveways. They can't get out! However, it's not illegal and the people of Wahroonga complain to Ku-ring-gai Council and what do they get? Nothing! It's ridiculous that bastards like that can get away with it. Somebody needs to add another section on this article talking about this issue, so that people who want to know more about the school and also people who attend the school can realise just how much arrogant and jerky they are!   \n",
       "2897                                                                                                                                                                                                                                                                                                                                                                                                                                                                                                                                                                                                                                                                                                                                                                                                                                                    I just learned how to suck up to people. You're very good at it, FisherQueen. As for the grammer, it should be fairly obvious that they're typos, now pick out a mistake here, bitch!   \n",
       "\n",
       "      obscene  \n",
       "527         1  \n",
       "1232        1  \n",
       "1555        1  \n",
       "1697        1  \n",
       "1867        1  \n",
       "1888        1  \n",
       "2537        1  \n",
       "2593        1  \n",
       "2678        1  \n",
       "2897        1  "
      ]
     },
     "metadata": {},
     "output_type": "display_data"
    },
    {
     "data": {
      "text/html": [
       "<div>\n",
       "<style scoped>\n",
       "    .dataframe tbody tr th:only-of-type {\n",
       "        vertical-align: middle;\n",
       "    }\n",
       "\n",
       "    .dataframe tbody tr th {\n",
       "        vertical-align: top;\n",
       "    }\n",
       "\n",
       "    .dataframe thead th {\n",
       "        text-align: right;\n",
       "    }\n",
       "</style>\n",
       "<table border=\"1\" class=\"dataframe\">\n",
       "  <thead>\n",
       "    <tr style=\"text-align: right;\">\n",
       "      <th></th>\n",
       "      <th>comment_text</th>\n",
       "      <th>threat</th>\n",
       "    </tr>\n",
       "  </thead>\n",
       "  <tbody>\n",
       "    <tr>\n",
       "      <th>3712</th>\n",
       "      <td>Please stop. If you continue to ignore our policies by introducing inappropriate pages to Wikipedia, you will be blocked.</td>\n",
       "      <td>1</td>\n",
       "    </tr>\n",
       "    <tr>\n",
       "      <th>6316</th>\n",
       "      <td>\"\\n\\n Lock Down \\n\\nI don't know about the \"\"Bulgarian BULLSHIT season\"\", but don't be fooled from where exactly i connect. If i see you editing, or someone else you send, the DDA40X article one more time, you will spend the next few years in prison. I will arrange you a meeting with certain people for suspicions of terrorism. Yes. I can do that. A terror suspect nowadays, you can kiss your young life goodbye. If you file complaints and i'm banned, you and your naked ass will have the whole time in the world, in the cell block, to think what went wrong. 87.252.167.254  \"</td>\n",
       "      <td>1</td>\n",
       "    </tr>\n",
       "    <tr>\n",
       "      <th>16939</th>\n",
       "      <td>That's funny. You was personally offended? So the bad things writer new you, your name etc, right? \\nAnd one get offended by a comment, or epithets on a website, then that same person must grow up spiritually for some more 5 centuries at least.\\nAnd if one get more offended by the previous comment, then that same person must kill him/hersef.\\n\\nTake care!</td>\n",
       "      <td>1</td>\n",
       "    </tr>\n",
       "    <tr>\n",
       "      <th>17210</th>\n",
       "      <td>Wow dude.  As your physician I suggest you slit your wrists.</td>\n",
       "      <td>1</td>\n",
       "    </tr>\n",
       "    <tr>\n",
       "      <th>23374</th>\n",
       "      <td>hey!!!!!!! thank you for re-editing my contributions it was really kind of you!!!!!!! i hope you get bowel cancer</td>\n",
       "      <td>1</td>\n",
       "    </tr>\n",
       "    <tr>\n",
       "      <th>29295</th>\n",
       "      <td>Regarding your passing \\n\\nBecause you willfully violate Wikipedia's copyright and because you intentionally publish libel, I will arrange to have your life terminated.</td>\n",
       "      <td>1</td>\n",
       "    </tr>\n",
       "    <tr>\n",
       "      <th>48209</th>\n",
       "      <td>personal attacks \\n\\ndont tell me what i can and can not do i'll come over there right now and throw a brick through ur window</td>\n",
       "      <td>1</td>\n",
       "    </tr>\n",
       "    <tr>\n",
       "      <th>51307</th>\n",
       "      <td>If no-one beats me to it, I'll knock something up tonight.</td>\n",
       "      <td>1</td>\n",
       "    </tr>\n",
       "    <tr>\n",
       "      <th>53841</th>\n",
       "      <td>Wikistalking \\n\\nUnless you wish to be targeted yourself in a similar manner to Deskana I suggest to cease stalking me and reverting my edits at once</td>\n",
       "      <td>1</td>\n",
       "    </tr>\n",
       "    <tr>\n",
       "      <th>56561</th>\n",
       "      <td>Our warning to you ,Weare  not afraid of you blocking our edits here ,and if you keep going with this Nationalist propaganda Chauvinism and Hate speech,we might start looking for you and face you in person,so watch out !</td>\n",
       "      <td>1</td>\n",
       "    </tr>\n",
       "  </tbody>\n",
       "</table>\n",
       "</div>"
      ],
      "text/plain": [
       "                                                                                                                                                                                                                                                                                                                                                                                                                                                                                                                                                                                            comment_text  \\\n",
       "3712                                                                                                                                                                                                                                                                                                                                                                                                                                                                           Please stop. If you continue to ignore our policies by introducing inappropriate pages to Wikipedia, you will be blocked.   \n",
       "6316   \"\\n\\n Lock Down \\n\\nI don't know about the \"\"Bulgarian BULLSHIT season\"\", but don't be fooled from where exactly i connect. If i see you editing, or someone else you send, the DDA40X article one more time, you will spend the next few years in prison. I will arrange you a meeting with certain people for suspicions of terrorism. Yes. I can do that. A terror suspect nowadays, you can kiss your young life goodbye. If you file complaints and i'm banned, you and your naked ass will have the whole time in the world, in the cell block, to think what went wrong. 87.252.167.254  \"   \n",
       "16939                                                                                                                                                                                                                              That's funny. You was personally offended? So the bad things writer new you, your name etc, right? \\nAnd one get offended by a comment, or epithets on a website, then that same person must grow up spiritually for some more 5 centuries at least.\\nAnd if one get more offended by the previous comment, then that same person must kill him/hersef.\\n\\nTake care!   \n",
       "17210                                                                                                                                                                                                                                                                                                                                                                                                                                                                                                                                       Wow dude.  As your physician I suggest you slit your wrists.   \n",
       "23374                                                                                                                                                                                                                                                                                                                                                                                                                                                                                  hey!!!!!!! thank you for re-editing my contributions it was really kind of you!!!!!!! i hope you get bowel cancer   \n",
       "29295                                                                                                                                                                                                                                                                                                                                                                                                                           Regarding your passing \\n\\nBecause you willfully violate Wikipedia's copyright and because you intentionally publish libel, I will arrange to have your life terminated.   \n",
       "48209                                                                                                                                                                                                                                                                                                                                                                                                                                                                     personal attacks \\n\\ndont tell me what i can and can not do i'll come over there right now and throw a brick through ur window   \n",
       "51307                                                                                                                                                                                                                                                                                                                                                                                                                                                                                                                                         If no-one beats me to it, I'll knock something up tonight.   \n",
       "53841                                                                                                                                                                                                                                                                                                                                                                                                                                              Wikistalking \\n\\nUnless you wish to be targeted yourself in a similar manner to Deskana I suggest to cease stalking me and reverting my edits at once   \n",
       "56561                                                                                                                                                                                                                                                                                                                                                                       Our warning to you ,Weare  not afraid of you blocking our edits here ,and if you keep going with this Nationalist propaganda Chauvinism and Hate speech,we might start looking for you and face you in person,so watch out !   \n",
       "\n",
       "       threat  \n",
       "3712        1  \n",
       "6316        1  \n",
       "16939       1  \n",
       "17210       1  \n",
       "23374       1  \n",
       "29295       1  \n",
       "48209       1  \n",
       "51307       1  \n",
       "53841       1  \n",
       "56561       1  "
      ]
     },
     "metadata": {},
     "output_type": "display_data"
    },
    {
     "data": {
      "text/html": [
       "<div>\n",
       "<style scoped>\n",
       "    .dataframe tbody tr th:only-of-type {\n",
       "        vertical-align: middle;\n",
       "    }\n",
       "\n",
       "    .dataframe tbody tr th {\n",
       "        vertical-align: top;\n",
       "    }\n",
       "\n",
       "    .dataframe thead th {\n",
       "        text-align: right;\n",
       "    }\n",
       "</style>\n",
       "<table border=\"1\" class=\"dataframe\">\n",
       "  <thead>\n",
       "    <tr style=\"text-align: right;\">\n",
       "      <th></th>\n",
       "      <th>comment_text</th>\n",
       "      <th>insult</th>\n",
       "    </tr>\n",
       "  </thead>\n",
       "  <tbody>\n",
       "    <tr>\n",
       "      <th>179</th>\n",
       "      <td>REPLY ABOVE:\\nThat was me, loser. The UN defines Vietnam to be part of Southeast Asia. And far as I know Vietnam is part of ASEAN, and used to be part of French Indochina with Laos and all those shit countries Anyway your culture has always been more influenced by SEA than Han Chinese (as in proper Yangtze Han Chinese, not the fringe indigenous tribes in Guangzhou/Guangxi). \\n\\nJust admit that you vietnamese are all a bunch of wannabe crap people. ALL the east asian people I've spoken to thinks of Vietnam as a very integral part of SEA, and we all think you're backward, dirty and speak in a horrible swearing language. Doesn't matter what crap you spout on Wikipedia, won't change the way people in the real world think.</td>\n",
       "      <td>1</td>\n",
       "    </tr>\n",
       "    <tr>\n",
       "      <th>662</th>\n",
       "      <td>Hebrew Name of Lydia \\nAppologies to Til Eulenspiegel I thought you were one of the idiots which your user page indicates you actually do well struggling against. \\nGenesis 10:יג  וּמִצְרַיִם יָלַד אֶת-לוּדִים וְאֶת-עֲנָמִים, וְאֶת-לְהָבִיםוְאֶת-נַפְתֻּחִים.TAB13 And Mizraim begot Ludim, and Anamim, and Lehabim, and Naphtuhim,\\nYou see Ludim are from Mitzraim not to be confused with Lud son of Shem (in the far east).\\nBest wishes and keep up the good work.81.103.121.144</td>\n",
       "      <td>1</td>\n",
       "    </tr>\n",
       "    <tr>\n",
       "      <th>1351</th>\n",
       "      <td>\"\\n\\n Stop. \\n\\nStop redirecting the Teddygodzilla page to List of Code Lyoko episodes. Clearly, I'm in the middle of working on it. What you need is patience, man. And don't give me something like \"\"YOU HAD ENOUGH TIME\"\". How do you know I haven't been busy? What If I had to evacuate Hurricane Ike? As a matter of fact, My laptop charger decided to get fried, and I have a very small amount of time on a computer now. So my advice to you is to show some patience, or you will find me being a major asshole towards you.   \"</td>\n",
       "      <td>1</td>\n",
       "    </tr>\n",
       "    <tr>\n",
       "      <th>1624</th>\n",
       "      <td>You know what? Don't offend other users , you are a jerk! I know you are correct, but you don't have to get so angry about it. 207.62.246.166</td>\n",
       "      <td>1</td>\n",
       "    </tr>\n",
       "    <tr>\n",
       "      <th>1867</th>\n",
       "      <td>\"=Reliable sources===\\nCheating:\\n\"\"Barry Bonds:Cheater\"\" from CBS, yea I kinda think that is reliable. \\n\"\"Dear Barry Bonds, You are either an outright cheater or very stupid\"\" from the USA Today \\n\"\"Yes, Barry Bonds is a cheater. He is a cheater of the worst sort\"\" \\nLying:\\n\"\"It's clear, Barry Bonds' a liar\"\" New York Daily News, another pretty freakin' reliable source. \\n\"\"Barry Lamar Bonds is a bad man\"\" Baseball Digest \\n\"\"but Bonds is a liar, a cheater, a whiner and a bad influence on America's youth\"\"  Mark Barnes\\n\\n==\"</td>\n",
       "      <td>1</td>\n",
       "    </tr>\n",
       "    <tr>\n",
       "      <th>1960</th>\n",
       "      <td>I'm sorry that I must say this. I have never come across a more idiotic editor on Wikipedia. Congratulations on making it to the top of my list. I mean that in a congratulatory sense entirely; in no way is it meant to offend or sound sarcastic. I wouldn't call you an editor though. You're more of a pollutant to this project and one with extreme perversion of perception. Please reread the discussion at the talk page. Based on what you last posted there it is painfully obvious that you ignored, or did not comprehend, much of what I tried explaining to you multiple times at that talk page.</td>\n",
       "      <td>1</td>\n",
       "    </tr>\n",
       "    <tr>\n",
       "      <th>2537</th>\n",
       "      <td>\"\\nLecture someone else, Sarah. You are talking down. You're talking down a teacher talks to a disobedient child. Get off the pedestal and don't spout such bizarre lines as \"\"simply incapable of decency\"\". Adminship isn't a licence to talk to others with contempt. It's fucking insulting. \\n\\nI'd rather deal with an honest asshole (which I would really like to see around here) than a bunch of ass-kissing, arrogant snakes (which I see in spades). This project just goes to hell that little bit further every day; I wonder how long until the articles I've written are bastardised in the way all of these are?  talk \"</td>\n",
       "      <td>1</td>\n",
       "    </tr>\n",
       "    <tr>\n",
       "      <th>2678</th>\n",
       "      <td>Issues with Knox \\n\\nKnox run things like Gala Days, festivals etc. and you know what? Along Redleaf Ave and the Pacific Hwy, they illegally park. Now, I know a friend who lives on the Pcfc Hwy in Wahroonga, and the snobby bastards from Knox come along and completely block people's driveways. They can't get out! However, it's not illegal and the people of Wahroonga complain to Ku-ring-gai Council and what do they get? Nothing! It's ridiculous that bastards like that can get away with it. Somebody needs to add another section on this article talking about this issue, so that people who want to know more about the school and also people who attend the school can realise just how much arrogant and jerky they are!</td>\n",
       "      <td>1</td>\n",
       "    </tr>\n",
       "    <tr>\n",
       "      <th>2897</th>\n",
       "      <td>I just learned how to suck up to people. You're very good at it, FisherQueen. As for the grammer, it should be fairly obvious that they're typos, now pick out a mistake here, bitch!</td>\n",
       "      <td>1</td>\n",
       "    </tr>\n",
       "    <tr>\n",
       "      <th>3012</th>\n",
       "      <td>Yeah, this guys deleting potentially life saving information citing that the article 'doesn't look very pretty with real information', I call him a nerd and have a go at him for doing so, and I'm in the wrong. Nice to see your a human being mate. Remind me to steer clear of 'people' like you.124.176.226.45</td>\n",
       "      <td>1</td>\n",
       "    </tr>\n",
       "  </tbody>\n",
       "</table>\n",
       "</div>"
      ],
      "text/plain": [
       "                                                                                                                                                                                                                                                                                                                                                                                                                                                                                                                                                                                                                                                                                                                                                 comment_text  \\\n",
       "179   REPLY ABOVE:\\nThat was me, loser. The UN defines Vietnam to be part of Southeast Asia. And far as I know Vietnam is part of ASEAN, and used to be part of French Indochina with Laos and all those shit countries Anyway your culture has always been more influenced by SEA than Han Chinese (as in proper Yangtze Han Chinese, not the fringe indigenous tribes in Guangzhou/Guangxi). \\n\\nJust admit that you vietnamese are all a bunch of wannabe crap people. ALL the east asian people I've spoken to thinks of Vietnam as a very integral part of SEA, and we all think you're backward, dirty and speak in a horrible swearing language. Doesn't matter what crap you spout on Wikipedia, won't change the way people in the real world think.   \n",
       "662                                                                                                                                                                                                                                                                Hebrew Name of Lydia \\nAppologies to Til Eulenspiegel I thought you were one of the idiots which your user page indicates you actually do well struggling against. \\nGenesis 10:יג  וּמִצְרַיִם יָלַד אֶת-לוּדִים וְאֶת-עֲנָמִים, וְאֶת-לְהָבִיםוְאֶת-נַפְתֻּחִים.TAB13 And Mizraim begot Ludim, and Anamim, and Lehabim, and Naphtuhim,\\nYou see Ludim are from Mitzraim not to be confused with Lud son of Shem (in the far east).\\nBest wishes and keep up the good work.81.103.121.144   \n",
       "1351                                                                                                                                                                                                             \"\\n\\n Stop. \\n\\nStop redirecting the Teddygodzilla page to List of Code Lyoko episodes. Clearly, I'm in the middle of working on it. What you need is patience, man. And don't give me something like \"\"YOU HAD ENOUGH TIME\"\". How do you know I haven't been busy? What If I had to evacuate Hurricane Ike? As a matter of fact, My laptop charger decided to get fried, and I have a very small amount of time on a computer now. So my advice to you is to show some patience, or you will find me being a major asshole towards you.   \"   \n",
       "1624                                                                                                                                                                                                                                                                                                                                                                                                                                                                                                                                                                                                            You know what? Don't offend other users , you are a jerk! I know you are correct, but you don't have to get so angry about it. 207.62.246.166   \n",
       "1867                                                                                                                                                                                                   \"=Reliable sources===\\nCheating:\\n\"\"Barry Bonds:Cheater\"\" from CBS, yea I kinda think that is reliable. \\n\"\"Dear Barry Bonds, You are either an outright cheater or very stupid\"\" from the USA Today \\n\"\"Yes, Barry Bonds is a cheater. He is a cheater of the worst sort\"\" \\nLying:\\n\"\"It's clear, Barry Bonds' a liar\"\" New York Daily News, another pretty freakin' reliable source. \\n\"\"Barry Lamar Bonds is a bad man\"\" Baseball Digest \\n\"\"but Bonds is a liar, a cheater, a whiner and a bad influence on America's youth\"\"  Mark Barnes\\n\\n==\"   \n",
       "1960                                                                                                                                        I'm sorry that I must say this. I have never come across a more idiotic editor on Wikipedia. Congratulations on making it to the top of my list. I mean that in a congratulatory sense entirely; in no way is it meant to offend or sound sarcastic. I wouldn't call you an editor though. You're more of a pollutant to this project and one with extreme perversion of perception. Please reread the discussion at the talk page. Based on what you last posted there it is painfully obvious that you ignored, or did not comprehend, much of what I tried explaining to you multiple times at that talk page.   \n",
       "2537                                                                                                                \"\\nLecture someone else, Sarah. You are talking down. You're talking down a teacher talks to a disobedient child. Get off the pedestal and don't spout such bizarre lines as \"\"simply incapable of decency\"\". Adminship isn't a licence to talk to others with contempt. It's fucking insulting. \\n\\nI'd rather deal with an honest asshole (which I would really like to see around here) than a bunch of ass-kissing, arrogant snakes (which I see in spades). This project just goes to hell that little bit further every day; I wonder how long until the articles I've written are bastardised in the way all of these are?  talk \"   \n",
       "2678          Issues with Knox \\n\\nKnox run things like Gala Days, festivals etc. and you know what? Along Redleaf Ave and the Pacific Hwy, they illegally park. Now, I know a friend who lives on the Pcfc Hwy in Wahroonga, and the snobby bastards from Knox come along and completely block people's driveways. They can't get out! However, it's not illegal and the people of Wahroonga complain to Ku-ring-gai Council and what do they get? Nothing! It's ridiculous that bastards like that can get away with it. Somebody needs to add another section on this article talking about this issue, so that people who want to know more about the school and also people who attend the school can realise just how much arrogant and jerky they are!   \n",
       "2897                                                                                                                                                                                                                                                                                                                                                                                                                                                                                                                                                                    I just learned how to suck up to people. You're very good at it, FisherQueen. As for the grammer, it should be fairly obvious that they're typos, now pick out a mistake here, bitch!   \n",
       "3012                                                                                                                                                                                                                                                                                                                                                                                                                                      Yeah, this guys deleting potentially life saving information citing that the article 'doesn't look very pretty with real information', I call him a nerd and have a go at him for doing so, and I'm in the wrong. Nice to see your a human being mate. Remind me to steer clear of 'people' like you.124.176.226.45   \n",
       "\n",
       "      insult  \n",
       "179        1  \n",
       "662        1  \n",
       "1351       1  \n",
       "1624       1  \n",
       "1867       1  \n",
       "1960       1  \n",
       "2537       1  \n",
       "2678       1  \n",
       "2897       1  \n",
       "3012       1  "
      ]
     },
     "metadata": {},
     "output_type": "display_data"
    },
    {
     "data": {
      "text/html": [
       "<div>\n",
       "<style scoped>\n",
       "    .dataframe tbody tr th:only-of-type {\n",
       "        vertical-align: middle;\n",
       "    }\n",
       "\n",
       "    .dataframe tbody tr th {\n",
       "        vertical-align: top;\n",
       "    }\n",
       "\n",
       "    .dataframe thead th {\n",
       "        text-align: right;\n",
       "    }\n",
       "</style>\n",
       "<table border=\"1\" class=\"dataframe\">\n",
       "  <thead>\n",
       "    <tr style=\"text-align: right;\">\n",
       "      <th></th>\n",
       "      <th>comment_text</th>\n",
       "      <th>identity_hate</th>\n",
       "    </tr>\n",
       "  </thead>\n",
       "  <tbody>\n",
       "    <tr>\n",
       "      <th>3620</th>\n",
       "      <td>Mate, sound like you are jewish\\n\\nGayness is in the air</td>\n",
       "      <td>1</td>\n",
       "    </tr>\n",
       "    <tr>\n",
       "      <th>4468</th>\n",
       "      <td>\"Just face the truth: you can't escape it!==\\nUser:Arilang1234 didn't edit your foul, slimy racist template, you loser. I suggest that YOU stop pretending that Manchus are ethnically Chinese. How about YOU face the undeniable truth?\\n\\nAnd how about YOU stop making false accusations about other users?   \\n\\nFollowing the blocking of the above user, I am very surprised that you haven't been blocked from editing Wikipedia as well given that your Manchu ethnicity template itself (as created by you) is also a blatant violation of Wikipedia policy. 96.9.180.213  \\n\\nBarnstar\\n  The Monkey's Barnstar For pushing forward fringe views on Wikipedia, especially your foul, slimy, racist view that Manchus are ethnically Chinese. You have proven yourself to be more barbaric than this monkey. Here's a banana.\\n\\nCongratulations for acting like a monkey!\\nWow, so you have managed to earn The Monkey's Barnstar. You must be highly barbaric then. 209.162.35.64  \\n\\nStop making false accusations\\nCon...</td>\n",
       "      <td>1</td>\n",
       "    </tr>\n",
       "    <tr>\n",
       "      <th>5839</th>\n",
       "      <td>it is obvius to, me, a black man, that orange is for da black Gs, blue is for mexicans and yellow is 4 whites. coz whites look like woman. and mexicans try to compete with da nigger Gs but we r too strong. but in realty the whites also lose to da black man coz we have foot longs124.176.226.45  \\n\\nOrange-throated males are strongest and do not form strong pair bonds; instead, they fight blue-throated males for their females. Yellow-throated males, however, manage to snatch females away from them for mating.\\nBlue-throated males are middle-sized and form strong pair bonds. While they are outcompeted by orange-throated males, they can defend against yellow-throated ones.\\nYellow-throated males are smallest, and their coloration mimics females. Under this disguise, they can approach orange-throated males (though not the stronger-bonding, blue-throated specimens) and mate while the orange-throats are engaged in fights.</td>\n",
       "      <td>1</td>\n",
       "    </tr>\n",
       "    <tr>\n",
       "      <th>7036</th>\n",
       "      <td>\"\\n\\nAn illness has nothing to do with time/era, but \"\"mental illnesses\"\", for some reason, do. In a society where everyone is narcissistic, it's not a disorder. Ragheads think we're insane, and we think those sand-niggers are crazy too. Ever heard of \"\"Einstein's Theory of Relativity\"\"? I think not. \"</td>\n",
       "      <td>1</td>\n",
       "    </tr>\n",
       "    <tr>\n",
       "      <th>8417</th>\n",
       "      <td>Now.. For the picture page to remain, what do you need remove on the pages.\\n\\nTwo, can you remove the fraud external links, you make all Nigerian look like fraud or con artists....\\nthis is my request.</td>\n",
       "      <td>1</td>\n",
       "    </tr>\n",
       "    <tr>\n",
       "      <th>11053</th>\n",
       "      <td>\"\\n\\nToo funny\\n\\ncorey suggests a famous people section from moline or historical signicance section, but that is just too funny.  These guys will probably tell you about some confederate hero or plantation owner or other backwood gomer.  \"\"What do you call a person from Moline who has all their teeth?  An obvious no-good no-account yankee LIAR who just rode in.\"\"  Hmmm... not a very funny joke, but then again, racism isn't funny either, and this page is completely racist.  Backward, ignorant, hillbilly, hee-haw, and racist.\"</td>\n",
       "      <td>1</td>\n",
       "    </tr>\n",
       "    <tr>\n",
       "      <th>13201</th>\n",
       "      <td>The Israelis are committing massacres in Gaza, but nobody listens. There is even no photos which exposes those who permitted these massacres.</td>\n",
       "      <td>1</td>\n",
       "    </tr>\n",
       "    <tr>\n",
       "      <th>13539</th>\n",
       "      <td>User:Abd is Muslim Scum</td>\n",
       "      <td>1</td>\n",
       "    </tr>\n",
       "    <tr>\n",
       "      <th>14173</th>\n",
       "      <td>Some helpful advice ) \\n\\nLook shithead, why the fuck did you delete my redirects—clit rock and butt rock? They are perfectly synonymous with the names of the articles they redirected to. Of course, you must be one of those musically ignorant philistine faggots who seem to crawl all over the Internet. \\n\\nTell you what, I'll give you some helpful on how not to be such a retarded poof:\\nFind a way to go back in time.\\nGo back to the year when you were an infant.\\nGo to the house you grew up in.\\nTell you bitch-ass mother to not keep dropping you on your head. Tell that ho that because of her, you magically developed symptoms of Down's Syndrome as you grew older. So much so that these you have to become a mindless vanda-fight admin-gnome on Wikipedia cause that's the only productive thing you can do.\\n\\nI hope you don't take this the wrong way. I'm just trying to help somebody with far less mental facility than I. Best of luck with your future, and remember that thanks to medical adv...</td>\n",
       "      <td>1</td>\n",
       "    </tr>\n",
       "    <tr>\n",
       "      <th>14855</th>\n",
       "      <td>yeah black peolpel rpck! @#=-+st++dhs</td>\n",
       "      <td>1</td>\n",
       "    </tr>\n",
       "  </tbody>\n",
       "</table>\n",
       "</div>"
      ],
      "text/plain": [
       "                                                                                                                                                                                                                                                                                                                                                                                                                                                                                                                                                                                                                                                                                                                                                                                                                                                                                                                                                                                                                                  comment_text  \\\n",
       "3620                                                                                                                                                                                                                                                                                                                                                                                                                                                                                                                                                                                                                                                                                                                                                                                                                                                                                                                                                                                  Mate, sound like you are jewish\\n\\nGayness is in the air   \n",
       "4468   \"Just face the truth: you can't escape it!==\\nUser:Arilang1234 didn't edit your foul, slimy racist template, you loser. I suggest that YOU stop pretending that Manchus are ethnically Chinese. How about YOU face the undeniable truth?\\n\\nAnd how about YOU stop making false accusations about other users?   \\n\\nFollowing the blocking of the above user, I am very surprised that you haven't been blocked from editing Wikipedia as well given that your Manchu ethnicity template itself (as created by you) is also a blatant violation of Wikipedia policy. 96.9.180.213  \\n\\nBarnstar\\n  The Monkey's Barnstar For pushing forward fringe views on Wikipedia, especially your foul, slimy, racist view that Manchus are ethnically Chinese. You have proven yourself to be more barbaric than this monkey. Here's a banana.\\n\\nCongratulations for acting like a monkey!\\nWow, so you have managed to earn The Monkey's Barnstar. You must be highly barbaric then. 209.162.35.64  \\n\\nStop making false accusations\\nCon...   \n",
       "5839                                                                          it is obvius to, me, a black man, that orange is for da black Gs, blue is for mexicans and yellow is 4 whites. coz whites look like woman. and mexicans try to compete with da nigger Gs but we r too strong. but in realty the whites also lose to da black man coz we have foot longs124.176.226.45  \\n\\nOrange-throated males are strongest and do not form strong pair bonds; instead, they fight blue-throated males for their females. Yellow-throated males, however, manage to snatch females away from them for mating.\\nBlue-throated males are middle-sized and form strong pair bonds. While they are outcompeted by orange-throated males, they can defend against yellow-throated ones.\\nYellow-throated males are smallest, and their coloration mimics females. Under this disguise, they can approach orange-throated males (though not the stronger-bonding, blue-throated specimens) and mate while the orange-throats are engaged in fights.   \n",
       "7036                                                                                                                                                                                                                                                                                                                                                                                                                                                                                                                                                                                                                                                                                                                           \"\\n\\nAn illness has nothing to do with time/era, but \"\"mental illnesses\"\", for some reason, do. In a society where everyone is narcissistic, it's not a disorder. Ragheads think we're insane, and we think those sand-niggers are crazy too. Ever heard of \"\"Einstein's Theory of Relativity\"\"? I think not. \"   \n",
       "8417                                                                                                                                                                                                                                                                                                                                                                                                                                                                                                                                                                                                                                                                                                                                                                                                                                Now.. For the picture page to remain, what do you need remove on the pages.\\n\\nTwo, can you remove the fraud external links, you make all Nigerian look like fraud or con artists....\\nthis is my request.   \n",
       "11053                                                                                                                                                                                                                                                                                                                                                                                                                                                                                     \"\\n\\nToo funny\\n\\ncorey suggests a famous people section from moline or historical signicance section, but that is just too funny.  These guys will probably tell you about some confederate hero or plantation owner or other backwood gomer.  \"\"What do you call a person from Moline who has all their teeth?  An obvious no-good no-account yankee LIAR who just rode in.\"\"  Hmmm... not a very funny joke, but then again, racism isn't funny either, and this page is completely racist.  Backward, ignorant, hillbilly, hee-haw, and racist.\"   \n",
       "13201                                                                                                                                                                                                                                                                                                                                                                                                                                                                                                                                                                                                                                                                                                                                                                                                                                                                                            The Israelis are committing massacres in Gaza, but nobody listens. There is even no photos which exposes those who permitted these massacres.   \n",
       "13539                                                                                                                                                                                                                                                                                                                                                                                                                                                                                                                                                                                                                                                                                                                                                                                                                                                                                                                                                                                                                  User:Abd is Muslim Scum   \n",
       "14173  Some helpful advice ) \\n\\nLook shithead, why the fuck did you delete my redirects—clit rock and butt rock? They are perfectly synonymous with the names of the articles they redirected to. Of course, you must be one of those musically ignorant philistine faggots who seem to crawl all over the Internet. \\n\\nTell you what, I'll give you some helpful on how not to be such a retarded poof:\\nFind a way to go back in time.\\nGo back to the year when you were an infant.\\nGo to the house you grew up in.\\nTell you bitch-ass mother to not keep dropping you on your head. Tell that ho that because of her, you magically developed symptoms of Down's Syndrome as you grew older. So much so that these you have to become a mindless vanda-fight admin-gnome on Wikipedia cause that's the only productive thing you can do.\\n\\nI hope you don't take this the wrong way. I'm just trying to help somebody with far less mental facility than I. Best of luck with your future, and remember that thanks to medical adv...   \n",
       "14855                                                                                                                                                                                                                                                                                                                                                                                                                                                                                                                                                                                                                                                                                                                                                                                                                                                                                                                                                                                                    yeah black peolpel rpck! @#=-+st++dhs   \n",
       "\n",
       "       identity_hate  \n",
       "3620               1  \n",
       "4468               1  \n",
       "5839               1  \n",
       "7036               1  \n",
       "8417               1  \n",
       "11053              1  \n",
       "13201              1  \n",
       "13539              1  \n",
       "14173              1  \n",
       "14855              1  "
      ]
     },
     "metadata": {},
     "output_type": "display_data"
    }
   ],
   "source": [
    "train_non_toxic = train[train.toxic == 0]\n",
    "\n",
    "for column in ('obscene', 'threat', 'insult', 'identity_hate'):\n",
    "    display(train_non_toxic[train_non_toxic[column] == 1][['comment_text', column]][:10])"
   ]
  },
  {
   "cell_type": "markdown",
   "metadata": {},
   "source": [
    "1. All non-toxic obscene comments include specific words like _bastard_, _ass_, _dick_, _wanker_, _bitch_, and so on (it could be said that these are either non-swearing insults or words related to specific body parts). Some of these seem to be erroneously marked as non-toxic (e. g., __#2897__), while some are just emotionally charged descriptions of events that took place or of the words _per se_.\n",
    "2. Non-toxic threats are a heterogenous group. Some of these sound pretty toxic to me (__#17210__, __#29295__). Some of them are rather strict warnings than threats and do not involve any mentions of bodily harm. Some do sound as legitimate threats, but they concern things like getting blocked on a website or having one's property damaged. Some, like __#23374__, refer to naturally occurring misfortunes such as cancer.\n",
    "3. Non-toxic insults include words like _loser_, _idiot_, _jerk_, _asshole_, _nerd_, _bastard_. They are indeed insulting, but are relatively mild.\n",
    "4. Some of the non-toxic identity hate comments are actually quite toxic (__#13539__, __#14173__). Some mention nationalities or some social groups, but not necessarily in the context of hate (__#8417__, __#14855__). Finally, some claim to be simply describing facts or contain sarcasm, but are not overtly hateful (these ones are probably marked correctly as examples of non-toxic identity hate). Overall, this group is most confusing to me."
   ]
  },
  {
   "cell_type": "markdown",
   "metadata": {},
   "source": [
    "## Baseline: multilingual character-level n-grams + Logistic Regression with L1 regularization"
   ]
  },
  {
   "cell_type": "markdown",
   "metadata": {},
   "source": [
    "It is obvious that word-level models are unlikely to be good for the multilingual data, especially for Turkish. However, it could be hypothesized that these languages actually share some \"toxic\" lexical roots (for example, the English word _idiot_ is _idiota_ in Spanish and Italian). I don't think this approach will be good enough for Turkish, not an Indo-European language, but let's try it anyway."
   ]
  },
  {
   "cell_type": "code",
   "execution_count": 28,
   "metadata": {},
   "outputs": [],
   "source": [
    "from sklearn.metrics import roc_auc_score\n",
    "from sklearn.linear_model import LogisticRegression\n",
    "from sklearn.model_selection import train_test_split\n",
    "from sklearn.feature_extraction.text import CountVectorizer, TfidfVectorizer"
   ]
  },
  {
   "cell_type": "code",
   "execution_count": 29,
   "metadata": {},
   "outputs": [],
   "source": [
    "_, train_sample = train_test_split(train, test_size=0.2, stratify=train.toxic, random_state=42)\n",
    "train_train, train_val = train_test_split(train_sample, test_size=0.1, stratify=train_sample.toxic, random_state=42)"
   ]
  },
  {
   "cell_type": "markdown",
   "metadata": {},
   "source": [
    "### CountVectorizer"
   ]
  },
  {
   "cell_type": "code",
   "execution_count": 30,
   "metadata": {},
   "outputs": [],
   "source": [
    "count = CountVectorizer(analyzer='char_wb', ngram_range=(3, 5), max_df=0.5, min_df=20, max_features=10000)\n",
    "count = count.fit(pd.concat((train.comment_text, val.comment_text)))"
   ]
  },
  {
   "cell_type": "code",
   "execution_count": 31,
   "metadata": {},
   "outputs": [],
   "source": [
    "X_train = count.transform(train_train.comment_text)\n",
    "X_train_val = count.transform(train_val.comment_text)\n",
    "X_val = count.transform(val.comment_text)"
   ]
  },
  {
   "cell_type": "markdown",
   "metadata": {},
   "source": [
    "#### C = 0.1"
   ]
  },
  {
   "cell_type": "code",
   "execution_count": 32,
   "metadata": {},
   "outputs": [
    {
     "data": {
      "text/plain": [
       "LogisticRegression(C=0.1, class_weight='balanced', max_iter=200, n_jobs=-1,\n",
       "                   penalty='l1', solver='saga')"
      ]
     },
     "execution_count": 32,
     "metadata": {},
     "output_type": "execute_result"
    }
   ],
   "source": [
    "logreg_1 = LogisticRegression(penalty='l1', C=0.1, class_weight='balanced', solver='saga', max_iter=200, n_jobs=-1)\n",
    "logreg_1.fit(X_train, train_train.toxic)"
   ]
  },
  {
   "cell_type": "code",
   "execution_count": 33,
   "metadata": {},
   "outputs": [
    {
     "name": "stdout",
     "output_type": "stream",
     "text": [
      "0.8594582536794875\n"
     ]
    }
   ],
   "source": [
    "train_val_preds = logreg_1.predict_proba(X_train_val)[:, 1]\n",
    "print(roc_auc_score(train_val.toxic, train_val_preds))"
   ]
  },
  {
   "cell_type": "code",
   "execution_count": 34,
   "metadata": {},
   "outputs": [
    {
     "name": "stdout",
     "output_type": "stream",
     "text": [
      "0.5646915492788606\n"
     ]
    }
   ],
   "source": [
    "val_preds = logreg_1.predict_proba(X_val)[:, 1]\n",
    "print(roc_auc_score(val.toxic, val_preds))"
   ]
  },
  {
   "cell_type": "markdown",
   "metadata": {},
   "source": [
    "#### C = 0.01"
   ]
  },
  {
   "cell_type": "code",
   "execution_count": 35,
   "metadata": {},
   "outputs": [
    {
     "data": {
      "text/plain": [
       "LogisticRegression(C=0.01, class_weight='balanced', max_iter=200, n_jobs=-1,\n",
       "                   penalty='l1', solver='saga')"
      ]
     },
     "execution_count": 35,
     "metadata": {},
     "output_type": "execute_result"
    }
   ],
   "source": [
    "logreg_2 = LogisticRegression(penalty='l1', C=0.01, class_weight='balanced', solver='saga', max_iter=200, n_jobs=-1)\n",
    "logreg_2.fit(X_train, train_train.toxic)"
   ]
  },
  {
   "cell_type": "code",
   "execution_count": 36,
   "metadata": {},
   "outputs": [
    {
     "name": "stdout",
     "output_type": "stream",
     "text": [
      "0.8532296504168968\n"
     ]
    }
   ],
   "source": [
    "train_val_preds = logreg_2.predict_proba(X_train_val)[:, 1]\n",
    "print(roc_auc_score(train_val.toxic, train_val_preds))"
   ]
  },
  {
   "cell_type": "code",
   "execution_count": 37,
   "metadata": {},
   "outputs": [
    {
     "name": "stdout",
     "output_type": "stream",
     "text": [
      "0.5565432143243145\n"
     ]
    }
   ],
   "source": [
    "val_preds = logreg_2.predict_proba(X_val)[:, 1]\n",
    "print(roc_auc_score(val.toxic, val_preds))"
   ]
  },
  {
   "cell_type": "markdown",
   "metadata": {},
   "source": [
    "### TfidfVectorizer"
   ]
  },
  {
   "cell_type": "code",
   "execution_count": 38,
   "metadata": {},
   "outputs": [],
   "source": [
    "tfidf = TfidfVectorizer(analyzer='char_wb', ngram_range=(3, 5), max_df=0.5, min_df=20, max_features=10000)\n",
    "tfidf = tfidf.fit(pd.concat((train.comment_text, val.comment_text)))"
   ]
  },
  {
   "cell_type": "code",
   "execution_count": 39,
   "metadata": {},
   "outputs": [],
   "source": [
    "X_train_tfidf = tfidf.transform(train_train.comment_text)\n",
    "X_train_val_tfidf = tfidf.transform(train_val.comment_text)\n",
    "X_val_tfidf = tfidf.transform(val.comment_text)"
   ]
  },
  {
   "cell_type": "markdown",
   "metadata": {},
   "source": [
    "#### C = 0.1"
   ]
  },
  {
   "cell_type": "code",
   "execution_count": 40,
   "metadata": {},
   "outputs": [
    {
     "data": {
      "text/plain": [
       "LogisticRegression(C=0.1, class_weight='balanced', max_iter=200, n_jobs=-1,\n",
       "                   penalty='l1', solver='saga')"
      ]
     },
     "execution_count": 40,
     "metadata": {},
     "output_type": "execute_result"
    }
   ],
   "source": [
    "logreg_3 = LogisticRegression(penalty='l1', C=0.1, class_weight='balanced', solver='saga', max_iter=200, n_jobs=-1)\n",
    "logreg_3.fit(X_train_tfidf, train_train.toxic)"
   ]
  },
  {
   "cell_type": "code",
   "execution_count": 41,
   "metadata": {},
   "outputs": [
    {
     "name": "stdout",
     "output_type": "stream",
     "text": [
      "0.9390645190371728\n"
     ]
    }
   ],
   "source": [
    "train_val_preds = logreg_3.predict_proba(X_train_val_tfidf)[:, 1]\n",
    "print(roc_auc_score(train_val.toxic, train_val_preds))"
   ]
  },
  {
   "cell_type": "code",
   "execution_count": 42,
   "metadata": {},
   "outputs": [
    {
     "name": "stdout",
     "output_type": "stream",
     "text": [
      "0.5823772982190678\n"
     ]
    }
   ],
   "source": [
    "val_preds = logreg_3.predict_proba(X_val_tfidf)[:, 1]\n",
    "print(roc_auc_score(val.toxic, val_preds))"
   ]
  },
  {
   "cell_type": "markdown",
   "metadata": {},
   "source": [
    "#### C = 0.01"
   ]
  },
  {
   "cell_type": "code",
   "execution_count": 43,
   "metadata": {},
   "outputs": [
    {
     "data": {
      "text/plain": [
       "LogisticRegression(C=0.01, class_weight='balanced', max_iter=200, n_jobs=-1,\n",
       "                   penalty='l1', solver='saga')"
      ]
     },
     "execution_count": 43,
     "metadata": {},
     "output_type": "execute_result"
    }
   ],
   "source": [
    "logreg_4 = LogisticRegression(penalty='l1', C=0.01, class_weight='balanced', solver='saga', max_iter=200, n_jobs=-1)\n",
    "logreg_4.fit(X_train_tfidf, train_train.toxic)"
   ]
  },
  {
   "cell_type": "code",
   "execution_count": 44,
   "metadata": {},
   "outputs": [
    {
     "name": "stdout",
     "output_type": "stream",
     "text": [
      "0.7807702709887401\n"
     ]
    }
   ],
   "source": [
    "train_val_preds = logreg_4.predict_proba(X_train_val_tfidf)[:, 1]\n",
    "print(roc_auc_score(train_val.toxic, train_val_preds))"
   ]
  },
  {
   "cell_type": "code",
   "execution_count": 45,
   "metadata": {},
   "outputs": [
    {
     "name": "stdout",
     "output_type": "stream",
     "text": [
      "0.5350442531013198\n"
     ]
    }
   ],
   "source": [
    "val_preds = logreg_4.predict_proba(X_val_tfidf)[:, 1]\n",
    "print(roc_auc_score(val.toxic, val_preds))"
   ]
  },
  {
   "cell_type": "markdown",
   "metadata": {},
   "source": [
    "## Feature analysis"
   ]
  },
  {
   "cell_type": "markdown",
   "metadata": {},
   "source": [
    "The best performing model on the multilingual data is Logistic Regression with L1 regularization with the value of the C parameter equal to 0.1. First of all, let's explore its most important features and see which ones could be extended to languages other than English."
   ]
  },
  {
   "cell_type": "code",
   "execution_count": 46,
   "metadata": {},
   "outputs": [],
   "source": [
    "id2ngram = {i: ngram for ngram, i in tfidf.vocabulary_.items()}"
   ]
  },
  {
   "cell_type": "code",
   "execution_count": 47,
   "metadata": {},
   "outputs": [],
   "source": [
    "def find_best_features(model, cls: int):\n",
    "    return [id2ngram[i] for i, _ in sorted(enumerate(model.coef_[cls]), key=lambda x: x[1], reverse=True)]"
   ]
  },
  {
   "cell_type": "code",
   "execution_count": 56,
   "metadata": {},
   "outputs": [
    {
     "data": {
      "text/plain": [
       "['uck', 'shit', 'upid', 'fag', 'tard', 'stup', 'you', 'fuc', 'diot', 'bitch']"
      ]
     },
     "execution_count": 56,
     "metadata": {},
     "output_type": "execute_result"
    }
   ],
   "source": [
    "best_features = find_best_features(logreg_3, 0)\n",
    "best_features[:10]"
   ]
  },
  {
   "cell_type": "markdown",
   "metadata": {},
   "source": [
    "Manually going over these n-grams will not lead us to anything. One thing that could be done is extracting the most important n-grams from the validation set and taking an intersection with the set of most important feature n-grams."
   ]
  },
  {
   "cell_type": "code",
   "execution_count": 58,
   "metadata": {},
   "outputs": [
    {
     "data": {
      "text/plain": [
       "['ların', 'ali', 'es ', ' gra', 'yor', ' mer', ' è ', 'saj', 'nız', 'lle']"
      ]
     },
     "execution_count": 58,
     "metadata": {},
     "output_type": "execute_result"
    }
   ],
   "source": [
    "tfidf_val = TfidfVectorizer(analyzer='char_wb', ngram_range=(3, 5), max_df=0.5, min_df=20, max_features=1000)\n",
    "tfidf_val = tfidf_val.fit(val.comment_text)\n",
    "val_ngrams = set(tfidf_val.vocabulary_)\n",
    "list(val_ngrams)[:10]"
   ]
  },
  {
   "cell_type": "code",
   "execution_count": 60,
   "metadata": {
    "scrolled": true
   },
   "outputs": [
    {
     "data": {
      "text/plain": [
       "['!!!',\n",
       " ' bi',\n",
       " ' me ',\n",
       " ' yo',\n",
       " ' he',\n",
       " ' fu',\n",
       " 'lik',\n",
       " ' ki',\n",
       " 'are ',\n",
       " ' li',\n",
       " ' ba',\n",
       " ' pe',\n",
       " ' pi']"
      ]
     },
     "execution_count": 60,
     "metadata": {},
     "output_type": "execute_result"
    }
   ],
   "source": [
    "sorted(val_ngrams & set(best_features[:100]), key=lambda x: best_features.index(x))"
   ]
  },
  {
   "cell_type": "markdown",
   "metadata": {},
   "source": [
    "These are the n-grams (sorted by importance) that are both relatively important for the training data (they are among the hundred most important features) and are significant in terms of their idf score in the validation set (they are among the 1000 n-grams with the highest idf score that are present in at least 20 documents, but no more than 4000 documents). Unfortunately, it seems like our hypothesis about there being interlingual obscene lexical roots significant for English as well as for Italian and Spanish is not supported: these n-grams are almost all word initial and too short to be lexical roots. Funnily, three exclamation points seem to be indicative of toxicity: this feature is truly interlingual."
   ]
  },
  {
   "cell_type": "markdown",
   "metadata": {},
   "source": [
    "## Stacking XGBoost"
   ]
  },
  {
   "cell_type": "markdown",
   "metadata": {},
   "source": [
    "For this part of our work, we will concentrate on the English data. Therefore, it seems like a good idea to create a word-level model, using tokenized columns we generated earlier."
   ]
  },
  {
   "cell_type": "code",
   "execution_count": 61,
   "metadata": {},
   "outputs": [],
   "source": [
    "from mlxtend.classifier import StackingClassifier\n",
    "from xgboost import XGBClassifier"
   ]
  },
  {
   "cell_type": "code",
   "execution_count": 63,
   "metadata": {},
   "outputs": [],
   "source": [
    "dummy = lambda x: x\n",
    "tfidf = TfidfVectorizer(preprocessor=dummy, tokenizer=dummy, max_df=0.5, min_df=60, max_features=10000)\n",
    "tfidf = tfidf.fit(train.tokens)"
   ]
  },
  {
   "cell_type": "code",
   "execution_count": 65,
   "metadata": {},
   "outputs": [],
   "source": [
    "X_train = tfidf.transform(train_train.tokens).todense()\n",
    "X_train_val = tfidf.transform(train_val.tokens).todense()"
   ]
  },
  {
   "cell_type": "code",
   "execution_count": 68,
   "metadata": {},
   "outputs": [
    {
     "data": {
      "text/plain": [
       "StackingClassifier(classifiers=[XGBClassifier(base_score=None, booster=None,\n",
       "                                              colsample_bylevel=None,\n",
       "                                              colsample_bynode=None,\n",
       "                                              colsample_bytree=None, gamma=None,\n",
       "                                              gpu_id=None,\n",
       "                                              importance_type='gain',\n",
       "                                              interaction_constraints=None,\n",
       "                                              learning_rate=None,\n",
       "                                              max_delta_step=None, max_depth=5,\n",
       "                                              min_child_weight=None,\n",
       "                                              missing=nan,\n",
       "                                              monotone_constraints=None,\n",
       "                                              n_estimators=100, n_job...\n",
       "                                              interaction_constraints=None,\n",
       "                                              learning_rate=None,\n",
       "                                              max_delta_step=None, max_depth=10,\n",
       "                                              min_child_weight=None,\n",
       "                                              missing=nan,\n",
       "                                              monotone_constraints=None,\n",
       "                                              n_estimators=100, n_jobs=-1,\n",
       "                                              num_parallel_tree=None,\n",
       "                                              random_state=None, reg_alpha=1,\n",
       "                                              reg_lambda=0,\n",
       "                                              scale_pos_weight=None,\n",
       "                                              subsample=None, tree_method=None,\n",
       "                                              validate_parameters=None,\n",
       "                                              verbosity=None)],\n",
       "                   meta_classifier=LogisticRegression())"
      ]
     },
     "execution_count": 68,
     "metadata": {},
     "output_type": "execute_result"
    }
   ],
   "source": [
    "classifiers = [\n",
    "    XGBClassifier(max_depth=5, n_jobs=-1, reg_alpha=1, reg_lambda=0),\n",
    "    XGBClassifier(max_depth=6, n_jobs=-1, reg_alpha=1, reg_lambda=0),\n",
    "    XGBClassifier(max_depth=10, n_jobs=-1, reg_alpha=1, reg_lambda=0)\n",
    "]\n",
    "sclf = StackingClassifier(classifiers=classifiers, meta_classifier=LogisticRegression())\n",
    "sclf.fit(X_train, train_train.toxic)"
   ]
  },
  {
   "cell_type": "code",
   "execution_count": 69,
   "metadata": {},
   "outputs": [
    {
     "name": "stdout",
     "output_type": "stream",
     "text": [
      "0.7910430165441134\n"
     ]
    }
   ],
   "source": [
    "train_val_preds = sclf.predict_proba(X_train_val)[:, 1]\n",
    "print(roc_auc_score(train_val.toxic, train_val_preds))"
   ]
  },
  {
   "cell_type": "markdown",
   "metadata": {},
   "source": [
    "## Handcrafted features for multilingual classification"
   ]
  },
  {
   "cell_type": "markdown",
   "metadata": {},
   "source": [
    "We will be adapting Sergey Kosyak's ideas and code in this section."
   ]
  },
  {
   "cell_type": "code",
   "execution_count": 87,
   "metadata": {},
   "outputs": [],
   "source": [
    "from nltk import sent_tokenize"
   ]
  },
  {
   "cell_type": "code",
   "execution_count": 88,
   "metadata": {},
   "outputs": [],
   "source": [
    "def normalize_whitespaces(text: str) -> str:\n",
    "    return re.sub(r'\\s+', ' ', text)\n",
    "\n",
    "def num_sentences(text: str) -> int:\n",
    "    return len(sent_tokenize(text))\n",
    "\n",
    "def caps_ratio(text: str) -> float:\n",
    "    caps_count = len([char for char in text if char.isalpha() and char.isupper()])\n",
    "    return caps_count / len(text)\n",
    "\n",
    "def punct_ratio(text: str) -> float:\n",
    "    punct_count = len([char for char in text if char in punct])\n",
    "    return punct_count / len(text)\n",
    "\n",
    "def digit_ratio(text: str) -> float:\n",
    "    digit_count = len([char for char in text if char.isdigit()])\n",
    "    return digit_count / len(text)\n",
    "\n",
    "def nonalpha_ratio(text: str) -> float:\n",
    "    nonalpha_count = len([char for char in text if not char.isalpha()])\n",
    "    return nonalpha_count / len(text)\n",
    "\n",
    "def exclamation_ratio(text: str) -> float:\n",
    "    exclamation_count = len([char for char in text if char == '!'])\n",
    "    return exclamation_count / len(text)\n",
    "\n",
    "def longest_rage_sequence(text: str) -> int:\n",
    "    try:\n",
    "        return max(len(x) for x in re.findall(r'[.?!]+', text))\n",
    "    except ValueError:\n",
    "        return 0\n",
    "    \n",
    "def longest_same_char(text: str) -> int:\n",
    "    best_len = 0\n",
    "    curr_len = 1\n",
    "    \n",
    "    for i in range(1, len(text)):\n",
    "        if text[i] == text[i-1]:\n",
    "            curr_len += 1\n",
    "        else:\n",
    "            if curr_len > best_len:\n",
    "                best_len = curr_len\n",
    "            curr_len = 1\n",
    "    \n",
    "    return max(best_len, curr_len)\n",
    "\n",
    "def has_link(text: str) -> int:\n",
    "    return int(re.search(r'https?://', text) is not None)\n",
    "\n",
    "def longest_token(tokens: List[str]) -> int:\n",
    "    return max(len(token) for token in tokens)\n",
    "\n",
    "def mean_token_length(tokens: List[str]) -> float:\n",
    "    return np.mean([len(token) for token in tokens])"
   ]
  },
  {
   "cell_type": "code",
   "execution_count": 94,
   "metadata": {},
   "outputs": [],
   "source": [
    "train['norm'] = train.comment_text.apply(normalize_whitespaces)\n",
    "train['char_lengths'] = train.norm.apply(len)\n",
    "train['num_sentences'] = train.norm.apply(num_sentences)\n",
    "train['caps_ratio'] = train.norm.apply(caps_ratio)\n",
    "train['punct_ratio'] = train.norm.apply(punct_ratio)\n",
    "train['digit_ratio'] = train.norm.apply(digit_ratio)\n",
    "train['nonalpha_ratio'] = train.norm.apply(nonalpha_ratio)\n",
    "train['exclamation_ratio'] = train.norm.apply(exclamation_ratio)\n",
    "train['longest_rage_sequence'] = train.norm.apply(longest_rage_sequence)\n",
    "train['longest_same_char'] = train.norm.apply(longest_same_char)\n",
    "train['has_link'] = train.norm.apply(has_link)\n",
    "train['token_lengths'] = train.tokens.apply(len)\n",
    "train['longest_token'] = train.tokens.apply(longest_token)\n",
    "train['mean_token_length'] = train.tokens.apply(mean_token_length)"
   ]
  },
  {
   "cell_type": "code",
   "execution_count": 95,
   "metadata": {},
   "outputs": [],
   "source": [
    "val['norm'] = val.comment_text.apply(normalize_whitespaces)\n",
    "val['char_lengths'] = val.norm.apply(len)\n",
    "val['num_sentences'] = val.norm.apply(num_sentences)\n",
    "val['caps_ratio'] = val.norm.apply(caps_ratio)\n",
    "val['punct_ratio'] = val.norm.apply(punct_ratio)\n",
    "val['digit_ratio'] = val.norm.apply(digit_ratio)\n",
    "val['nonalpha_ratio'] = val.norm.apply(nonalpha_ratio)\n",
    "val['exclamation_ratio'] = val.norm.apply(exclamation_ratio)\n",
    "val['longest_rage_sequence'] = val.norm.apply(longest_rage_sequence)\n",
    "val['longest_same_char'] = val.norm.apply(longest_same_char)\n",
    "val['has_link'] = val.norm.apply(has_link)\n",
    "val['token_lengths'] = val.tokens.apply(len)\n",
    "val['longest_token'] = val.tokens.apply(longest_token)\n",
    "val['mean_token_length'] = val.tokens.apply(mean_token_length)"
   ]
  },
  {
   "cell_type": "code",
   "execution_count": 96,
   "metadata": {},
   "outputs": [],
   "source": [
    "train_train, train_val = train_test_split(train, test_size=0.1, stratify=train.toxic, random_state=42)"
   ]
  },
  {
   "cell_type": "code",
   "execution_count": 97,
   "metadata": {},
   "outputs": [],
   "source": [
    "X_train = train_train[['char_lengths', 'num_sentences', 'caps_ratio', 'punct_ratio', 'digit_ratio',\n",
    "                       'nonalpha_ratio', 'exclamation_ratio', 'longest_rage_sequence', 'longest_same_char',\n",
    "                       'has_link', 'token_lengths', 'longest_token', 'mean_token_length']]\n",
    "X_train_val = train_val[['char_lengths', 'num_sentences', 'caps_ratio', 'punct_ratio', 'digit_ratio',\n",
    "                         'nonalpha_ratio', 'exclamation_ratio', 'longest_rage_sequence', 'longest_same_char',\n",
    "                         'has_link', 'token_lengths', 'longest_token', 'mean_token_length']]\n",
    "X_val = val[['char_lengths', 'num_sentences', 'caps_ratio', 'punct_ratio', 'digit_ratio',\n",
    "             'nonalpha_ratio', 'exclamation_ratio', 'longest_rage_sequence', 'longest_same_char',\n",
    "             'has_link', 'token_lengths', 'longest_token', 'mean_token_length']]"
   ]
  },
  {
   "cell_type": "markdown",
   "metadata": {},
   "source": [
    "### Logistic Regression"
   ]
  },
  {
   "cell_type": "code",
   "execution_count": 104,
   "metadata": {},
   "outputs": [
    {
     "data": {
      "text/plain": [
       "LogisticRegression(C=0.1, class_weight='balanced', max_iter=200, n_jobs=-1,\n",
       "                   penalty='l1', solver='saga')"
      ]
     },
     "execution_count": 104,
     "metadata": {},
     "output_type": "execute_result"
    }
   ],
   "source": [
    "cls = LogisticRegression(penalty='l1', C=0.1, class_weight='balanced', solver='saga', max_iter=200, n_jobs=-1)\n",
    "cls.fit(X_train, train_train.toxic)"
   ]
  },
  {
   "cell_type": "code",
   "execution_count": 105,
   "metadata": {},
   "outputs": [
    {
     "name": "stdout",
     "output_type": "stream",
     "text": [
      "0.668651538663314\n"
     ]
    }
   ],
   "source": [
    "train_val_preds = cls.predict_proba(X_train_val)[:, 1]\n",
    "print(roc_auc_score(train_val.toxic, train_val_preds))"
   ]
  },
  {
   "cell_type": "code",
   "execution_count": 106,
   "metadata": {},
   "outputs": [
    {
     "name": "stdout",
     "output_type": "stream",
     "text": [
      "0.5851756313722665\n"
     ]
    }
   ],
   "source": [
    "val_preds = cls.predict_proba(X_val)[:, 1]\n",
    "print(roc_auc_score(val.toxic, val_preds))"
   ]
  },
  {
   "cell_type": "markdown",
   "metadata": {},
   "source": [
    "### XGBClassifier"
   ]
  },
  {
   "cell_type": "code",
   "execution_count": 107,
   "metadata": {},
   "outputs": [
    {
     "data": {
      "text/plain": [
       "XGBClassifier(base_score=0.5, booster='gbtree', colsample_bylevel=1,\n",
       "              colsample_bynode=1, colsample_bytree=1, gamma=0, gpu_id=-1,\n",
       "              importance_type='gain', interaction_constraints='',\n",
       "              learning_rate=0.300000012, max_delta_step=0, max_depth=6,\n",
       "              min_child_weight=1, missing=nan, monotone_constraints='()',\n",
       "              n_estimators=100, n_jobs=-1, num_parallel_tree=1, random_state=0,\n",
       "              reg_alpha=1, reg_lambda=0, scale_pos_weight=1, subsample=1,\n",
       "              tree_method='exact', validate_parameters=1, verbosity=None)"
      ]
     },
     "execution_count": 107,
     "metadata": {},
     "output_type": "execute_result"
    }
   ],
   "source": [
    "cls = XGBClassifier(n_jobs=-1, reg_alpha=1, reg_lambda=0)\n",
    "cls.fit(X_train, train_train.toxic)"
   ]
  },
  {
   "cell_type": "code",
   "execution_count": 108,
   "metadata": {},
   "outputs": [
    {
     "name": "stdout",
     "output_type": "stream",
     "text": [
      "0.7936171190848702\n"
     ]
    }
   ],
   "source": [
    "train_val_preds = cls.predict_proba(X_train_val)[:, 1]\n",
    "print(roc_auc_score(train_val.toxic, train_val_preds))"
   ]
  },
  {
   "cell_type": "code",
   "execution_count": 109,
   "metadata": {},
   "outputs": [
    {
     "name": "stdout",
     "output_type": "stream",
     "text": [
      "0.6848360773858846\n"
     ]
    }
   ],
   "source": [
    "val_preds = cls.predict_proba(X_val)[:, 1]\n",
    "print(roc_auc_score(val.toxic, val_preds))"
   ]
  },
  {
   "cell_type": "markdown",
   "metadata": {},
   "source": [
    "This is a win! We have definitely been able to produce a better result on the validation set. Let's find out which features are the most important."
   ]
  },
  {
   "cell_type": "markdown",
   "metadata": {},
   "source": [
    "### Feature importances"
   ]
  },
  {
   "cell_type": "code",
   "execution_count": 116,
   "metadata": {},
   "outputs": [
    {
     "name": "stdout",
     "output_type": "stream",
     "text": [
      "0: longest_token\n",
      "1: exclamation_ratio\n",
      "2: caps_ratio\n",
      "3: longest_rage_sequence\n",
      "4: mean_token_length\n",
      "5: char_lengths\n",
      "6: num_sentences\n",
      "7: punct_ratio\n",
      "8: token_lengths\n",
      "9: longest_same_char\n",
      "10: nonalpha_ratio\n",
      "11: digit_ratio\n",
      "12: has_link\n"
     ]
    }
   ],
   "source": [
    "feature_importances = np.argsort(cls.feature_importances_)[::-1]\n",
    "features = ['char_lengths', 'num_sentences', 'caps_ratio', 'punct_ratio', 'digit_ratio',\n",
    "            'nonalpha_ratio', 'exclamation_ratio', 'longest_rage_sequence', 'longest_same_char',\n",
    "            'has_link', 'token_lengths', 'longest_token', 'mean_token_length']\n",
    "\n",
    "for i, feature_id in enumerate(feature_importances):\n",
    "    print(f'{i}: {features[feature_id]}')"
   ]
  },
  {
   "cell_type": "code",
   "execution_count": null,
   "metadata": {},
   "outputs": [],
   "source": []
  }
 ],
 "metadata": {
  "kernelspec": {
   "display_name": "nlp",
   "language": "python",
   "name": "nlp"
  },
  "language_info": {
   "codemirror_mode": {
    "name": "ipython",
    "version": 3
   },
   "file_extension": ".py",
   "mimetype": "text/x-python",
   "name": "python",
   "nbconvert_exporter": "python",
   "pygments_lexer": "ipython3",
   "version": "3.6.3"
  }
 },
 "nbformat": 4,
 "nbformat_minor": 2
}

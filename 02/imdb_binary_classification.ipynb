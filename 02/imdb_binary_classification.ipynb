{
 "cells": [
  {
   "cell_type": "code",
   "execution_count": 1,
   "metadata": {},
   "outputs": [],
   "source": [
    "import os\n",
    "import numpy as np\n",
    "from typing import Sequence, List, Tuple\n",
    "\n",
    "from string import punctuation\n",
    "from nltk import word_tokenize\n",
    "from sklearn.feature_extraction.text import TfidfVectorizer\n",
    "\n",
    "from sklearn.svm import LinearSVC\n",
    "from sklearn.naive_bayes import MultinomialNB\n",
    "from sklearn.linear_model import LogisticRegression\n",
    "\n",
    "import seaborn as sns\n",
    "sns.set_style('darkgrid')\n",
    "from matplotlib import pyplot as plt\n",
    "from sklearn.metrics import classification_report, roc_auc_score, roc_curve\n",
    "\n",
    "%matplotlib inline\n",
    "\n",
    "punctuation += '«»–—…“”'"
   ]
  },
  {
   "cell_type": "markdown",
   "metadata": {},
   "source": [
    "# Data"
   ]
  },
  {
   "cell_type": "code",
   "execution_count": 2,
   "metadata": {},
   "outputs": [],
   "source": [
    "train, y_train, test, y_test = [], [], [], []\n",
    "\n",
    "for filename in os.listdir('aclImdb/train/pos'):\n",
    "    with open('aclImdb/train/pos/' + filename, 'r') as f:\n",
    "        train.append(f.read())\n",
    "        y_train.append(1)\n",
    "        \n",
    "for filename in os.listdir('aclImdb/train/neg'):\n",
    "    with open('aclImdb/train/neg/' + filename, 'r') as f:\n",
    "        train.append(f.read())\n",
    "        y_train.append(0)\n",
    "        \n",
    "for filename in os.listdir('aclImdb/test/pos'):\n",
    "    with open('aclImdb/test/pos/' + filename, 'r') as f:\n",
    "        test.append(f.read())\n",
    "        y_test.append(1)\n",
    "        \n",
    "for filename in os.listdir('aclImdb/test/neg'):\n",
    "    with open('aclImdb/test/neg/' + filename, 'r') as f:\n",
    "        test.append(f.read())\n",
    "        y_test.append(0)"
   ]
  },
  {
   "cell_type": "code",
   "execution_count": 3,
   "metadata": {},
   "outputs": [
    {
     "name": "stdout",
     "output_type": "stream",
     "text": [
      "(25000, 25000, 25000, 25000)\n"
     ]
    }
   ],
   "source": [
    "print(tuple(map(len, (train, y_train, test, y_test))))"
   ]
  },
  {
   "cell_type": "code",
   "execution_count": 4,
   "metadata": {},
   "outputs": [],
   "source": [
    "def preprocess(text: str) -> str:\n",
    "    return text.strip().lower()\n",
    "\n",
    "def tokenize(text: str) -> List[str]:\n",
    "    tokens = []\n",
    "    for token in word_tokenize(text):\n",
    "        token_stripped = token.strip(punctuation)\n",
    "        if token_stripped:\n",
    "            tokens.append(token_stripped)\n",
    "    return tokens"
   ]
  },
  {
   "cell_type": "code",
   "execution_count": 5,
   "metadata": {},
   "outputs": [],
   "source": [
    "tfidf_vectorizer = TfidfVectorizer(analyzer='word', preprocessor=preprocess,\n",
    "                                   tokenizer=tokenize, ngram_range=(1, 3),\n",
    "                                   max_df=0.75, min_df=25, max_features=10000)\n",
    "\n",
    "data = tfidf_vectorizer.fit_transform(train + test)\n",
    "X_train = data[:len(train), :]\n",
    "X_test = data[len(train):, :]"
   ]
  },
  {
   "cell_type": "code",
   "execution_count": 6,
   "metadata": {},
   "outputs": [
    {
     "name": "stdout",
     "output_type": "stream",
     "text": [
      "(25000, 10000) (25000, 10000)\n"
     ]
    }
   ],
   "source": [
    "print(X_train.todense().shape, X_test.todense().shape)"
   ]
  },
  {
   "cell_type": "markdown",
   "metadata": {},
   "source": [
    "# Manual metric calculation function"
   ]
  },
  {
   "cell_type": "code",
   "execution_count": 7,
   "metadata": {},
   "outputs": [],
   "source": [
    "def get_binary_metrics(true: Sequence[float], pred: Sequence[float]) -> Tuple[float]:\n",
    "    assert len(true) == len(pred), 'The lengths of the input arrays do not match.'\n",
    "    assert all(0. <= x <= 1. for x in true), 'The ground truth array contains values that are not between 0 and 1.'\n",
    "    assert all(0. <= x <= 1. for x in pred), 'The prediction array contains values that are not between 0 and 1.'\n",
    "    \n",
    "    tp, fp, fn = 0, 0, 0\n",
    "    \n",
    "    # In case class probabilities were given as input.\n",
    "    pred = np.round(pred)\n",
    "    \n",
    "    for t, p in zip(true, pred):\n",
    "        if t == p == 1.:\n",
    "            tp += 1\n",
    "            continue\n",
    "        \n",
    "        if t == 0. and p == 1.:\n",
    "            fp += 1\n",
    "            continue\n",
    "        \n",
    "        if t == 1. and p == 0.:\n",
    "            fn += 1\n",
    "            continue\n",
    "    \n",
    "    p = tp / (tp + fp) if tp + fp > 0 else 0\n",
    "    r = tp / (tp + fn) if tp + fn > 0 else 0\n",
    "    f1 = 2*p*r / (p + r) if p + r > 0 else 0\n",
    "    \n",
    "    return p, r, f1"
   ]
  },
  {
   "cell_type": "code",
   "execution_count": 8,
   "metadata": {},
   "outputs": [],
   "source": [
    "def print_binary_metrics(true: Sequence[float], pred: Sequence[float]):\n",
    "    p, r, f1 = get_binary_metrics(true, pred)\n",
    "    print(f'Precision:\\t{p:.2f}\\nRecall:\\t\\t{r:.2f}\\nF1-measure:\\t{f1:.2f}')"
   ]
  },
  {
   "cell_type": "markdown",
   "metadata": {},
   "source": [
    "# ROC curve visualization"
   ]
  },
  {
   "cell_type": "code",
   "execution_count": 9,
   "metadata": {},
   "outputs": [],
   "source": [
    "def print_roc_curve(true: Sequence[float], pred: Sequence[float]):\n",
    "    fpr, tpr, _ = roc_curve(true, pred)\n",
    "    plt.plot(fpr, tpr, marker='.', label='ROC curve')\n",
    "    plt.xlabel('False Positive Rate')\n",
    "    plt.ylabel('True Positive Rate')\n",
    "    plt.legend()\n",
    "    plt.show()\n",
    "    \n",
    "    print(f'Area under the ROC curve: {roc_auc_score(y_test, pred):.2f}')"
   ]
  },
  {
   "cell_type": "markdown",
   "metadata": {},
   "source": [
    "# Naïve Bayes"
   ]
  },
  {
   "cell_type": "code",
   "execution_count": 10,
   "metadata": {},
   "outputs": [
    {
     "name": "stdout",
     "output_type": "stream",
     "text": [
      "              precision    recall  f1-score   support\n",
      "\n",
      "           0       0.87      0.85      0.86     12500\n",
      "           1       0.86      0.87      0.86     12500\n",
      "\n",
      "   micro avg       0.86      0.86      0.86     25000\n",
      "   macro avg       0.86      0.86      0.86     25000\n",
      "weighted avg       0.86      0.86      0.86     25000\n",
      "\n"
     ]
    }
   ],
   "source": [
    "mnnb = MultinomialNB().fit(X_train, y_train)\n",
    "pred_mnnb = mnnb.predict_proba(X_test)[:, 1]\n",
    "\n",
    "print(classification_report(y_test, np.round(pred_mnnb)))"
   ]
  },
  {
   "cell_type": "code",
   "execution_count": 11,
   "metadata": {},
   "outputs": [
    {
     "name": "stdout",
     "output_type": "stream",
     "text": [
      "Precision:\t0.86\n",
      "Recall:\t\t0.87\n",
      "F1-measure:\t0.86\n"
     ]
    }
   ],
   "source": [
    "print_binary_metrics(y_test, pred_mnnb)"
   ]
  },
  {
   "cell_type": "code",
   "execution_count": 12,
   "metadata": {},
   "outputs": [
    {
     "data": {
      "image/png": "[encoded data removed]",
      "text/plain": [
       "<Figure size 432x288 with 1 Axes>"
      ]
     },
     "metadata": {},
     "output_type": "display_data"
    },
    {
     "name": "stdout",
     "output_type": "stream",
     "text": [
      "Area under the ROC curve: 0.94\n"
     ]
    }
   ],
   "source": [
    "print_roc_curve(y_test, pred_mnnb)"
   ]
  },
  {
   "cell_type": "markdown",
   "metadata": {},
   "source": [
    "# Logistic regression"
   ]
  },
  {
   "cell_type": "code",
   "execution_count": 13,
   "metadata": {},
   "outputs": [
    {
     "name": "stderr",
     "output_type": "stream",
     "text": [
      "/home/ALPHA/sykhrannov-ne/.virtualenvs/nlp/lib/python3.6/site-packages/sklearn/linear_model/logistic.py:433: FutureWarning: Default solver will be changed to 'lbfgs' in 0.22. Specify a solver to silence this warning.\n",
      "  FutureWarning)\n"
     ]
    },
    {
     "name": "stdout",
     "output_type": "stream",
     "text": [
      "              precision    recall  f1-score   support\n",
      "\n",
      "           0       0.90      0.89      0.89     12500\n",
      "           1       0.89      0.90      0.89     12500\n",
      "\n",
      "   micro avg       0.89      0.89      0.89     25000\n",
      "   macro avg       0.89      0.89      0.89     25000\n",
      "weighted avg       0.89      0.89      0.89     25000\n",
      "\n"
     ]
    }
   ],
   "source": [
    "logreg = LogisticRegression().fit(X_train, y_train)\n",
    "pred_logreg = logreg.predict_proba(X_test)[:, 1]\n",
    "\n",
    "print(classification_report(y_test, np.round(pred_logreg)))"
   ]
  },
  {
   "cell_type": "code",
   "execution_count": 14,
   "metadata": {},
   "outputs": [
    {
     "name": "stdout",
     "output_type": "stream",
     "text": [
      "Precision:\t0.89\n",
      "Recall:\t\t0.90\n",
      "F1-measure:\t0.89\n"
     ]
    }
   ],
   "source": [
    "print_binary_metrics(y_test, pred_logreg)"
   ]
  },
  {
   "cell_type": "code",
   "execution_count": 15,
   "metadata": {},
   "outputs": [
    {
     "data": {
      "image/png": "[encoded data removed]",
      "text/plain": [
       "<Figure size 432x288 with 1 Axes>"
      ]
     },
     "metadata": {},
     "output_type": "display_data"
    },
    {
     "name": "stdout",
     "output_type": "stream",
     "text": [
      "Area under the ROC curve: 0.96\n"
     ]
    }
   ],
   "source": [
    "print_roc_curve(y_test, pred_logreg)"
   ]
  },
  {
   "cell_type": "markdown",
   "metadata": {},
   "source": [
    "# Support vector machine classifier"
   ]
  },
  {
   "cell_type": "code",
   "execution_count": 16,
   "metadata": {},
   "outputs": [
    {
     "name": "stdout",
     "output_type": "stream",
     "text": [
      "              precision    recall  f1-score   support\n",
      "\n",
      "           0       0.89      0.89      0.89     12500\n",
      "           1       0.89      0.89      0.89     12500\n",
      "\n",
      "   micro avg       0.89      0.89      0.89     25000\n",
      "   macro avg       0.89      0.89      0.89     25000\n",
      "weighted avg       0.89      0.89      0.89     25000\n",
      "\n"
     ]
    }
   ],
   "source": [
    "svc = LinearSVC().fit(X_train, y_train)\n",
    "pred_svc = svc.predict(X_test)\n",
    "\n",
    "print(classification_report(y_test, pred_svc))"
   ]
  },
  {
   "cell_type": "code",
   "execution_count": 17,
   "metadata": {},
   "outputs": [
    {
     "name": "stdout",
     "output_type": "stream",
     "text": [
      "Precision:\t0.89\n",
      "Recall:\t\t0.89\n",
      "F1-measure:\t0.89\n"
     ]
    }
   ],
   "source": [
    "print_binary_metrics(y_test, pred_svc)"
   ]
  },
  {
   "cell_type": "code",
   "execution_count": 18,
   "metadata": {},
   "outputs": [
    {
     "data": {
      "image/png": "[encoded data removed]",
      "text/plain": [
       "<Figure size 432x288 with 1 Axes>"
      ]
     },
     "metadata": {},
     "output_type": "display_data"
    },
    {
     "name": "stdout",
     "output_type": "stream",
     "text": [
      "Area under the ROC curve: 0.89\n"
     ]
    }
   ],
   "source": [
    "# Since the SVM method does not predict class probabilities,\n",
    "# the only ROC curve we can draw only contains three points.\n",
    "\n",
    "print_roc_curve(y_test, pred_svc)"
   ]
  },
  {
   "cell_type": "markdown",
   "metadata": {},
   "source": [
    "# Class examples"
   ]
  },
  {
   "cell_type": "markdown",
   "metadata": {},
   "source": [
    "The best model by aggregated score is logistic regression. Let's take the indices of the texts with the biggest/lowest predicted probability of the positive class: these will be the indices of most positive/negative texts, according to our model. Let's look at those texts."
   ]
  },
  {
   "cell_type": "code",
   "execution_count": 19,
   "metadata": {},
   "outputs": [],
   "source": [
    "pred_logreg = sorted(list(enumerate(pred_logreg)), key = lambda x: x[1])"
   ]
  },
  {
   "cell_type": "markdown",
   "metadata": {},
   "source": [
    "## Positive examples"
   ]
  },
  {
   "cell_type": "code",
   "execution_count": 20,
   "metadata": {},
   "outputs": [
    {
     "name": "stdout",
     "output_type": "stream",
     "text": [
      "Jim Henson's The Muppet Movie is a charming, funny and brilliant film that can be watched AND enjoyed by adults and kids. I feel this is my favorite childhood film because it combines great characters, great story, and great wit that it is irresistable. The plot involves Kermit the frog (puppeteered and voiced by Henson) in his odyssey across America to follow his dream in Hollywood. Along the way, he meets Fozzie Bear, The Great Gonzo (my favorite), Miss Piggy, Rolf, and DR. Teeth and the electric mayhem.<br /><br />This film has so many good things I can't even say them. But it is memorable and every time I think of a puppet or muppet, I will think of this film. Look for cameos from Mel Brooks, Dom DeLouise, Paul Williams, Madeline Kahn, Bob Hope, Richard Pryor, Steve martin, Edgar Bergen (and Charlie McCarthey), Elliot Gould, Carol Kane and the great Orson Welles. Excellent and spectacular, one of the best films of the 70's. A++\n",
      "\n",
      "I saw this film at Telluride Film Festival in 1997, where one of the screenwriters, José Giovanni, was being honored. It ranks highly as a great noir-crime-drama, incredible performances by Belmondo and Lino Ventura. The attention given to every character, and complex psychological portrayals, detailing loyalty, treachery, love, and hope, are tremendous. It is an excellent drama, an excellent thriller, and an excellent film. Up there with the best of Melville. (The title in English 'Class all risk,' in French 'Classe tous risques' is word-play on 'Classe Touriste,' meaning 'Tourist Class'.\n",
      "\n",
      "This is a surprisingly great low budget Horror/Comedy, it's funny and pretty well made, with good performances and a really cool twist ending!. All the characters are pretty cool, and the story while unoriginal is very good, plus Eric Jungmann(Adam) and Justin Urich(Harley) had fantastic chemistry together. One of the funniest moments in the film for me is when Adam is trapped in the bathroom, and Harley wakes up to find that monster truck sitting there, and decides to take a p*ss in the truck, and Aimee Brooks is just plain sexy!, plus this is one of the best low budget Horror films I have seen in a long time. It's very gory, but in a comical way, and I thought it was very well written as well, plus Michael Bailey Smith is fantastic as the Monster Man and had some wicked makeup!. It's similar to films like Joy Ride, Duel, Jeepers Creepers, etc, etc and it has some suspenseful moments here and there, plus The gore effects are really well done for the most part. This is a surprisingly great low budget Horror/Comedy, it's funny and pretty well made, with good performances and a really cool twist ending, I highly recommend this one!. The Direction is very good!. Michael Davis does a very good! job here, with great camera work, good angles,good use of colors, and using a great setting, plus he kept the film funny and at a very fast pace.<br /><br />There is a lot of gore!. We get extremely bloody nose bleeds,gory impaling's, bloody stabbings,guy is cut in half by a monster truck, human remains in a cooked stew, guts all over the place,guys guts fall out,pencil in the eyes,bloody slit throat,bunch of people walking around without limbs,gory dead squirrel,heads are squished,severed limbs,bloody and mangled corpses,decent amount of bloodshed,one very gory scene at the very end and more!.<br /><br />The Acting is very good for a low budget film. Eric Jungmann is fantastic here as Adam, he was a nerd but a very likable one, he had fantastic chemistry with Justin Urich, had some cool lines,and I just loved his character, he also seemed to be enjoying himself,and he was especially good at the end!. Justin Urich is excellent as the ass of a Best Friend, however I just couldn't help but love him as he was very funny, and often stole a lot of the scenes, I really dug him!. Aimee Brooks is gorgeous, and did great with what she had to do, she had good chemistry with Jungmann and like Jungmann was especially good at the end, as I loved her mysterious character. Michael Bailey Smith is wonderful as The Monster Man he was very creepy looking, had some awesome makeup, and is now one of my favorite slashers!. Rest of the cast do fine.<br /><br />Overall I highly recommend this one!. ***1/2 out of 5\n",
      "\n",
      "Oh my gosh!! I love this movie sooooooooooooooooooooo much!!!!!!!!!!!!!!!!!!!!!!!!!!!!!!!!!!!! It is so incredible......I loved it as a wee babe and still love it as an adult. It is my favorite Disney movie of allllllllllllllllllllllllllllll time! You should watch it, watch it and love it. My friends and I watch it a ton.....It is soooooooooooooooooooooooooooooooooo good. I recommend it to anyone who is a child or a child at heart. My favorite part is the song and dance number with all of the strays and Thomas O'Malley. The writers/producers/director completely nailed this one.....yeah, nailed it to the wall.<br /><br />xoxo~Wolly~xoxo\n",
      "\n",
      "What a wonderful film, filled with eccentric, unique characters who are wonderfully realized by a great ensemble cast. The director also did a great job keeping the story held together, getting those wonderful performances (on not messing with them) and using music (and what wonderful music it is) to great effect. S. Epatha in the lead role is great. I had always heard what a brilliant stage actor she is, and although I have enjoyed her on Law and Order, this really shows what she can do with a filled out, complex role. Macy Gray is terrific, Mos Def, as usual, wonderful. Lou Gossett, great. Jimmy Smits, terrific, and doesn't try to pull focus because he's a star. A true piece of ensemble acting. <br /><br />Rent it, enjoy it, groove to it, and treasure it. Something special.\n",
      "\n",
      "Moving beyond words is this heart breaking story of a divorce which results in a tragic custody battle over a seven year old boy.<br /><br />One of \"Kramer v. Kramer's\" great strengths is its screenwriter director Robert Benton, who has marvellously adapted Avery Corman's novel to the big screen. He keeps things beautifully simple and most realistic, while delivering all the drama straight from the heart. His talent for telling emotional tales like this was to prove itself again with \"Places in the Heart\", where he showed, as in \"Kramer v. Kramer\", that he has a natural ability for working with children.<br /><br />The picture's other strong point is the splendid acting which deservedly received four of the film's nine Academy Award nominations, two of them walking away winners. One of those was Dustin Hoffman (Best Actor), who is superb as frustrated business man Ted Kramer, a man who has forgotten that his wife is a person. As said wife Joanne, Meryl Streep claimed the supporting actress Oscar for a strong, sensitive portrayal of a woman who had lost herself in eight years of marriage. Also nominated was Jane Alexander for her fantastic turn as the Kramer's good friend Margaret. Final word in the acting stakes must go to young Justin Henry, whose incredibly moving performance will find you choking back tears again and again, and a thoroughly deserved Oscar nomination came his way.<br /><br />Brilliant also is Nestor Almendros' cinematography and Jerry Greenberg's timely editing, while musically Henry Purcell's classical piece is used to effect.<br /><br />Truly this is a touching story of how a father and son come to depend on each other when their wife and mother leaves. They grow together, come to know each other and form an entirely new and wonderful relationship. Ted finds himself with new responsibilities and a new outlook on life, and slowly comes to realise why Joanne had to go.<br /><br />Certainly if nothing else, \"Kramer v. Kramer\" demonstrates that nobody wins when it comes to a custody battle over a young child, especially not the child himself.<br /><br />Saturday, June 10, 1995 - T.V.<br /><br />Strong drama from Avery Corman's novel about the heartache of a custody battle between estranged parents who both feel they have the child's best interests at heart. Aside from a superb screenplay and amazingly controlled direction, both from Robert Benton, it's the superlative cast that make this picture such a winner.<br /><br />Hoffman is brilliant as Ted Kramer, the man torn between his toppling career and the son whom he desperately wants to keep. Excellent too is Streep as the woman lost in eight years of marriage who had to get out before she faded to nothing as a person. In support of these two is a very strong Jane Alexander as mutual friend Margaret, an outstanding Justin Henry as the boy caught in the middle, and a top cast of extras.<br /><br />This highly emotional, heart rending drama more than deserved it's 1979 Academy Awards for best film, best actor (Hoffman) and best supporting actress (Streep).<br /><br />Wednesday, February 28, 1996 - T.V.\n",
      "\n",
      "I think this is one of the best tamil movies i've seen in a while. i love the fact that it doesn't revolve around a guy and girl falling in love and they made the movie brilliantly. The cast did a great job and i especially congratulate the litte girl. She was brilliant and really brought out the feeling of an adopted child searching for her real mother. Best of all are the songs, beautiful music and moving lyrics. There are some great songs in this move ya'll! especially 'Kannathil Mutthamittal' and 'Velai Pookal'. Great songs, both of them. I highly recommend this movie to anyone who wants to enjoy a good cry and some great acting (and superb songs! ). Cheers Simran.\n",
      "\n",
      "\"Duckman\" is a great show. I first saw it when I was 10 years old at the time and after school I rushed home and turned on Comedy Central. I saw a cartoon called \"Duckman\" and I LOVED IT!! It's such a funny and cool show. It's created by Klasky-Csupo, who are great creators of cartoons. They animated some of my favorite shows ever, like \"The Simpsons\" and \"Rugrats\".<br /><br />I've seen lots of episodes of this show and I think they're all really funny and sweet. The voice actors did a great job voicing the characters, too.<br /><br />I wish that Comedy Central could bring this show back, along with \"The Critic\" and \"Dilbert\".<br /><br />But this is a great Comedy Central show. Great job, Klasky-Csupo!\n",
      "\n",
      "When I saw this movie for the first time I was both surprised and a little shocked by the blatant vibrance of the story. It is a very artistic drama with incredible special effects, spectacular acting, not to mention a very excellent job in the makeup department. Jennifer Lopez has pulled herself out of past roles that dug into her career with this movie, portraying a very sensitive child psychologist who works with a team of engineers to enter the minds of comatose patients to treat them. Vincent D'onofrio played amazingly well. His portrayal of a sadist serial killer was perfect to a T. The sheer emotion conveyed by his performance is astounding. Vince Vaughn isn't my favorite, but still performed exceptionally well. The symbolism and artistry was intriguing and titillating, sometimes surprising, and other times shocking. Overall, I say this is a wonderful movie, with excellent acting and beautiful artwork.\n",
      "\n",
      "This is a great Valentine's Day gift. A gorgeous guy and a pretty girl fall in love while trying to beat the competition at a baking contest. Very romantic. I'm a real fan of Costas Mandylor since his days at Picket Fences and he hasn't lost his appeal. Lauren Holly is still lovely and adorable and the two still have great chemistry together. The supporting cast was good as well. Seeing all those wonderful desserts being made was a delicious sight in itself. I loved that Costas and Lauren teamed up to win in the baking competition and in love. This is the kind of film that satifies all palates, romantic and otherwise. Hallmark always shows excellence in their programming and this is no exception. The whole family can view this film. Also shows that sometimes love triumphs over any adversity. I found myself sighing and wishing for more for this film and also yearning for those wonderful desserts. I recommend this film highly for all ages. A great treat for all.\n",
      "\n",
      "This is a solid underrated little thriller, that has thrills-a plenty, with a cool story, Sandra Bullock is terrific!. All the characters are great, and I was surprised by how unpredictable it was as there were only a few predictable moments, plus Sandra Bullock is simply amazing in this!. Jeremy Northam played an awesome villain, and I know what Bullock's character in this is all about, because I'm kind of the same type of person(I hardly ever go out), plus this is pretty well made and written for the most part. This should be higher then 5.5 in my opinion, plus Denis Miller was surprisingly better then expected in his small role. The scene where Northam terrorizes Bullock on his boat was quite suspenseful, and was one of my favorite moments, and I also liked the chase scene in the carnival, plus I liked the ending too, as it was quite well done, even If i did think Northam was defeated too quickly. There are lots of other good chase scenes as well, and it's also clever at times too, plus there are quite a few shocking moments as well, This is a solid underrated little thriller, that has thrills a-plenty, with a cool story, Sandra Bullock is terrific, I highly recommend this one!. The Direction is great!. Irwin Winkler does a great! job here with excellent camera work, adding good atmosphere, good angles and keeping the film at a very fast pace. The Acting is fantastic!. Sandra Bullock is amazing as always and is amazing here, she is extremely likable, tough as nails yet quite vulnerable, and I was able to feel for her because as I said I'm sort of like Angela,I hardly ever go out, I really enjoyed her work in this movie! (Bullock Rules!!!!!!!). Jeremy Northam is excellent as the villain, he was sneaky, unpredictable and very menacing, he was great. Dennis Miller is surprisingly OK and non annoying in his small role, and managed to bring some comic relief. Rest of the cast are fine. Overall I highly recommend this one!. ***1/2 out of 5\n",
      "\n",
      "Universal Studios version of \"Flipper\" (1996) is a great heartwarming film for the entire family with good values and sentimentality. It is the story of Sandy Ricks, a teenager from Chicago who reluctantly spends his vacation with his Uncle Porter Ricks in the Bahamas. This ultimately changes the teenagers life and he grows up in the process. He learns to appreciate nature and to have a respect for the environment. I grew up in the 1960's and the NBC television show \"Flipper\" was my favorite childhood show. Elijah Wood is perfectly cast as a 1990's Sandy Ricks and gives an excellent performance. As much as I liked the NBC television show and MGM theatrical feature films with Luke Halpin as Sandy in the 1960's I liked this feature the best! I feel Elijah Wood is the best Sandy Ricks. With respect to Luke Halpin I feel Elijah Wood has more of a range of acting talent and emotes more as an actor which makes his performance excellent and more believable. I think Elijah Wood is the best young actor working today in films. Director Alan Shapiro also wrote the screenplay and has done an excellent job as both writer and director of this film. Paul Hogan gives a comical and likable performance as Sandy's Uncle Porter Ricks. Mr. Hogan's performance perfectly offsets Elijah's role as Sandy. I am a big fan of underwater films. This film was beautifully shot in the Bahamas like \"Thunderball\" (1965 UA) was. The director of photography was Bill Butler A.S.C. who lensed the film \"Jaws\" in 1975. Mr. Butler is a very talented cinematographer. The underwater director of photography was Pete Romano. He did a superb job with the underwater cinematography. I enjoyed the film score by Joel McNeely. This good film score featured Crosby, Stills and Nash among other talented artists. This motion picture was shot in Panavision like \"Thunderball\" in the aspect ratio of 2.35:1 If possible try to see this film in a scope version as originally framed and visioned by Alan Shapiro and Bill Butler. Another very nice thing is that Mr. Shapiro gave the \"original\" Sandy Ricks (Luke Halpin) a small part in this remake. He portrayed Bounty Fisherman #3 in this film. This was a very kind gesture on Mr. Shapiro's part! As you can tell I am a real true fan of this film. Sadly this beautiful film was met with harsh words by the majority of movie critics. I originally saw this movie on my birthday, May 31st of 1996 in a movie theater. It meant a lot to me. I have it on numerous video versions. The VHS versions are in \"pan and scan\". The laserdisc version is \"letterboxed\" 2.35:1! I even have a VCD in 2.35:1 from Hong Kong which is \"letterboxed\". But my most prized possession is an \"original\" 16mm theatrical feature print which I will treasure for the rest of my life! Thank you Mr. Shapiro, Elijah Wood, Paul Hogan and everyone involved for making this a memorable movie for me to enjoy!<br /><br />P.S. I must add that the quality of the Universal DVD is superb! It is the best DVD as far as quality I have ever seen. The color and resolution is spectacular. The soundtrack is great. I think Universal must have used the same transfer for the DVD that they did for the laserdisc version. The 35mm scope print is \"mint\" and Alan's film really has a wonderful look to it. A great tribute to a wonderful film! The DVD's resolution is even superior to the laserdisc quality! It's just spectacular! Thank you Universal Home Video for the great quality control and transfer. Many thank's for doing a superb job on this wonderful family film. Also many thank's to you Alan for all your extreme kindness to me!!! It's a real honor to know you!!! (Review Revised/Updated June 27, 2005)\n",
      "\n",
      "This is a great German slasher, that's often quite suspenseful, and creative, with a fun story and solid performances. All the characters are cool, and Benno Fürmann is great as the psycho killer, plus Franka Potente gives a fantastic performance as the main lead. It did take a little while to get going, but it was never boring, and it had some good death scenes as well, plus the music is wonderfully creepy. I was lucky enough to get the subtitled version, instead of the dubbed, and I thought all the characters were quite likable, plus it's very well made and written as well. It has some really good plot twists too, and the effects are extremely well done, plus the ending is great. The finale is especially suspenseful, and Franka Potente was the perfect casting choice in my opinion, plus I wish Arndt Schwering-Sohnrey(David) didn't get killed of so soon, because he was a really cool character. There were actually a couple of moments where I felt uncomfortable but in a good way, and I must say this film deserved all it's praise, plus while it does have plot holes, it's not enough to hamper the film. This is a great German slasher, that's often quite suspenseful, and creative, with a fun story, and solid performances, I highly recommend this one!. The Direction is great!. Stefan Ruzowitzky does a great! Job here with excellent camera work, very good angles, great close ups (see the opening sex scene), doing a great job of adding creepy atmosphere, and just keeping the film at a very fast pace.<br /><br />There is quite a bit of blood and gore. We get cadavers cut open,plenty of very gory surgery scenes,lots of bloody stabbings,people are dissected while still being conscious, severed finger, self mutilation, gutting's, bloody slit throat, lots of wicked looking frozen corpses, plenty of blood and more.<br /><br />The Acting is very solid!. Franka Potente is fantastic as the main lead, she was very likable, remained cool under pressure, was vulnerable, easy on the eyes, and we are able to care for her character, the only time she seemed to suffer, was when she had to spurt out some bad dialog here and there, but that wasn't very often, she was wonderful!. Benno Fürmann is excellent as the psycho killer, he was simply chilling, and wonderfully OTT, he really gave me the creeps, and was one effective killer!. Anna Loos played her role very well, as the smart slut, I dug her. Sebastian Blomberg was great here as Caspar, he was quite likable, and had a mysterious character,his chemistry with Potente was also on, and there was a great twists involving him at the end. Holger Speckhahn was good as the Idiot Phil and did his job well. Traugott Buhre is good as Prof. Grombek. Arndt Schwering-Sohnrey was great as David, he had a really cool character, and I wish he didn't get killed of so soon. Rest of the cast do fine.<br /><br />Overall I highly recommend this great German slasher!. ***1/2 out of 5\n",
      "\n",
      "Wow! Fantastic film in my opinion, i wasn't expecting it to be this good! I was captivated from start to finish- it's a very well made and educational film that really gives us a fascinating insight into the trials Darwin had to go through in order to convey his ideas to the world, chronicling his life as he writes \"Origin of the Species\"; fighting both personal demons as well as the ignorant society of the time in order to do so. He struggles hard with his mind, body and soul as personal matters get to breaking point and even his family seems to slip away...whilst the rest of the world stand against him as he knows that his findings literally shake the very foundations of their lives, culture and meaning of existence. It's a subtle movie (not over-exaggerated in any way in that typical Hollywood way, this is a BBC produced British film) yet thankfully very powerful in meaning and this is thanks to the amazing well directed scenes as well as the superb acting by Bettany. Connelly acts as more of a light supporting role but I did enjoy her in this and she's as good as to be expected as always, her chemistry alongside her husband was definitely strong and endearing, you could feel the connection, and their real-life husband/wife bond definitely shines through their performances. But the star of the show is definitely Bettany and he does a brilliant job, a very touching performance- i both understood and sympathised with him as he battled his own degrading health and impending \"insanity\" to try to understand what he has uncovered and come to terms with what it all really is and means as he found his thinking contradict his feelings, and found himself losing it all including his wife who of course was a firm believer in religion and a strict Christian whilst he was in the realm of science, two worlds which could not see eye to eye, so their relationship was at stake too.<br /><br />Anyway- a really very good, well acted emotional drama and dare I say I did shed a tear during the tragic climax which was truly heartbreaking as well as beautifully poignant and moving. The film is symbolic and very intellectually artistic as well, in fact i can't wait to watch it again as there was a lot to take in first time round which i missed. Easily one of the best films i've seen this year.\n",
      "\n",
      "This is one of Bruce's most underrated films in my opinion, its an awesome heartwarming film, with a neat story and an amazing performance from Bruce Willis!. All the characters are great, and I thought Willis and Spencer Breslin were just awesome together, plus Bruce Willis is simply amazing in this!. This is definitely one of Bruce's best comedic performances (The waaaaaaaaaamabulance thing was great) and I thought it was very well written and made as well, plus The finale is especially cool!. It's good natured and it was cool how you can see Russell's (Willis) character change throughout the film! plus the ending was pretty good. I think this should be higher then 6.0 and it's one of the best Disney films I have ever seen! plus it has many surprising moments throughout. All the characters are extremely likable, and it also has a cute love story angle too it as well, plus Bruce and Spencer Breslin both had some really funny lines (Holy Smokes!). This is one of Bruce's most underrated films in my opinion, its an awesome heartwarming film, with a neat story and an an amazing performance from Bruce Willis and I say its a must see!. The Direction is great!. Jon Turteltaub does a great job here with really good camera work, and just keeping the film at a very fast pace. The Acting is excellent!. Bruce Willis is amazing as always and is amazing here, he gives one of his best comedic performances, is hilarious had wonderful chemistry with both Spencer Breslin and Emily Mortimer, had some funny lines, and was dead on throughout the movie, he was one of the main reasons I liked this movie so much! (Willis Rules!!!!!!!). Spencer Breslin is fantastic as the younger version of Russell, he was very funny and didn't get on my nerves once, he is one of the better child actors out there!. Emily Mortimer is good as Amy and was really cute I liked her she had decent chemistry with Bruce too. Lily Tomlin is funny as Janet I liked her quite a bit. Jean Smart is good with what she had to do, which was not much. Rest of the cast do fine. Overall a must see!. **** out pf 5\n",
      "\n"
     ]
    }
   ],
   "source": [
    "pos_examples = pred_logreg[-15:]\n",
    "\n",
    "for idx, _ in pos_examples:\n",
    "    print(test[idx] + '\\n')"
   ]
  },
  {
   "cell_type": "markdown",
   "metadata": {},
   "source": [
    "## Negative examples"
   ]
  },
  {
   "cell_type": "code",
   "execution_count": 21,
   "metadata": {},
   "outputs": [
    {
     "name": "stdout",
     "output_type": "stream",
     "text": [
      "This was truly horrible. Bad acting, bad writing, bad effects, bad scripting, bad camera shots, bad filming, bad characters, bad music, bad editing, bad casting, bad storyline, bad ... well, you get the idea. It was just, just ... what's the word? Oh yeah ... BAD!\n",
      "\n",
      "This is just the same old crap that is spewed from amateur idiots who have no clue how to make a movie--gee maybe that's why it is a straight-to-video wanna-be movie!<br /><br />I guess it is my fault for actually spending money to see it (one of the worst decisions I have ever made). What a waste. I usually like B movies, some of them are actually quite good--but this is just too ridiculous and stupid to even be funny.<br /><br />The losers that made this junk deserve to be put out of business for wasting everyone's time and money making a movie that obviously doesn't even deserve to be on film! These so-called movie makers have absolutely NO talent!<br /><br />Stupid plot, horrible acting (especially the drag queens--what sicko would actually find that sexy?!), lame writing (if there even was a script--seems like the kinda bull**** someone just made up on the spot)<br /><br />What is stunning about this movie is its utter lack of anything well-done at all.<br /><br />How much attention to detail would it take to insure that every frame of a film would be so far below any reasonable standards? I don't think it would be possible to make such a bad movie intentionally, and it is inconceivable that sheer bad luck could produce such consistently awful results.<br /><br />Anyway, avoid this stink bomb at all costs!!!!!!!!!!!!!!!!\n",
      "\n",
      "As you can tell from the other comments, this movie is just about the WORST film ever made. Let me see how many different words I can use to describe it: Boring, Unbearable, Laughable, Lousy, Stupid, Horrible.....<br /><br />I could go on with such descriptions but you probably get the point.<br /><br />I would have given this a 0, if possible--bad acting, bad directing, bad production, bad plot.<br /><br />This was made in 2001 and it looks more like 1965. Very low budget, boring plot, horrible acting, really bad special effects, etc...<br /><br />I rarely ever see a Sci-Fi film I absolutely think is this bad. I mean this is pure garbage. It has nothing going for it either. As far as a \"B-movie\" this is the very bottom of the lot.<br /><br />I think I would be more entertained by staring at a blank piece of paper for 90 minutes. Junk like this gives good low-budget \"B\" movies a bad name. This makes Ed Wood movies look good.<br /><br />The thing about watching direct-to-video movies is, just when you think you've seen the worst, you see something even worse!<br /><br />DJ Perry is a horrible actor and has no individual characteristics that make him stand out.<br /><br />Avoid this waste at all costs! Oh the humanity!\n",
      "\n",
      "This was a very disappointing movie. I would definitely call this the worst movie of all time.<br /><br />The acting and writing were poor. And the jokes were not funny.<br /><br />I don't see why on earth this piece of crap was even made. I'm not a picky person and I can enjoy stupid things but this is just way too stupid and just plain awful.<br /><br />Avoid this wretched piece of garbage at all costs!\n",
      "\n",
      "I knew it was going to be awful but not this awful!!, as it's one of the most boring movies i have ever seen, not a damn thing happens!. All the characters are dull, and the story is stupid and incredibly boring!,plus The ending is especially lame!. The only reason i rented this piece of crap because i am a big fan of Michael Dudikoff, however he is wasted here, and looks extremely bored and shows no emotion what so ever!, plus i cheered out loud when the movie was over!. It's like the movie had no plot and it was all about nothing, and Ice-T is god awful(even though he is OK in some stuff), plus Dudikoff and Yvette Nipar had no chemistry together at all. There's one scene that the director tried to make emotional but he fails miserably as Yvette Nipar didn't really show all that much emotion, however there is a decent Car chase scene, but that's not enough for me to recommend this god awful film!, plus the dialog is atrocious. Avoid this movie like the plague not a damn thing happens, please avoid and trust me on this one you may thank me afterwords. The Direction is horrible!. Fred Olen Ray does a horrible job here, with shoddy camera work, laughably cheap looking set pieces, terrible angles, laughable use of stock footage, and keeping the film at an incredibly dull pace. The Acting is terrible!. Michael Dudikoff is nowhere near his usual amazing self, he looks extremely bored, and shows no emotion what so ever, his character is also extremely dull, as i can't believe he signed on for this piece of garbage, he also had no chemistry with Yvette Nipar(Dudikoff still rules!!!). Ice-T has barely anything to do and also looks bored, and he didn't convince me one bit. Hannes Jaenicke is not very good here, he had somewhat of a wimpy character, i didn't like him. Yvette Nipar is pretty but was really terrible here, she didn't show much emotion, and had no chemistry with Dudikoff, and as a result i didn't give a damn about her character!. Art Hindle,(Owen Marsh),Kathy Harren(Katharine Marsh), and the rest of the cast are bad as well. Overall Please avoid like the plague!, Fred Olen Ray and Steve Lathshaw should be ashamed of themselves!. BOMB out of 5\n",
      "\n",
      "I knew it was going to be awful but not this awful!!, as it's one of the most boring movies i have ever seen, not a damn thing happens!. All the characters are dull, and the story is stupid and incredibly boring!,plus The ending is especially lame!. The only reason i rented this piece of crap because i am a big fan of Michael Dudikoff, however he is wasted here, and looks extremely bored and shows no emotion what so ever!, plus i cheered out loud when the movie was over!. It's like the movie had no plot and it was all about nothing, and Ice-T is god awful(even though he is OK in some stuff), plus Dudikoff and Yvette Nipar had no chemistry together at all. There's one scene that the director tried to make emotional but he fails miserably as Yvette Nipar didn't really show all that much emotion, however there is a decent Car chase scene, but that's not enough for me to recommend this god awful film!, plus the dialog is atrocious. Avoid this movie like the plague not a damn thing happens, please avoid and trust me on this one you may thank me afterwords. The Direction is horrible!. Fred Olen Ray does a horrible job here, with shoddy camera work, laughably cheap looking set pieces, terrible angles, laughable use of stock footage, and keeping the film at an incredibly dull pace. The Acting is terrible!. Michael Dudikoff is nowhere near his usual amazing self, he looks extremely bored, and shows no emotion what so ever, his character is also extremely dull, as i can't believe he signed on for this piece of garbage, he also had no chemistry with Yvette Nipar(Dudikoff still rules!!!). Ice-T has barely anything to do and also looks bored, and he didn't convince me one bit. Hannes Jaenicke is not very good here, he had somewhat of a wimpy character, i didn't like him. Yvette Nipar is pretty but was really terrible here, she didn't show much emotion, and had no chemistry with Dudikoff, and as a result i didn't give a damn about her character!. Art Hindle,(Owen Marsh),Kathy Harren(Katharine Marsh), and the rest of the cast are bad as well. Overall Please avoid like the plague!, Fred Olen Ray and Steve Lathshaw should be ashamed of themselves!. BOMB out of 5\n",
      "\n",
      "I rented this movie today... worst movie EVER. It was a total waste of time and a horrible story. The acting was horrible, especially by the actress of \"Sai\". She was so bad it was ridiculous. I can't tell if it was her bad acting or because the character was just that stupid in the first place. I can't even get my mind wrapped around just how awful and pointless this whole movie was. I'm surprised someone even thought it was a good idea to FILM this movie and bother to release it.<br /><br />If you're looking for a good Vampire/Horror flick.. this is not the movie for you. Move right along! It's a waste of time and money. Heck, I wouldn't even DOWNLOAD this movie if someone PAID me.<br /><br />This movie is so bad it doesn't even deserve a \"1\". I wish I could give it a \"0\"!\n",
      "\n",
      "This is the worst movie I have ever seen. If I wasn't watching it for free, I would have never finished it. The creators of this film should be ashamed of themselves. It seems like this is supposed to be a film in the vein of Scary Movie and Date Movie (a terrible movie, but 10x better than this one), but failed miserably. The only jokes in this movie seem to be based on slapstick. A guy falls down, someone gets hit by a bus, etc. None of the ideas are clever, basically the worst premise for a movie ever. The plot (or lack thereof) is completely retarded. The plot seems to center around the coach and his family, however there are so many other things going on in the movie it is completely ridiculous. Terrible, terrible movie.\n",
      "\n",
      "...the first? Killjoy 1. But here's the review of Killjoy 2:<br /><br />(contains spoilers, so beware readers)<br /><br />Oh my. Oh, my, my, my. I'll start off with telling you that I had no hopes in the least bit that this movie would be good. Considering that Killjoy (the first movie) is without a doubt the worst movie ever made, the sequel didn't have much promise.<br /><br />As expected, it didn't deliver.<br /><br />The deaths were even lamer than in the first movie. There was absolutely no eye candy whatsoever, and every single prop looked so fake that I wouldn't be surprised if they had a kindergarten class make them.<br /><br />Look, I don't even know where to begin. Hm, for starters, the movie wasn't even feature length. It was only an hour and eight minutes long (68 min.), but then again, ending it early was actually a reprieve. In fact, that's the only reason that this movie wasn't as bad as the first, because the first was longer.<br /><br />Usually, I don't give spoilers in reviews, but since I don't want any of you to go through the torture of watching this waste of film, I'm going to spoil away. Not that there's much to spoil.<br /><br />Let's start with the ending. KILLJOY IS THE PUSSIEST KILLER EVER. It takes explosions, firebombs, guns, etc. to kill all of the normal serial killers in horror movies. Guess what it took to kill Killjoy? A F***ING GLASS OF WATER. No lie. In the end, a girl picked up a cup of water and threw the water on Killjoy's face. Then Killjoy started screaming, and they tried to make it look like his face was melting by putting dried rubber cement on his forehead. Then he laid there, and the people went to sleep.<br /><br />Now let's hit the acting. VERY TERRIBLE. Not even one person was believable in the least bit. I don't even know what to say, other than it looks like they just hired a few hobos living on the streets to act in this film.<br /><br />Seriously, I honestly doubt that they spent any more than 100 dollars total to make this movie. They had nothing. Most of it took place in the woods, which wouldn't have cost them anything to film on. The actors weren't giving in any effort whatsoever, so it's blatant that they were probably \"working\" for free. They didn't have any kind of special effects or nice props, and they probably used ketchup for the blood. Hell, who am I kidding? They probably didn't even spend 100 dollars. They probably spent $3.29 on a bottle of ketchup and that was it. A f**kin' movie made with a budget of $3.29.<br /><br />For Bob's sake, they couldn't even afford to rent a cop uniform. In the end, after Killjoy dies, the girl wakes up and says \"Where is he?\" and the main woman replies, \"He's gone.\" Then, suddenly, some fat goofy guy with scars on his face pops out of nowhere with a cell phone saying \"You have a phone call.\" The girl answers and says \"Oh, hi mom!\" and smiles. Then the fat goofy guy walks along to reveal that it's a police officer. However, he's wearing khaki pants, and a regular button up green shirt, with a lame badge on the front pocket. Hell, it was probably the badge that the director got when he was in safety patrol in 3rd grade. Then they all got into a tan blazer and drove off as the credits rolled. They couldn't even get a police cruiser so they just got a tan blazer. F**kin' lame. Killjoy didn't even have the ice cream van that he had in the first movie.<br /><br />Killjoy is without a doubt the most flamboyantly gay slasher EVER. If there was a slasher that wore hot pink spandex and carried a rainbow flag, he STILL would not be as gay as Killjoy. Killjoy isn't funny either (and believe me, he DID try to be).<br /><br />The only good thing about this movie is an extremely lame threat given by one of the delinquents. Somebody makes a comment to some boy about not passing third grade, to which the boy responds, \"I'll show you third grade!\" in a threatening manner. That has to be the absolute worst threat that I've ever heard. \"I'll show you third grade!\"<br /><br />This movie doesn't even work on a \"so bad, it's good\" level. It's filth. Unless you did something bad, and you are feeling so guilty about it that you want to punish yourself severely, DON'T watch this movie.<br /><br />Just remember; if a flaming homosexual clown with a huge black afro tries to bore you to death with gay jokes (and attempt to kill you at the same time), just throw some water at him. Case closed.<br /><br />FINAL RATING: .1 out of 10\n",
      "\n",
      "OK, I would give this a 1, but I'm gonna give it a two because I laughed while watching this film...First of all, I can make a much better movie than this one...in a week...The special effects made this film look like a joke. One shouldn't make such films with horrible special effects because then people won't take it seriously. The acting and direction was also horrible. The screenplay had many plot holes and the whole film wasn't believable at all. This has to be the worst Indian film ever. The songs were also bad. The acting was bad and artificial. Need I say more. Don't watch this movie unless you are curious to see how bad it is. That's why I watched it. I am going into film and I wanted to see how bad a bad film can get. Trust me, I watched one of the worst films in history if not THE worst film.\n",
      "\n",
      "Going to need to take a deep breath for this one...<br /><br />Terrible special effects that tried to reach far beyond the limitations of the budget. Blatant and unashamed plagiarism of other sci-fi movies (like Pitch Black). Terrible acting. Endless slow motion scenes of characters walking aimlessly across sand dunes. Meandering dialogue that does nothing to further the story. Characters wearing turtle neck sweaters on a desert planet with two suns. A \"cargo\" ship staffed by a camouflage-wearing crew of gun-toting soldiers (why exactly would you need forest-camouflage in space anyway?). Some of the worst casting choices in the history of no-budget film-making - a steroid swollen \"captain\" who comes across more like a muscle-beach jock than a trustworthy commander, and a \"convict\" who looks and acts about as dangerous as a bunny rabbit. 70 minutes in length, 35 of which could have been trimmed out if the director had any concept of \"compression of time through editing\"...<br /><br />I won't go on. Suffice it to say that while some components of this awful movie can (and should) be forgiven due to it's low budget; the bad conception, laughable plot holes, and snore-inducing script are unforgivable on *any* budget. The end result is a tedious, dull, waste of time. Sorry guys, I hate to be so harsh on an amateur film, but you've no excuse for turning out this kind of work.\n",
      "\n",
      "Horrible movie. This movie beat out revenge of the living zombies for the WORST movie I have ever suffered through. What the !@$% were the morons who made this film thinking. Was it supposed to be scary. Because man let me tall you it wasn't. It was so dumb it wasn't funny. We all know that tropical islands are the natural hunting grounds for killer snowmen. And those stupid baby snowballs. Stupid Stupid Stupid Stupid Stupid Stupid Stupid Stupid. Fake snow and lousy actors. OH and frost looks nothing like he does on the box. DO NOT WASTE YOUR TIME. REnt it and destroy it.\n",
      "\n",
      "Horrible movie. This movie beat out revenge of the living zombies for the WORST movie I have ever suffered through. What the !@$% were the morons who made this film thinking. Was it supposed to be scary. Because man let me tall you it wasn't. It was so dumb it wasn't funny. We all know that tropical islands are the natural hunting grounds for killer snowmen. And those stupid baby snowballs. Stupid Stupid Stupid Stupid Stupid Stupid Stupid Stupid. Fake snow and lousy actors. OH and frost looks nothing like he does on the box. DO NOT WASTE YOUR TIME. REnt it and destroy it.\n",
      "\n",
      "Komodo vs. Cobra starts as 'One Planet' environmentalist Jerry Ryan (Ryan McTavish) & his girlfriend Carrie (Renee Talbert) hire Captain Michael Stoddard (executive producer Michael Paré) to take them to an island in the South Pacific, at first Stoddard is reluctant since the island is a top secret military research base but soon changes his mind when a load of cash is offered. Along with TV news reporter Sandra Crescent (Jeri Manthey) they set sail for the island & once ashore find out that the military have been funding illegal DNA genetic experiments which have resulted in huge Komodo Dragon's & King Cobra's that have eaten almost every other living thing there & Stoddard & co are next on the menu...<br /><br />Co-written & directed by the ever awful Jim Wynorski under his Jay Andrews pseudonym this is just plain awful, this is just plain hard to sit through & is even worse than the usual rubbish 'Creature Features' the Sci-Fi Channel have the nerve to air if that's possible. The script is terrible, predictable & utterly boring, some giant monsters of some sort are created by scientists messing around with DNA, a group of people are trapped with said monsters & have to try to escape being eaten. That's it, that's the whole plot of Komodo vs. Cobra, maybe this was trying to rip-off AVP: Alien vs. Predator (2004) with the title but all the 'vs.' bit amounts to is a rubbish thirty second stand-off between the two titular beasts at the very end, boring as hell & surely a big disappointment to anyone hoping to have a full on monster mash. The character's are poor, the dialogue is awful, the pace is slow, the story is predictable & cliché ridden & the whole film just sucks really with a lazy script that states wrongly that both Komodo Dragon's & Cobra's are amphibious which they are not. Hell, Komodo vs. Cobra isn't even worth watching for any unintentional laughs since it's so dull & hardly anything ever happens although the sight of a woman hiding behind the smallest rock on the beach from the Cobra is quite funny for the wrong reasons.<br /><br />How does Wynorski keep getting directing jobs? He is probably consistently the worst director currently working, how can he keep getting fun sounding films set on beautiful locations with half decent casts & still churn out such an awful film? I think this was cut to get a PG or for it's TV showing since every time someone swears it's masked by a Parrot squeak! There's zero gore or violence & the monster scenes are limp, people just sort of stand there, the monsters just sort of stands there too hissing or roaring & that's about it. The CGI computer effects are terrible, this is really poor stuff that just looks horrible.<br /><br />With a supposed budget of about $450,000 this looks as cheap as it was, the Hawaiian locations are nice to look at but that's about it. The acting is poor from an uninterested looking cast.<br /><br />Komodo vs. Cobra is an absolutely terrible Sci-Fi Channel 'Creature Feature' from Jim Wynorski, films don't get much worse than this.\n",
      "\n",
      "Larry Bishop directs, writes, and leads this soft core porn, plot less biker movie about nothing to do with anything. To call this one of the worst movies of 2008 is being kind to the garbage that I spent money on while in theaters. Its one of the worst movies I have ever seen. I felt sorry for the girls mostly, who probably think they're in the making of a feature film, when in all reality they're making a porno. They walk on the set for four days, say some sexual lines to disgusting old men -- thirty years older than them -- then take off their cloths, and run around naked for the four days they're on set. I can only assume this was Larry Bishops only way to get laid. You see shot after shot directly on a girls asses. Shot after shot of Bishop walking up to some random chick and grabbing her most intimate parts, as if he were shaking her hand. How this crap was even funded is beyond me. Why Tarantino has his name on it is beyond me, but he's been slowly fading away since 1994, so I can't say I was surprised.<br /><br />After 15 minutes, you get that awful feeling that only horrible (and I mean horrible) movies give you. When you see it in theaters, the pain you feel is amplified. After 15 minutes, I wanted to cry for being so stupid, and wasting, not only my time, but my hard earned ten dollars. There isn't one redeeming quality, or one moment in the movie that creates any kind of reaction or shows any kind of inclination that these people had any idea of what they are doing. If you don't see naked women all that often, then I guess this movie would be for you. If you're eleven-years-old, you will probably like it. You can't even laugh at it, because every idiot making it was laughing about the crap they were making. The acting is awful, the writing is awful, the production is awful, and the directing is awful. It's not even worth your time renting it to see the car crash. Stay away, stay very far away. You shouldn't even be reading these reviews. I shouldn't even be writing one.\n",
      "\n"
     ]
    }
   ],
   "source": [
    "neg_examples = pred_logreg[:15]\n",
    "\n",
    "for idx, _ in neg_examples:\n",
    "    print(test[idx] + '\\n')"
   ]
  },
  {
   "cell_type": "markdown",
   "metadata": {},
   "source": [
    "Evidently, those examples are all indeed rather positive/negative."
   ]
  },
  {
   "cell_type": "code",
   "execution_count": null,
   "metadata": {},
   "outputs": [],
   "source": []
  }
 ],
 "metadata": {
  "kernelspec": {
   "display_name": "Python 3",
   "language": "python",
   "name": "python3"
  },
  "language_info": {
   "codemirror_mode": {
    "name": "ipython",
    "version": 3
   },
   "file_extension": ".py",
   "mimetype": "text/x-python",
   "name": "python",
   "nbconvert_exporter": "python",
   "pygments_lexer": "ipython3",
   "version": "3.6.8"
  }
 },
 "nbformat": 4,
 "nbformat_minor": 2
}
